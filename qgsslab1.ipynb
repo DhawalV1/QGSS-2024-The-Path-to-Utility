{
  "cells": [
    {
      "cell_type": "code",
      "execution_count": null,
      "metadata": {
        "colab": {
          "base_uri": "https://localhost:8080/"
        },
        "id": "3TdBif67xt81",
        "outputId": "4f87d401-41bd-41d8-fdea-2a04824f4db2"
      },
      "outputs": [
        {
          "name": "stdout",
          "output_type": "stream",
          "text": [
            "Requirement already satisfied: qiskit[visualization]==1.1.0 in /usr/local/lib/python3.10/dist-packages (1.1.0)\n",
            "Requirement already satisfied: rustworkx>=0.14.0 in /usr/local/lib/python3.10/dist-packages (from qiskit[visualization]==1.1.0) (0.15.1)\n",
            "Requirement already satisfied: numpy<3,>=1.17 in /usr/local/lib/python3.10/dist-packages (from qiskit[visualization]==1.1.0) (1.25.2)\n",
            "Requirement already satisfied: scipy>=1.5 in /usr/local/lib/python3.10/dist-packages (from qiskit[visualization]==1.1.0) (1.11.4)\n",
            "Requirement already satisfied: sympy>=1.3 in /usr/local/lib/python3.10/dist-packages (from qiskit[visualization]==1.1.0) (1.13.0)\n",
            "Requirement already satisfied: dill>=0.3 in /usr/local/lib/python3.10/dist-packages (from qiskit[visualization]==1.1.0) (0.3.8)\n",
            "Requirement already satisfied: python-dateutil>=2.8.0 in /usr/local/lib/python3.10/dist-packages (from qiskit[visualization]==1.1.0) (2.8.2)\n",
            "Requirement already satisfied: stevedore>=3.0.0 in /usr/local/lib/python3.10/dist-packages (from qiskit[visualization]==1.1.0) (5.2.0)\n",
            "Requirement already satisfied: typing-extensions in /usr/local/lib/python3.10/dist-packages (from qiskit[visualization]==1.1.0) (4.12.2)\n",
            "Requirement already satisfied: symengine>=0.11 in /usr/local/lib/python3.10/dist-packages (from qiskit[visualization]==1.1.0) (0.11.0)\n",
            "Requirement already satisfied: matplotlib>=3.3 in /usr/local/lib/python3.10/dist-packages (from qiskit[visualization]==1.1.0) (3.7.1)\n",
            "Requirement already satisfied: pydot in /usr/local/lib/python3.10/dist-packages (from qiskit[visualization]==1.1.0) (1.4.2)\n",
            "Requirement already satisfied: Pillow>=4.2.1 in /usr/local/lib/python3.10/dist-packages (from qiskit[visualization]==1.1.0) (9.4.0)\n",
            "Requirement already satisfied: pylatexenc>=1.4 in /usr/local/lib/python3.10/dist-packages (from qiskit[visualization]==1.1.0) (2.10)\n",
            "Requirement already satisfied: seaborn>=0.9.0 in /usr/local/lib/python3.10/dist-packages (from qiskit[visualization]==1.1.0) (0.13.1)\n",
            "Requirement already satisfied: contourpy>=1.0.1 in /usr/local/lib/python3.10/dist-packages (from matplotlib>=3.3->qiskit[visualization]==1.1.0) (1.2.1)\n",
            "Requirement already satisfied: cycler>=0.10 in /usr/local/lib/python3.10/dist-packages (from matplotlib>=3.3->qiskit[visualization]==1.1.0) (0.12.1)\n",
            "Requirement already satisfied: fonttools>=4.22.0 in /usr/local/lib/python3.10/dist-packages (from matplotlib>=3.3->qiskit[visualization]==1.1.0) (4.53.1)\n",
            "Requirement already satisfied: kiwisolver>=1.0.1 in /usr/local/lib/python3.10/dist-packages (from matplotlib>=3.3->qiskit[visualization]==1.1.0) (1.4.5)\n",
            "Requirement already satisfied: packaging>=20.0 in /usr/local/lib/python3.10/dist-packages (from matplotlib>=3.3->qiskit[visualization]==1.1.0) (24.1)\n",
            "Requirement already satisfied: pyparsing>=2.3.1 in /usr/local/lib/python3.10/dist-packages (from matplotlib>=3.3->qiskit[visualization]==1.1.0) (3.1.2)\n",
            "Requirement already satisfied: six>=1.5 in /usr/local/lib/python3.10/dist-packages (from python-dateutil>=2.8.0->qiskit[visualization]==1.1.0) (1.16.0)\n",
            "Requirement already satisfied: pandas>=1.2 in /usr/local/lib/python3.10/dist-packages (from seaborn>=0.9.0->qiskit[visualization]==1.1.0) (2.0.3)\n",
            "Requirement already satisfied: pbr!=2.1.0,>=2.0.0 in /usr/local/lib/python3.10/dist-packages (from stevedore>=3.0.0->qiskit[visualization]==1.1.0) (6.0.0)\n",
            "Requirement already satisfied: mpmath<1.4,>=1.1.0 in /usr/local/lib/python3.10/dist-packages (from sympy>=1.3->qiskit[visualization]==1.1.0) (1.3.0)\n",
            "Requirement already satisfied: pytz>=2020.1 in /usr/local/lib/python3.10/dist-packages (from pandas>=1.2->seaborn>=0.9.0->qiskit[visualization]==1.1.0) (2023.4)\n",
            "Requirement already satisfied: tzdata>=2022.1 in /usr/local/lib/python3.10/dist-packages (from pandas>=1.2->seaborn>=0.9.0->qiskit[visualization]==1.1.0) (2024.1)\n",
            "Requirement already satisfied: qiskit_aer in /usr/local/lib/python3.10/dist-packages (0.14.2)\n",
            "Requirement already satisfied: qiskit>=0.45.2 in /usr/local/lib/python3.10/dist-packages (from qiskit_aer) (1.1.0)\n",
            "Requirement already satisfied: numpy>=1.16.3 in /usr/local/lib/python3.10/dist-packages (from qiskit_aer) (1.25.2)\n",
            "Requirement already satisfied: scipy>=1.0 in /usr/local/lib/python3.10/dist-packages (from qiskit_aer) (1.11.4)\n",
            "Requirement already satisfied: psutil>=5 in /usr/local/lib/python3.10/dist-packages (from qiskit_aer) (5.9.5)\n",
            "Requirement already satisfied: rustworkx>=0.14.0 in /usr/local/lib/python3.10/dist-packages (from qiskit>=0.45.2->qiskit_aer) (0.15.1)\n",
            "Requirement already satisfied: sympy>=1.3 in /usr/local/lib/python3.10/dist-packages (from qiskit>=0.45.2->qiskit_aer) (1.13.0)\n",
            "Requirement already satisfied: dill>=0.3 in /usr/local/lib/python3.10/dist-packages (from qiskit>=0.45.2->qiskit_aer) (0.3.8)\n",
            "Requirement already satisfied: python-dateutil>=2.8.0 in /usr/local/lib/python3.10/dist-packages (from qiskit>=0.45.2->qiskit_aer) (2.8.2)\n",
            "Requirement already satisfied: stevedore>=3.0.0 in /usr/local/lib/python3.10/dist-packages (from qiskit>=0.45.2->qiskit_aer) (5.2.0)\n",
            "Requirement already satisfied: typing-extensions in /usr/local/lib/python3.10/dist-packages (from qiskit>=0.45.2->qiskit_aer) (4.12.2)\n",
            "Requirement already satisfied: symengine>=0.11 in /usr/local/lib/python3.10/dist-packages (from qiskit>=0.45.2->qiskit_aer) (0.11.0)\n",
            "Requirement already satisfied: six>=1.5 in /usr/local/lib/python3.10/dist-packages (from python-dateutil>=2.8.0->qiskit>=0.45.2->qiskit_aer) (1.16.0)\n",
            "Requirement already satisfied: pbr!=2.1.0,>=2.0.0 in /usr/local/lib/python3.10/dist-packages (from stevedore>=3.0.0->qiskit>=0.45.2->qiskit_aer) (6.0.0)\n",
            "Requirement already satisfied: mpmath<1.4,>=1.1.0 in /usr/local/lib/python3.10/dist-packages (from sympy>=1.3->qiskit>=0.45.2->qiskit_aer) (1.3.0)\n",
            "Requirement already satisfied: qiskit_ibm_runtime in /usr/local/lib/python3.10/dist-packages (0.25.0)\n",
            "Requirement already satisfied: requests>=2.19 in /usr/local/lib/python3.10/dist-packages (from qiskit_ibm_runtime) (2.31.0)\n",
            "Requirement already satisfied: requests-ntlm>=1.1.0 in /usr/local/lib/python3.10/dist-packages (from qiskit_ibm_runtime) (1.3.0)\n",
            "Requirement already satisfied: numpy>=1.13 in /usr/local/lib/python3.10/dist-packages (from qiskit_ibm_runtime) (1.25.2)\n",
            "Requirement already satisfied: urllib3>=1.21.1 in /usr/local/lib/python3.10/dist-packages (from qiskit_ibm_runtime) (2.2.2)\n",
            "Requirement already satisfied: python-dateutil>=2.8.0 in /usr/local/lib/python3.10/dist-packages (from qiskit_ibm_runtime) (2.8.2)\n",
            "Requirement already satisfied: websocket-client>=1.5.1 in /usr/local/lib/python3.10/dist-packages (from qiskit_ibm_runtime) (1.8.0)\n",
            "Requirement already satisfied: ibm-platform-services>=0.22.6 in /usr/local/lib/python3.10/dist-packages (from qiskit_ibm_runtime) (0.55.1)\n",
            "Requirement already satisfied: pydantic>=2.5.0 in /usr/local/lib/python3.10/dist-packages (from qiskit_ibm_runtime) (2.8.2)\n",
            "Requirement already satisfied: qiskit>=1.1.0 in /usr/local/lib/python3.10/dist-packages (from qiskit_ibm_runtime) (1.1.0)\n",
            "Requirement already satisfied: ibm-cloud-sdk-core<4.0.0,>=3.20.3 in /usr/local/lib/python3.10/dist-packages (from ibm-platform-services>=0.22.6->qiskit_ibm_runtime) (3.20.3)\n",
            "Requirement already satisfied: annotated-types>=0.4.0 in /usr/local/lib/python3.10/dist-packages (from pydantic>=2.5.0->qiskit_ibm_runtime) (0.7.0)\n",
            "Requirement already satisfied: pydantic-core==2.20.1 in /usr/local/lib/python3.10/dist-packages (from pydantic>=2.5.0->qiskit_ibm_runtime) (2.20.1)\n",
            "Requirement already satisfied: typing-extensions>=4.6.1 in /usr/local/lib/python3.10/dist-packages (from pydantic>=2.5.0->qiskit_ibm_runtime) (4.12.2)\n",
            "Requirement already satisfied: six>=1.5 in /usr/local/lib/python3.10/dist-packages (from python-dateutil>=2.8.0->qiskit_ibm_runtime) (1.16.0)\n",
            "Requirement already satisfied: rustworkx>=0.14.0 in /usr/local/lib/python3.10/dist-packages (from qiskit>=1.1.0->qiskit_ibm_runtime) (0.15.1)\n",
            "Requirement already satisfied: scipy>=1.5 in /usr/local/lib/python3.10/dist-packages (from qiskit>=1.1.0->qiskit_ibm_runtime) (1.11.4)\n",
            "Requirement already satisfied: sympy>=1.3 in /usr/local/lib/python3.10/dist-packages (from qiskit>=1.1.0->qiskit_ibm_runtime) (1.13.0)\n",
            "Requirement already satisfied: dill>=0.3 in /usr/local/lib/python3.10/dist-packages (from qiskit>=1.1.0->qiskit_ibm_runtime) (0.3.8)\n",
            "Requirement already satisfied: stevedore>=3.0.0 in /usr/local/lib/python3.10/dist-packages (from qiskit>=1.1.0->qiskit_ibm_runtime) (5.2.0)\n",
            "Requirement already satisfied: symengine>=0.11 in /usr/local/lib/python3.10/dist-packages (from qiskit>=1.1.0->qiskit_ibm_runtime) (0.11.0)\n",
            "Requirement already satisfied: charset-normalizer<4,>=2 in /usr/local/lib/python3.10/dist-packages (from requests>=2.19->qiskit_ibm_runtime) (3.3.2)\n",
            "Requirement already satisfied: idna<4,>=2.5 in /usr/local/lib/python3.10/dist-packages (from requests>=2.19->qiskit_ibm_runtime) (3.7)\n",
            "Requirement already satisfied: certifi>=2017.4.17 in /usr/local/lib/python3.10/dist-packages (from requests>=2.19->qiskit_ibm_runtime) (2024.7.4)\n",
            "Requirement already satisfied: cryptography>=1.3 in /usr/local/lib/python3.10/dist-packages (from requests-ntlm>=1.1.0->qiskit_ibm_runtime) (42.0.8)\n",
            "Requirement already satisfied: pyspnego>=0.4.0 in /usr/local/lib/python3.10/dist-packages (from requests-ntlm>=1.1.0->qiskit_ibm_runtime) (0.11.0)\n",
            "Requirement already satisfied: cffi>=1.12 in /usr/local/lib/python3.10/dist-packages (from cryptography>=1.3->requests-ntlm>=1.1.0->qiskit_ibm_runtime) (1.16.0)\n",
            "Requirement already satisfied: PyJWT<3.0.0,>=2.8.0 in /usr/local/lib/python3.10/dist-packages (from ibm-cloud-sdk-core<4.0.0,>=3.20.3->ibm-platform-services>=0.22.6->qiskit_ibm_runtime) (2.8.0)\n",
            "Requirement already satisfied: pbr!=2.1.0,>=2.0.0 in /usr/local/lib/python3.10/dist-packages (from stevedore>=3.0.0->qiskit>=1.1.0->qiskit_ibm_runtime) (6.0.0)\n",
            "Requirement already satisfied: mpmath<1.4,>=1.1.0 in /usr/local/lib/python3.10/dist-packages (from sympy>=1.3->qiskit>=1.1.0->qiskit_ibm_runtime) (1.3.0)\n",
            "Requirement already satisfied: pycparser in /usr/local/lib/python3.10/dist-packages (from cffi>=1.12->cryptography>=1.3->requests-ntlm>=1.1.0->qiskit_ibm_runtime) (2.22)\n",
            "Requirement already satisfied: matplotlib in /usr/local/lib/python3.10/dist-packages (3.7.1)\n",
            "Requirement already satisfied: contourpy>=1.0.1 in /usr/local/lib/python3.10/dist-packages (from matplotlib) (1.2.1)\n",
            "Requirement already satisfied: cycler>=0.10 in /usr/local/lib/python3.10/dist-packages (from matplotlib) (0.12.1)\n",
            "Requirement already satisfied: fonttools>=4.22.0 in /usr/local/lib/python3.10/dist-packages (from matplotlib) (4.53.1)\n",
            "Requirement already satisfied: kiwisolver>=1.0.1 in /usr/local/lib/python3.10/dist-packages (from matplotlib) (1.4.5)\n",
            "Requirement already satisfied: numpy>=1.20 in /usr/local/lib/python3.10/dist-packages (from matplotlib) (1.25.2)\n",
            "Requirement already satisfied: packaging>=20.0 in /usr/local/lib/python3.10/dist-packages (from matplotlib) (24.1)\n",
            "Requirement already satisfied: pillow>=6.2.0 in /usr/local/lib/python3.10/dist-packages (from matplotlib) (9.4.0)\n",
            "Requirement already satisfied: pyparsing>=2.3.1 in /usr/local/lib/python3.10/dist-packages (from matplotlib) (3.1.2)\n",
            "Requirement already satisfied: python-dateutil>=2.7 in /usr/local/lib/python3.10/dist-packages (from matplotlib) (2.8.2)\n",
            "Requirement already satisfied: six>=1.5 in /usr/local/lib/python3.10/dist-packages (from python-dateutil>=2.7->matplotlib) (1.16.0)\n",
            "Requirement already satisfied: pylatexenc in /usr/local/lib/python3.10/dist-packages (2.10)\n",
            "Requirement already satisfied: prototype-zne in /usr/local/lib/python3.10/dist-packages (1.3.1)\n",
            "Requirement already satisfied: qiskit>=0.45.1 in /usr/local/lib/python3.10/dist-packages (from prototype-zne) (1.1.0)\n",
            "Requirement already satisfied: rustworkx>=0.14.0 in /usr/local/lib/python3.10/dist-packages (from qiskit>=0.45.1->prototype-zne) (0.15.1)\n",
            "Requirement already satisfied: numpy<3,>=1.17 in /usr/local/lib/python3.10/dist-packages (from qiskit>=0.45.1->prototype-zne) (1.25.2)\n",
            "Requirement already satisfied: scipy>=1.5 in /usr/local/lib/python3.10/dist-packages (from qiskit>=0.45.1->prototype-zne) (1.11.4)\n",
            "Requirement already satisfied: sympy>=1.3 in /usr/local/lib/python3.10/dist-packages (from qiskit>=0.45.1->prototype-zne) (1.13.0)\n",
            "Requirement already satisfied: dill>=0.3 in /usr/local/lib/python3.10/dist-packages (from qiskit>=0.45.1->prototype-zne) (0.3.8)\n",
            "Requirement already satisfied: python-dateutil>=2.8.0 in /usr/local/lib/python3.10/dist-packages (from qiskit>=0.45.1->prototype-zne) (2.8.2)\n",
            "Requirement already satisfied: stevedore>=3.0.0 in /usr/local/lib/python3.10/dist-packages (from qiskit>=0.45.1->prototype-zne) (5.2.0)\n",
            "Requirement already satisfied: typing-extensions in /usr/local/lib/python3.10/dist-packages (from qiskit>=0.45.1->prototype-zne) (4.12.2)\n",
            "Requirement already satisfied: symengine>=0.11 in /usr/local/lib/python3.10/dist-packages (from qiskit>=0.45.1->prototype-zne) (0.11.0)\n",
            "Requirement already satisfied: six>=1.5 in /usr/local/lib/python3.10/dist-packages (from python-dateutil>=2.8.0->qiskit>=0.45.1->prototype-zne) (1.16.0)\n",
            "Requirement already satisfied: pbr!=2.1.0,>=2.0.0 in /usr/local/lib/python3.10/dist-packages (from stevedore>=3.0.0->qiskit>=0.45.1->prototype-zne) (6.0.0)\n",
            "Requirement already satisfied: mpmath<1.4,>=1.1.0 in /usr/local/lib/python3.10/dist-packages (from sympy>=1.3->qiskit>=0.45.1->prototype-zne) (1.3.0)\n",
            "Collecting git+https://github.com/qiskit-community/Quantum-Challenge-Grader.git\n",
            "  Cloning https://github.com/qiskit-community/Quantum-Challenge-Grader.git to /tmp/pip-req-build-khr6nrys\n",
            "  Running command git clone --filter=blob:none --quiet https://github.com/qiskit-community/Quantum-Challenge-Grader.git /tmp/pip-req-build-khr6nrys\n",
            "  Resolved https://github.com/qiskit-community/Quantum-Challenge-Grader.git to commit bcaff898473fd54f3e2668f162817947787f7268\n",
            "  Preparing metadata (setup.py) ... \u001b[?25l\u001b[?25hdone\n",
            "Requirement already satisfied: typeguard in /usr/local/lib/python3.10/dist-packages (from qc-grader==0.19.7) (4.3.0)\n",
            "Requirement already satisfied: jsonpickle==3.0.3 in /usr/local/lib/python3.10/dist-packages (from qc-grader==0.19.7) (3.0.3)\n",
            "Requirement already satisfied: ipycytoscape in /usr/local/lib/python3.10/dist-packages (from qc-grader==0.19.7) (1.3.3)\n",
            "Requirement already satisfied: plotly in /usr/local/lib/python3.10/dist-packages (from qc-grader==0.19.7) (5.15.0)\n",
            "Requirement already satisfied: networkx==3.2.1 in /usr/local/lib/python3.10/dist-packages (from qc-grader==0.19.7) (3.2.1)\n",
            "Requirement already satisfied: graphviz in /usr/local/lib/python3.10/dist-packages (from qc-grader==0.19.7) (0.20.3)\n",
            "Requirement already satisfied: ipywidgets>=7.6.0 in /usr/local/lib/python3.10/dist-packages (from ipycytoscape->qc-grader==0.19.7) (7.7.1)\n",
            "Requirement already satisfied: spectate>=1.0.0 in /usr/local/lib/python3.10/dist-packages (from ipycytoscape->qc-grader==0.19.7) (1.0.1)\n",
            "Requirement already satisfied: tenacity>=6.2.0 in /usr/local/lib/python3.10/dist-packages (from plotly->qc-grader==0.19.7) (8.5.0)\n",
            "Requirement already satisfied: packaging in /usr/local/lib/python3.10/dist-packages (from plotly->qc-grader==0.19.7) (24.1)\n",
            "Requirement already satisfied: typing-extensions>=4.10.0 in /usr/local/lib/python3.10/dist-packages (from typeguard->qc-grader==0.19.7) (4.12.2)\n",
            "Requirement already satisfied: ipykernel>=4.5.1 in /usr/local/lib/python3.10/dist-packages (from ipywidgets>=7.6.0->ipycytoscape->qc-grader==0.19.7) (5.5.6)\n",
            "Requirement already satisfied: ipython-genutils~=0.2.0 in /usr/local/lib/python3.10/dist-packages (from ipywidgets>=7.6.0->ipycytoscape->qc-grader==0.19.7) (0.2.0)\n",
            "Requirement already satisfied: traitlets>=4.3.1 in /usr/local/lib/python3.10/dist-packages (from ipywidgets>=7.6.0->ipycytoscape->qc-grader==0.19.7) (5.7.1)\n",
            "Requirement already satisfied: widgetsnbextension~=3.6.0 in /usr/local/lib/python3.10/dist-packages (from ipywidgets>=7.6.0->ipycytoscape->qc-grader==0.19.7) (3.6.7)\n",
            "Requirement already satisfied: ipython>=4.0.0 in /usr/local/lib/python3.10/dist-packages (from ipywidgets>=7.6.0->ipycytoscape->qc-grader==0.19.7) (7.34.0)\n",
            "Requirement already satisfied: jupyterlab-widgets>=1.0.0 in /usr/local/lib/python3.10/dist-packages (from ipywidgets>=7.6.0->ipycytoscape->qc-grader==0.19.7) (3.0.11)\n",
            "Requirement already satisfied: jupyter-client in /usr/local/lib/python3.10/dist-packages (from ipykernel>=4.5.1->ipywidgets>=7.6.0->ipycytoscape->qc-grader==0.19.7) (6.1.12)\n",
            "Requirement already satisfied: tornado>=4.2 in /usr/local/lib/python3.10/dist-packages (from ipykernel>=4.5.1->ipywidgets>=7.6.0->ipycytoscape->qc-grader==0.19.7) (6.3.3)\n",
            "Requirement already satisfied: setuptools>=18.5 in /usr/local/lib/python3.10/dist-packages (from ipython>=4.0.0->ipywidgets>=7.6.0->ipycytoscape->qc-grader==0.19.7) (67.7.2)\n",
            "Requirement already satisfied: jedi>=0.16 in /usr/local/lib/python3.10/dist-packages (from ipython>=4.0.0->ipywidgets>=7.6.0->ipycytoscape->qc-grader==0.19.7) (0.19.1)\n",
            "Requirement already satisfied: decorator in /usr/local/lib/python3.10/dist-packages (from ipython>=4.0.0->ipywidgets>=7.6.0->ipycytoscape->qc-grader==0.19.7) (4.4.2)\n",
            "Requirement already satisfied: pickleshare in /usr/local/lib/python3.10/dist-packages (from ipython>=4.0.0->ipywidgets>=7.6.0->ipycytoscape->qc-grader==0.19.7) (0.7.5)\n",
            "Requirement already satisfied: prompt-toolkit!=3.0.0,!=3.0.1,<3.1.0,>=2.0.0 in /usr/local/lib/python3.10/dist-packages (from ipython>=4.0.0->ipywidgets>=7.6.0->ipycytoscape->qc-grader==0.19.7) (3.0.47)\n",
            "Requirement already satisfied: pygments in /usr/local/lib/python3.10/dist-packages (from ipython>=4.0.0->ipywidgets>=7.6.0->ipycytoscape->qc-grader==0.19.7) (2.16.1)\n",
            "Requirement already satisfied: backcall in /usr/local/lib/python3.10/dist-packages (from ipython>=4.0.0->ipywidgets>=7.6.0->ipycytoscape->qc-grader==0.19.7) (0.2.0)\n",
            "Requirement already satisfied: matplotlib-inline in /usr/local/lib/python3.10/dist-packages (from ipython>=4.0.0->ipywidgets>=7.6.0->ipycytoscape->qc-grader==0.19.7) (0.1.7)\n",
            "Requirement already satisfied: pexpect>4.3 in /usr/local/lib/python3.10/dist-packages (from ipython>=4.0.0->ipywidgets>=7.6.0->ipycytoscape->qc-grader==0.19.7) (4.9.0)\n",
            "Requirement already satisfied: notebook>=4.4.1 in /usr/local/lib/python3.10/dist-packages (from widgetsnbextension~=3.6.0->ipywidgets>=7.6.0->ipycytoscape->qc-grader==0.19.7) (6.5.5)\n",
            "Requirement already satisfied: parso<0.9.0,>=0.8.3 in /usr/local/lib/python3.10/dist-packages (from jedi>=0.16->ipython>=4.0.0->ipywidgets>=7.6.0->ipycytoscape->qc-grader==0.19.7) (0.8.4)\n",
            "Requirement already satisfied: jinja2 in /usr/local/lib/python3.10/dist-packages (from notebook>=4.4.1->widgetsnbextension~=3.6.0->ipywidgets>=7.6.0->ipycytoscape->qc-grader==0.19.7) (3.1.4)\n",
            "Requirement already satisfied: pyzmq<25,>=17 in /usr/local/lib/python3.10/dist-packages (from notebook>=4.4.1->widgetsnbextension~=3.6.0->ipywidgets>=7.6.0->ipycytoscape->qc-grader==0.19.7) (24.0.1)\n",
            "Requirement already satisfied: argon2-cffi in /usr/local/lib/python3.10/dist-packages (from notebook>=4.4.1->widgetsnbextension~=3.6.0->ipywidgets>=7.6.0->ipycytoscape->qc-grader==0.19.7) (23.1.0)\n",
            "Requirement already satisfied: jupyter-core>=4.6.1 in /usr/local/lib/python3.10/dist-packages (from notebook>=4.4.1->widgetsnbextension~=3.6.0->ipywidgets>=7.6.0->ipycytoscape->qc-grader==0.19.7) (5.7.2)\n",
            "Requirement already satisfied: nbformat in /usr/local/lib/python3.10/dist-packages (from notebook>=4.4.1->widgetsnbextension~=3.6.0->ipywidgets>=7.6.0->ipycytoscape->qc-grader==0.19.7) (5.10.4)\n",
            "Requirement already satisfied: nbconvert>=5 in /usr/local/lib/python3.10/dist-packages (from notebook>=4.4.1->widgetsnbextension~=3.6.0->ipywidgets>=7.6.0->ipycytoscape->qc-grader==0.19.7) (6.5.4)\n",
            "Requirement already satisfied: nest-asyncio>=1.5 in /usr/local/lib/python3.10/dist-packages (from notebook>=4.4.1->widgetsnbextension~=3.6.0->ipywidgets>=7.6.0->ipycytoscape->qc-grader==0.19.7) (1.6.0)\n",
            "Requirement already satisfied: Send2Trash>=1.8.0 in /usr/local/lib/python3.10/dist-packages (from notebook>=4.4.1->widgetsnbextension~=3.6.0->ipywidgets>=7.6.0->ipycytoscape->qc-grader==0.19.7) (1.8.3)\n",
            "Requirement already satisfied: terminado>=0.8.3 in /usr/local/lib/python3.10/dist-packages (from notebook>=4.4.1->widgetsnbextension~=3.6.0->ipywidgets>=7.6.0->ipycytoscape->qc-grader==0.19.7) (0.18.1)\n",
            "Requirement already satisfied: prometheus-client in /usr/local/lib/python3.10/dist-packages (from notebook>=4.4.1->widgetsnbextension~=3.6.0->ipywidgets>=7.6.0->ipycytoscape->qc-grader==0.19.7) (0.20.0)\n",
            "Requirement already satisfied: nbclassic>=0.4.7 in /usr/local/lib/python3.10/dist-packages (from notebook>=4.4.1->widgetsnbextension~=3.6.0->ipywidgets>=7.6.0->ipycytoscape->qc-grader==0.19.7) (1.1.0)\n",
            "Requirement already satisfied: python-dateutil>=2.1 in /usr/local/lib/python3.10/dist-packages (from jupyter-client->ipykernel>=4.5.1->ipywidgets>=7.6.0->ipycytoscape->qc-grader==0.19.7) (2.8.2)\n",
            "Requirement already satisfied: ptyprocess>=0.5 in /usr/local/lib/python3.10/dist-packages (from pexpect>4.3->ipython>=4.0.0->ipywidgets>=7.6.0->ipycytoscape->qc-grader==0.19.7) (0.7.0)\n",
            "Requirement already satisfied: wcwidth in /usr/local/lib/python3.10/dist-packages (from prompt-toolkit!=3.0.0,!=3.0.1,<3.1.0,>=2.0.0->ipython>=4.0.0->ipywidgets>=7.6.0->ipycytoscape->qc-grader==0.19.7) (0.2.13)\n",
            "Requirement already satisfied: platformdirs>=2.5 in /usr/local/lib/python3.10/dist-packages (from jupyter-core>=4.6.1->notebook>=4.4.1->widgetsnbextension~=3.6.0->ipywidgets>=7.6.0->ipycytoscape->qc-grader==0.19.7) (4.2.2)\n",
            "Requirement already satisfied: notebook-shim>=0.2.3 in /usr/local/lib/python3.10/dist-packages (from nbclassic>=0.4.7->notebook>=4.4.1->widgetsnbextension~=3.6.0->ipywidgets>=7.6.0->ipycytoscape->qc-grader==0.19.7) (0.2.4)\n",
            "Requirement already satisfied: lxml in /usr/local/lib/python3.10/dist-packages (from nbconvert>=5->notebook>=4.4.1->widgetsnbextension~=3.6.0->ipywidgets>=7.6.0->ipycytoscape->qc-grader==0.19.7) (4.9.4)\n",
            "Requirement already satisfied: beautifulsoup4 in /usr/local/lib/python3.10/dist-packages (from nbconvert>=5->notebook>=4.4.1->widgetsnbextension~=3.6.0->ipywidgets>=7.6.0->ipycytoscape->qc-grader==0.19.7) (4.12.3)\n",
            "Requirement already satisfied: bleach in /usr/local/lib/python3.10/dist-packages (from nbconvert>=5->notebook>=4.4.1->widgetsnbextension~=3.6.0->ipywidgets>=7.6.0->ipycytoscape->qc-grader==0.19.7) (6.1.0)\n",
            "Requirement already satisfied: defusedxml in /usr/local/lib/python3.10/dist-packages (from nbconvert>=5->notebook>=4.4.1->widgetsnbextension~=3.6.0->ipywidgets>=7.6.0->ipycytoscape->qc-grader==0.19.7) (0.7.1)\n",
            "Requirement already satisfied: entrypoints>=0.2.2 in /usr/local/lib/python3.10/dist-packages (from nbconvert>=5->notebook>=4.4.1->widgetsnbextension~=3.6.0->ipywidgets>=7.6.0->ipycytoscape->qc-grader==0.19.7) (0.4)\n",
            "Requirement already satisfied: jupyterlab-pygments in /usr/local/lib/python3.10/dist-packages (from nbconvert>=5->notebook>=4.4.1->widgetsnbextension~=3.6.0->ipywidgets>=7.6.0->ipycytoscape->qc-grader==0.19.7) (0.3.0)\n",
            "Requirement already satisfied: MarkupSafe>=2.0 in /usr/local/lib/python3.10/dist-packages (from nbconvert>=5->notebook>=4.4.1->widgetsnbextension~=3.6.0->ipywidgets>=7.6.0->ipycytoscape->qc-grader==0.19.7) (2.1.5)\n",
            "Requirement already satisfied: mistune<2,>=0.8.1 in /usr/local/lib/python3.10/dist-packages (from nbconvert>=5->notebook>=4.4.1->widgetsnbextension~=3.6.0->ipywidgets>=7.6.0->ipycytoscape->qc-grader==0.19.7) (0.8.4)\n",
            "Requirement already satisfied: nbclient>=0.5.0 in /usr/local/lib/python3.10/dist-packages (from nbconvert>=5->notebook>=4.4.1->widgetsnbextension~=3.6.0->ipywidgets>=7.6.0->ipycytoscape->qc-grader==0.19.7) (0.10.0)\n",
            "Requirement already satisfied: pandocfilters>=1.4.1 in /usr/local/lib/python3.10/dist-packages (from nbconvert>=5->notebook>=4.4.1->widgetsnbextension~=3.6.0->ipywidgets>=7.6.0->ipycytoscape->qc-grader==0.19.7) (1.5.1)\n",
            "Requirement already satisfied: tinycss2 in /usr/local/lib/python3.10/dist-packages (from nbconvert>=5->notebook>=4.4.1->widgetsnbextension~=3.6.0->ipywidgets>=7.6.0->ipycytoscape->qc-grader==0.19.7) (1.3.0)\n",
            "Requirement already satisfied: fastjsonschema>=2.15 in /usr/local/lib/python3.10/dist-packages (from nbformat->notebook>=4.4.1->widgetsnbextension~=3.6.0->ipywidgets>=7.6.0->ipycytoscape->qc-grader==0.19.7) (2.20.0)\n",
            "Requirement already satisfied: jsonschema>=2.6 in /usr/local/lib/python3.10/dist-packages (from nbformat->notebook>=4.4.1->widgetsnbextension~=3.6.0->ipywidgets>=7.6.0->ipycytoscape->qc-grader==0.19.7) (4.19.2)\n",
            "Requirement already satisfied: six>=1.5 in /usr/local/lib/python3.10/dist-packages (from python-dateutil>=2.1->jupyter-client->ipykernel>=4.5.1->ipywidgets>=7.6.0->ipycytoscape->qc-grader==0.19.7) (1.16.0)\n",
            "Requirement already satisfied: argon2-cffi-bindings in /usr/local/lib/python3.10/dist-packages (from argon2-cffi->notebook>=4.4.1->widgetsnbextension~=3.6.0->ipywidgets>=7.6.0->ipycytoscape->qc-grader==0.19.7) (21.2.0)\n",
            "Requirement already satisfied: attrs>=22.2.0 in /usr/local/lib/python3.10/dist-packages (from jsonschema>=2.6->nbformat->notebook>=4.4.1->widgetsnbextension~=3.6.0->ipywidgets>=7.6.0->ipycytoscape->qc-grader==0.19.7) (23.2.0)\n",
            "Requirement already satisfied: jsonschema-specifications>=2023.03.6 in /usr/local/lib/python3.10/dist-packages (from jsonschema>=2.6->nbformat->notebook>=4.4.1->widgetsnbextension~=3.6.0->ipywidgets>=7.6.0->ipycytoscape->qc-grader==0.19.7) (2023.12.1)\n",
            "Requirement already satisfied: referencing>=0.28.4 in /usr/local/lib/python3.10/dist-packages (from jsonschema>=2.6->nbformat->notebook>=4.4.1->widgetsnbextension~=3.6.0->ipywidgets>=7.6.0->ipycytoscape->qc-grader==0.19.7) (0.35.1)\n",
            "Requirement already satisfied: rpds-py>=0.7.1 in /usr/local/lib/python3.10/dist-packages (from jsonschema>=2.6->nbformat->notebook>=4.4.1->widgetsnbextension~=3.6.0->ipywidgets>=7.6.0->ipycytoscape->qc-grader==0.19.7) (0.19.0)\n",
            "Requirement already satisfied: jupyter-server<3,>=1.8 in /usr/local/lib/python3.10/dist-packages (from notebook-shim>=0.2.3->nbclassic>=0.4.7->notebook>=4.4.1->widgetsnbextension~=3.6.0->ipywidgets>=7.6.0->ipycytoscape->qc-grader==0.19.7) (1.24.0)\n",
            "Requirement already satisfied: cffi>=1.0.1 in /usr/local/lib/python3.10/dist-packages (from argon2-cffi-bindings->argon2-cffi->notebook>=4.4.1->widgetsnbextension~=3.6.0->ipywidgets>=7.6.0->ipycytoscape->qc-grader==0.19.7) (1.16.0)\n",
            "Requirement already satisfied: soupsieve>1.2 in /usr/local/lib/python3.10/dist-packages (from beautifulsoup4->nbconvert>=5->notebook>=4.4.1->widgetsnbextension~=3.6.0->ipywidgets>=7.6.0->ipycytoscape->qc-grader==0.19.7) (2.5)\n",
            "Requirement already satisfied: webencodings in /usr/local/lib/python3.10/dist-packages (from bleach->nbconvert>=5->notebook>=4.4.1->widgetsnbextension~=3.6.0->ipywidgets>=7.6.0->ipycytoscape->qc-grader==0.19.7) (0.5.1)\n",
            "Requirement already satisfied: pycparser in /usr/local/lib/python3.10/dist-packages (from cffi>=1.0.1->argon2-cffi-bindings->argon2-cffi->notebook>=4.4.1->widgetsnbextension~=3.6.0->ipywidgets>=7.6.0->ipycytoscape->qc-grader==0.19.7) (2.22)\n",
            "Requirement already satisfied: anyio<4,>=3.1.0 in /usr/local/lib/python3.10/dist-packages (from jupyter-server<3,>=1.8->notebook-shim>=0.2.3->nbclassic>=0.4.7->notebook>=4.4.1->widgetsnbextension~=3.6.0->ipywidgets>=7.6.0->ipycytoscape->qc-grader==0.19.7) (3.7.1)\n",
            "Requirement already satisfied: websocket-client in /usr/local/lib/python3.10/dist-packages (from jupyter-server<3,>=1.8->notebook-shim>=0.2.3->nbclassic>=0.4.7->notebook>=4.4.1->widgetsnbextension~=3.6.0->ipywidgets>=7.6.0->ipycytoscape->qc-grader==0.19.7) (1.8.0)\n",
            "Requirement already satisfied: idna>=2.8 in /usr/local/lib/python3.10/dist-packages (from anyio<4,>=3.1.0->jupyter-server<3,>=1.8->notebook-shim>=0.2.3->nbclassic>=0.4.7->notebook>=4.4.1->widgetsnbextension~=3.6.0->ipywidgets>=7.6.0->ipycytoscape->qc-grader==0.19.7) (3.7)\n",
            "Requirement already satisfied: sniffio>=1.1 in /usr/local/lib/python3.10/dist-packages (from anyio<4,>=3.1.0->jupyter-server<3,>=1.8->notebook-shim>=0.2.3->nbclassic>=0.4.7->notebook>=4.4.1->widgetsnbextension~=3.6.0->ipywidgets>=7.6.0->ipycytoscape->qc-grader==0.19.7) (1.3.1)\n",
            "Requirement already satisfied: exceptiongroup in /usr/local/lib/python3.10/dist-packages (from anyio<4,>=3.1.0->jupyter-server<3,>=1.8->notebook-shim>=0.2.3->nbclassic>=0.4.7->notebook>=4.4.1->widgetsnbextension~=3.6.0->ipywidgets>=7.6.0->ipycytoscape->qc-grader==0.19.7) (1.2.2)\n"
          ]
        }
      ],
      "source": [
        "!pip install qiskit[visualization]==1.1.0\n",
        "# Use the following if you are on MacOS/zsh\n",
        "#!pip install 'qiskit[visualization]'==1.1.0\n",
        "!pip install qiskit_aer\n",
        "!pip install qiskit_ibm_runtime\n",
        "!pip install matplotlib\n",
        "!pip install pylatexenc\n",
        "!pip install prototype-zne\n",
        "!pip install git+https://github.com/qiskit-community/Quantum-Challenge-Grader.git"
      ]
    },
    {
      "cell_type": "code",
      "execution_count": null,
      "metadata": {
        "colab": {
          "base_uri": "https://localhost:8080/"
        },
        "id": "KGLOUTtcxyOc",
        "outputId": "717fab5d-f1aa-42fd-a96b-cfd5b2d88dd1"
      },
      "outputs": [
        {
          "name": "stdout",
          "output_type": "stream",
          "text": [
            "env: QXToken=e5f58bf4436b681c7c5c4bc126327c10334beada0c7eaad6b5d77f67cf59f9cd09a3c462b7edcc23920ff23e7b81ebe1ed358ffe09a9c947e5c59c4be0b77883\n"
          ]
        }
      ],
      "source": [
        "### Save API Token, if needed\n",
        "%set_env QXToken=\n",
        "# Make sure there is no space between the equal sign\n",
        "# and the beginning of your token\n",
        "# Make sure you do NOT ADD QUOTATION MARKS!!!!e5f58bf4436b681c7c5c4bc126327c10334beada0c7eaad6b5d77f67cf59f9cd09a3c462b7edcc23920ff23e7b81ebe1ed358ffe09a9c947e5c59c4be0b77883"
      ]
    },
    {
      "cell_type": "code",
      "execution_count": null,
      "metadata": {
        "id": "DxqsNzFqyW3s"
      },
      "outputs": [],
      "source": [
        "# import of required libraries and modules\n",
        "from qc_grader.challenges.qgss_2024 import *\n",
        "\n",
        "from math import pi\n",
        "from qiskit.circuit.library import QFT\n",
        "from qiskit.providers.fake_provider import GenericBackendV2, generic_backend_v2\n",
        "generic_backend_v2._NOISE_DEFAULTS[\"cx\"] = (5.99988e-06, 6.99988e-06, 1e-5, 5e-3)\n",
        "\n",
        "from qiskit import transpile, QuantumCircuit\n",
        "from qiskit.circuit import Gate\n",
        "from qiskit.converters import circuit_to_dag\n",
        "from qiskit.transpiler import CouplingMap, StagedPassManager, PassManager, AnalysisPass, TransformationPass\n",
        "from qiskit.transpiler.preset_passmanagers import generate_preset_pass_manager\n",
        "from qiskit.transpiler.preset_passmanagers.common import generate_unroll_3q, generate_embed_passmanager\n",
        "from qiskit.quantum_info import hellinger_fidelity\n",
        "from qiskit.providers.basic_provider import BasicSimulator\n",
        "from qiskit.dagcircuit import DAGCircuit\n",
        "from qiskit_ibm_runtime.fake_provider import FakeTorino\n",
        "\n",
        "# Transpiler Passes\n",
        "## Layout passes\n",
        "from qiskit.transpiler.passes.layout.csp_layout import CSPLayout\n",
        "from qiskit.transpiler.passes.layout.dense_layout import DenseLayout\n",
        "from qiskit.transpiler.passes.layout.sabre_layout import SabreLayout\n",
        "from qiskit.transpiler.passes.layout.vf2_layout import VF2Layout\n",
        "from qiskit.transpiler.passes.layout.trivial_layout import TrivialLayout\n",
        "\n",
        "## Routing passes\n",
        "from qiskit.transpiler.passes.routing.basic_swap import BasicSwap\n",
        "from qiskit.transpiler.passes.routing.lookahead_swap import LookaheadSwap\n",
        "from qiskit.transpiler.passes.routing.sabre_swap import SabreSwap\n",
        "from qiskit.transpiler.passes.routing.stochastic_swap import StochasticSwap\n",
        "from qiskit.transpiler.passes.routing.star_prerouting import StarPreRouting\n",
        "\n",
        "## Synthesis passes (passes for the translation stage)\n",
        "from qiskit.circuit import SessionEquivalenceLibrary\n",
        "from qiskit.circuit.equivalence_library import SessionEquivalenceLibrary\n",
        "from qiskit.transpiler.passes.basis.basis_translator import BasisTranslator\n",
        "from qiskit.transpiler.passes.synthesis.high_level_synthesis import HighLevelSynthesis\n",
        "### The next pass could also be considered an optimization pass.\n",
        "from qiskit.transpiler.passes.synthesis.unitary_synthesis import UnitarySynthesis\n",
        "\n",
        "## Optimization passes\n",
        "from qiskit.transpiler.passes.optimization.collect_1q_runs import Collect1qRuns\n",
        "from qiskit.transpiler.passes.optimization.collect_2q_blocks import Collect2qBlocks\n",
        "from qiskit.transpiler.passes.optimization.consolidate_blocks import ConsolidateBlocks\n",
        "from qiskit.transpiler.passes.optimization.commutative_cancellation import CommutativeCancellation"
      ]
    },
    {
      "cell_type": "code",
      "execution_count": null,
      "metadata": {
        "colab": {
          "base_uri": "https://localhost:8080/",
          "height": 340
        },
        "id": "HdCLFWTxydXA",
        "outputId": "901e3ff1-82a8-4e76-f398-28e75beac5f6"
      },
      "outputs": [
        {
          "data": {
            "text/html": [
              "<pre style=\"word-wrap: normal;white-space: pre;background: #fff0;line-height: 1.1;font-family: &quot;Courier New&quot;,Courier,monospace\">     ┌──────┐\n",
              "q_0: ┤0     ├\n",
              "     │      │\n",
              "q_1: ┤1     ├\n",
              "     │      │\n",
              "q_2: ┤2     ├\n",
              "     │      │\n",
              "q_3: ┤3     ├\n",
              "     │      │\n",
              "q_4: ┤4     ├\n",
              "     │  QFT │\n",
              "q_5: ┤5     ├\n",
              "     │      │\n",
              "q_6: ┤6     ├\n",
              "     │      │\n",
              "q_7: ┤7     ├\n",
              "     │      │\n",
              "q_8: ┤8     ├\n",
              "     │      │\n",
              "q_9: ┤9     ├\n",
              "     └──────┘</pre>"
            ],
            "text/plain": [
              "     ┌──────┐\n",
              "q_0: ┤0     ├\n",
              "     │      │\n",
              "q_1: ┤1     ├\n",
              "     │      │\n",
              "q_2: ┤2     ├\n",
              "     │      │\n",
              "q_3: ┤3     ├\n",
              "     │      │\n",
              "q_4: ┤4     ├\n",
              "     │  QFT │\n",
              "q_5: ┤5     ├\n",
              "     │      │\n",
              "q_6: ┤6     ├\n",
              "     │      │\n",
              "q_7: ┤7     ├\n",
              "     │      │\n",
              "q_8: ┤8     ├\n",
              "     │      │\n",
              "q_9: ┤9     ├\n",
              "     └──────┘"
            ]
          },
          "execution_count": 23,
          "metadata": {},
          "output_type": "execute_result"
        }
      ],
      "source": [
        "# get an abstract quantum circuit from Qiskit's library of circuits\n",
        "num_qubits = 10\n",
        "qc = QFT(num_qubits, do_swaps=False)\n",
        "qc.draw()"
      ]
    },
    {
      "cell_type": "code",
      "execution_count": null,
      "metadata": {
        "id": "rQP8xGJ12bu5"
      },
      "outputs": [],
      "source": [
        "#Hint: see https://docs.quantum.ibm.com/api/qiskit/qiskit.circuit.QuantumCircuit\n",
        "def get_qc_characteristics(qc):\n",
        "    # Your work goes here!\n",
        "    # determine the quantum circuit depth of `qc` and assign it to `depth`\n",
        "    depth = qc.depth()\n",
        "    # determine the number of qubits in `qc` and assign it to `num_qubits`\n",
        "    num_qubits = qc.num_qubits\n",
        "    # determine the operations in `qc` and assign it to `ops`\n",
        "\n",
        "\n",
        "# Iterate through the instructions in the circuit\n",
        "\n",
        "    ops = qc.count_ops()\n",
        "    # determine the number of n-qubit operations (with n larger than 1) in `qc` and assign it to `num_multi_qubit_ops`,\n",
        "    num_multi_qubit_ops = qc.num_nonlocal_gates()\n",
        "    # do not modify the next line\n",
        "    return {\"depth\":depth, \"num_qubits\":num_qubits, \"ops\":ops, \"num_multi_qubit_ops\": num_multi_qubit_ops}"
      ]
    },
    {
      "cell_type": "code",
      "execution_count": null,
      "metadata": {
        "colab": {
          "base_uri": "https://localhost:8080/"
        },
        "id": "VASQQbtQ271-",
        "outputId": "d7555125-19f7-4695-a6e9-05c5e3ce3cf3"
      },
      "outputs": [
        {
          "name": "stdout",
          "output_type": "stream",
          "text": [
            "Submitting your answer. Please wait...\n",
            "Congratulations 🎉! Your answer is correct and has been submitted.\n"
          ]
        }
      ],
      "source": [
        "# Grade your work!\n",
        "grade_lab1_ex1(get_qc_characteristics)"
      ]
    },
    {
      "cell_type": "code",
      "execution_count": null,
      "metadata": {
        "colab": {
          "base_uri": "https://localhost:8080/"
        },
        "id": "5aU9Wcra7egJ",
        "outputId": "53480f31-5d50-44c1-e473-aa1869a88d4c"
      },
      "outputs": [
        {
          "name": "stdout",
          "output_type": "stream",
          "text": [
            "Quantum circuit characteristics\n",
            "  Depth: 1\n",
            "  Number of qubits: 10\n",
            "  Operations: {'QFT': 1}\n",
            "  Number of multi-qubit Operations: 1\n"
          ]
        }
      ],
      "source": [
        "# print quantum circuit characteristics\n",
        "def print_qc_characteristics(qc):\n",
        "    characteristics = get_qc_characteristics(qc)\n",
        "    print(\"Quantum circuit characteristics\")\n",
        "    print(\"  Depth:\", characteristics['depth'])\n",
        "    print(\"  Number of qubits:\", characteristics['num_qubits'])\n",
        "    print(\"  Operations:\", dict(characteristics['ops']))\n",
        "    print(\"  Number of multi-qubit Operations:\", characteristics['num_multi_qubit_ops'])\n",
        "\n",
        "print_qc_characteristics(qc)"
      ]
    },
    {
      "cell_type": "code",
      "execution_count": null,
      "metadata": {
        "colab": {
          "base_uri": "https://localhost:8080/",
          "height": 360
        },
        "id": "ez2EHAeg9EnR",
        "outputId": "317a63c4-d89c-4c38-b10c-fd91cbb0b522"
      },
      "outputs": [
        {
          "data": {
            "text/html": [
              "<pre style=\"word-wrap: normal;white-space: pre;background: #fff0;line-height: 1.1;font-family: &quot;Courier New&quot;,Courier,monospace\">                                                                                                                                                                                                                                                                                                                                                                                                                                                                                                  ┌───┐\n",
              "q_0: ────────────────────────────────────────────────────────────────────────────────────────────────────────────────────────────────────────────────────────────────────────────────────────────────────────────────────────────────────────────────────────────────■────────────────────────────────────────────■──────────────────────────────────────■──────────────────────────────────■───────────────────────────■───────────────────────■──────────────────■─────────────■────────■───────┤ H ├\n",
              "                                                                                                                                                                                                                                                                     │                                            │                                      │                                  │                           │                       │                  │       ┌───┐ │        │P(π/2) └───┘\n",
              "q_1: ──────────────────────────────────────────────────────────────────────────────────────────────────────────────────────────────────────────────────────────────────────────────────────────────────────────────■──────────────────────────────────────■──────────┼──────────────────────────────────■─────────┼────────────────────────────■─────────┼────────────────────────■─────────┼──────────────────■────────┼──────────────■────────┼─────────■────────┼───────┤ H ├─┼────────■────────────\n",
              "                                                                                                                                                                                                                   │                                      │          │                                  │         │                            │         │                        │         │                  │        │        ┌───┐ │        │         │P(π/2)  │       └───┘ │P(π/4)               \n",
              "q_2: ─────────────────────────────────────────────────────────────────────────────────────────────────────────────────────────────────────────────────────────────────■──────────────────────────────────■─────────┼────────────────────────────■─────────┼──────────┼────────────────────────■─────────┼─────────┼───────────────────■────────┼─────────┼───────────────■────────┼─────────┼─────────■────────┼────────┼────────┤ H ├─┼────────┼─────────■────────┼─────────────■─────────────────────\n",
              "                                                                                                                                                                      │                                  │         │                            │         │          │                        │         │         │                   │        │         │         ┌───┐ │        │         │         │P(π/2)  │        │        └───┘ │P(π/4)  │                  │P(π/8)                             \n",
              "q_3: ───────────────────────────────────────────────────────────────────────────────────────────────────────────────────────────■───────────────────────────■─────────┼────────────────────────■─────────┼─────────┼───────────────────■────────┼─────────┼──────────┼───────────────■────────┼─────────┼─────────┼──────────■────────┼────────┼─────────┼─────────┤ H ├─┼────────┼─────────┼─────────■────────┼────────┼──────────────■────────┼──────────────────■───────────────────────────────────\n",
              "                                                                                                                                │                           │         │                        │         │         │                   │        │         │          │         ┌───┐ │        │         │         │          │P(π/2)  │        │         │         └───┘ │P(π/4)  │         │                  │P(π/8)  │                       │P(π/16)                                               \n",
              "q_4: ─────────────────────────────────────────────────────────────────────────────────────────■───────────────────────■─────────┼──────────────────■────────┼─────────┼───────────────■────────┼─────────┼─────────┼──────────■────────┼────────┼─────────┼──────────┼─────────┤ H ├─┼────────┼─────────┼─────────┼──────────■────────┼────────┼─────────┼───────────────■────────┼─────────┼──────────────────■────────┼───────────────────────■──────────────────────────────────────────────────────\n",
              "                                                                                              │                       │         │                  │        │         │         ┌───┐ │        │         │         │          │P(π/2)  │        │         │          │         └───┘ │P(π/4)  │         │         │                   │P(π/8)  │         │                        │P(π/16)  │                           │P(π/32)                                                                       \n",
              "q_5: ─────────────────────────────────────────────────────────────■──────────────────■────────┼──────────────■────────┼─────────┼─────────■────────┼────────┼─────────┼─────────┤ H ├─┼────────┼─────────┼─────────┼──────────■────────┼────────┼─────────┼──────────┼───────────────■────────┼─────────┼─────────┼───────────────────■────────┼─────────┼────────────────────────■─────────┼───────────────────────────■──────────────────────────────────────────────────────────────────────────────\n",
              "                                                                  │                  │        │        ┌───┐ │        │         │         │P(π/2)  │        │         │         └───┘ │P(π/4)  │         │         │                   │P(π/8)  │         │          │                        │P(π/16)  │         │                            │P(π/32)  │                                  │P(π/64)                                                                                                   \n",
              "q_6: ──────────────────────────────────────■─────────────■────────┼─────────■────────┼────────┼────────┤ H ├─┼────────┼─────────┼─────────■────────┼────────┼─────────┼───────────────■────────┼─────────┼─────────┼───────────────────■────────┼─────────┼──────────┼────────────────────────■─────────┼─────────┼────────────────────────────■─────────┼──────────────────────────────────■──────────────────────────────────────────────────────────────────────────────────────────────────────────\n",
              "                                           │       ┌───┐ │        │         │P(π/2)  │        │        └───┘ │P(π/4)  │         │                  │P(π/8)  │         │                        │P(π/16)  │         │                            │P(π/32)  │          │                                  │P(π/64)  │                                      │P(π/128)                                                                                                                                     \n",
              "q_7: ────────────────────■────────■────────┼───────┤ H ├─┼────────┼─────────■────────┼────────┼──────────────■────────┼─────────┼──────────────────■────────┼─────────┼────────────────────────■─────────┼─────────┼────────────────────────────■─────────┼──────────┼──────────────────────────────────■─────────┼──────────────────────────────────────■─────────────────────────────────────────────────────────────────────────────────────────────────────────────────────────────────────────────\n",
              "                   ┌───┐ │        │P(π/2)  │       └───┘ │P(π/4)  │                  │P(π/8)  │                       │P(π/16)  │                           │P(π/32)  │                                  │P(π/64)  │                                      │P(π/128)  │                                            │P(π/256)                                                                                                                                                                            \n",
              "q_8: ──────■───────┤ H ├─┼────────■────────┼─────────────■────────┼──────────────────■────────┼───────────────────────■─────────┼───────────────────────────■─────────┼──────────────────────────────────■─────────┼──────────────────────────────────────■──────────┼────────────────────────────────────────────■────────────────────────────────────────────────────────────────────────────────────────────────────────────────────────────────────────────────────────────────────────────────────\n",
              "     ┌───┐ │P(π/2) └───┘ │P(π/4)           │P(π/8)                │P(π/16)                    │P(π/32)                          │P(π/64)                              │P(π/128)                                    │P(π/256)                                         │P(π/512)                                                                                                                                                                                                                         \n",
              "q_9: ┤ H ├─■─────────────■─────────────────■──────────────────────■───────────────────────────■─────────────────────────────────■─────────────────────────────────────■────────────────────────────────────────────■─────────────────────────────────────────────────■─────────────────────────────────────────────────────────────────────────────────────────────────────────────────────────────────────────────────────────────────────────────────────────────────────────────────────────────────\n",
              "     └───┘                                                                                                                                                                                                                                                                                                                                                                                                                                                                                             </pre>"
            ],
            "text/plain": [
              "                                                                                                                                                                                                                                                                                                                                                                                                                                                                                                  ┌───┐\n",
              "q_0: ────────────────────────────────────────────────────────────────────────────────────────────────────────────────────────────────────────────────────────────────────────────────────────────────────────────────────────────────────────────────────────────────■────────────────────────────────────────────■──────────────────────────────────────■──────────────────────────────────■───────────────────────────■───────────────────────■──────────────────■─────────────■────────■───────┤ H ├\n",
              "                                                                                                                                                                                                                                                                     │                                            │                                      │                                  │                           │                       │                  │       ┌───┐ │        │P(π/2) └───┘\n",
              "q_1: ──────────────────────────────────────────────────────────────────────────────────────────────────────────────────────────────────────────────────────────────────────────────────────────────────────────────■──────────────────────────────────────■──────────┼──────────────────────────────────■─────────┼────────────────────────────■─────────┼────────────────────────■─────────┼──────────────────■────────┼──────────────■────────┼─────────■────────┼───────┤ H ├─┼────────■────────────\n",
              "                                                                                                                                                                                                                   │                                      │          │                                  │         │                            │         │                        │         │                  │        │        ┌───┐ │        │         │P(π/2)  │       └───┘ │P(π/4)               \n",
              "q_2: ─────────────────────────────────────────────────────────────────────────────────────────────────────────────────────────────────────────────────────────────────■──────────────────────────────────■─────────┼────────────────────────────■─────────┼──────────┼────────────────────────■─────────┼─────────┼───────────────────■────────┼─────────┼───────────────■────────┼─────────┼─────────■────────┼────────┼────────┤ H ├─┼────────┼─────────■────────┼─────────────■─────────────────────\n",
              "                                                                                                                                                                      │                                  │         │                            │         │          │                        │         │         │                   │        │         │         ┌───┐ │        │         │         │P(π/2)  │        │        └───┘ │P(π/4)  │                  │P(π/8)                             \n",
              "q_3: ───────────────────────────────────────────────────────────────────────────────────────────────────────────────────────────■───────────────────────────■─────────┼────────────────────────■─────────┼─────────┼───────────────────■────────┼─────────┼──────────┼───────────────■────────┼─────────┼─────────┼──────────■────────┼────────┼─────────┼─────────┤ H ├─┼────────┼─────────┼─────────■────────┼────────┼──────────────■────────┼──────────────────■───────────────────────────────────\n",
              "                                                                                                                                │                           │         │                        │         │         │                   │        │         │          │         ┌───┐ │        │         │         │          │P(π/2)  │        │         │         └───┘ │P(π/4)  │         │                  │P(π/8)  │                       │P(π/16)                                               \n",
              "q_4: ─────────────────────────────────────────────────────────────────────────────────────────■───────────────────────■─────────┼──────────────────■────────┼─────────┼───────────────■────────┼─────────┼─────────┼──────────■────────┼────────┼─────────┼──────────┼─────────┤ H ├─┼────────┼─────────┼─────────┼──────────■────────┼────────┼─────────┼───────────────■────────┼─────────┼──────────────────■────────┼───────────────────────■──────────────────────────────────────────────────────\n",
              "                                                                                              │                       │         │                  │        │         │         ┌───┐ │        │         │         │          │P(π/2)  │        │         │          │         └───┘ │P(π/4)  │         │         │                   │P(π/8)  │         │                        │P(π/16)  │                           │P(π/32)                                                                       \n",
              "q_5: ─────────────────────────────────────────────────────────────■──────────────────■────────┼──────────────■────────┼─────────┼─────────■────────┼────────┼─────────┼─────────┤ H ├─┼────────┼─────────┼─────────┼──────────■────────┼────────┼─────────┼──────────┼───────────────■────────┼─────────┼─────────┼───────────────────■────────┼─────────┼────────────────────────■─────────┼───────────────────────────■──────────────────────────────────────────────────────────────────────────────\n",
              "                                                                  │                  │        │        ┌───┐ │        │         │         │P(π/2)  │        │         │         └───┘ │P(π/4)  │         │         │                   │P(π/8)  │         │          │                        │P(π/16)  │         │                            │P(π/32)  │                                  │P(π/64)                                                                                                   \n",
              "q_6: ──────────────────────────────────────■─────────────■────────┼─────────■────────┼────────┼────────┤ H ├─┼────────┼─────────┼─────────■────────┼────────┼─────────┼───────────────■────────┼─────────┼─────────┼───────────────────■────────┼─────────┼──────────┼────────────────────────■─────────┼─────────┼────────────────────────────■─────────┼──────────────────────────────────■──────────────────────────────────────────────────────────────────────────────────────────────────────────\n",
              "                                           │       ┌───┐ │        │         │P(π/2)  │        │        └───┘ │P(π/4)  │         │                  │P(π/8)  │         │                        │P(π/16)  │         │                            │P(π/32)  │          │                                  │P(π/64)  │                                      │P(π/128)                                                                                                                                     \n",
              "q_7: ────────────────────■────────■────────┼───────┤ H ├─┼────────┼─────────■────────┼────────┼──────────────■────────┼─────────┼──────────────────■────────┼─────────┼────────────────────────■─────────┼─────────┼────────────────────────────■─────────┼──────────┼──────────────────────────────────■─────────┼──────────────────────────────────────■─────────────────────────────────────────────────────────────────────────────────────────────────────────────────────────────────────────────\n",
              "                   ┌───┐ │        │P(π/2)  │       └───┘ │P(π/4)  │                  │P(π/8)  │                       │P(π/16)  │                           │P(π/32)  │                                  │P(π/64)  │                                      │P(π/128)  │                                            │P(π/256)                                                                                                                                                                            \n",
              "q_8: ──────■───────┤ H ├─┼────────■────────┼─────────────■────────┼──────────────────■────────┼───────────────────────■─────────┼───────────────────────────■─────────┼──────────────────────────────────■─────────┼──────────────────────────────────────■──────────┼────────────────────────────────────────────■────────────────────────────────────────────────────────────────────────────────────────────────────────────────────────────────────────────────────────────────────────────────────\n",
              "     ┌───┐ │P(π/2) └───┘ │P(π/4)           │P(π/8)                │P(π/16)                    │P(π/32)                          │P(π/64)                              │P(π/128)                                    │P(π/256)                                         │P(π/512)                                                                                                                                                                                                                         \n",
              "q_9: ┤ H ├─■─────────────■─────────────────■──────────────────────■───────────────────────────■─────────────────────────────────■─────────────────────────────────────■────────────────────────────────────────────■─────────────────────────────────────────────────■─────────────────────────────────────────────────────────────────────────────────────────────────────────────────────────────────────────────────────────────────────────────────────────────────────────────────────────────────\n",
              "     └───┘                                                                                                                                                                                                                                                                                                                                                                                                                                                                                             "
            ]
          },
          "execution_count": 27,
          "metadata": {},
          "output_type": "execute_result"
        }
      ],
      "source": [
        "qc_dec = qc.decompose()\n",
        "get_qc_characteristics(qc_dec)\n",
        "qc_dec.draw(fold=-1)"
      ]
    },
    {
      "cell_type": "code",
      "execution_count": null,
      "metadata": {
        "colab": {
          "base_uri": "https://localhost:8080/"
        },
        "id": "lxx1PlIH9j85",
        "outputId": "08f52aaf-6cac-4bf4-f8fc-b374b7827402"
      },
      "outputs": [
        {
          "name": "stdout",
          "output_type": "stream",
          "text": [
            "Supported basis gates: ['cx', 'id', 'rz', 'sx', 'x', 'reset', 'delay', 'measure']\n"
          ]
        }
      ],
      "source": [
        "backend = GenericBackendV2(num_qubits)\n",
        "print(\"Supported basis gates:\", backend.operation_names)\n",
        "\n"
      ]
    },
    {
      "cell_type": "code",
      "execution_count": null,
      "metadata": {
        "colab": {
          "base_uri": "https://localhost:8080/",
          "height": 376
        },
        "id": "NsdnHyBX9qge",
        "outputId": "f43fa1b7-9b36-4bf8-8024-b07f174fc3b2"
      },
      "outputs": [
        {
          "data": {
            "text/html": [
              "<pre style=\"word-wrap: normal;white-space: pre;background: #fff0;line-height: 1.1;font-family: &quot;Courier New&quot;,Courier,monospace\">global phase: 0\n",
              "                                                                                                                                                                                                                                                                                                       ┌───┐    ┌────────────┐                        ┌───┐┌───────────┐              ┌───┐     ┌────────────┐                            ┌───┐     ┌───────────┐                       ┌───┐   ┌───────────┐    ┌───┐    ┌──────────┐                           ┌───┐    ┌───────────┐    ┌───┐     ┌──────────┐                                                ┌───┐┌───────────┐                               ┌───┐┌──────────┐                     ┌───┐     ┌──────────┐    ┌───┐     ┌─────────┐              ┌───┐┌──────────┐                  ┌───┐┌──────────┐┌────┐┌──────────┐                                                                                                                                                                 \n",
              "q_2 -> 0 ──────────────────────────────────────────────────────────────────────────────────────────────────────────────────────────────────────────────────────────────────────────────────────────────────────────────────────────────────────────────────────────────────────────────────────────────┤ X ├────┤ Rz(-π/256) ├────────────────────────┤ X ├┤ Rz(π/256) ├──────────────┤ X ├─────┤ Rz(-π/128) ├────────────────────────────┤ X ├─────┤ Rz(π/128) ├───────────────────────┤ X ├───┤ Rz(-π/64) ├────┤ X ├────┤ Rz(π/64) ├───────────────────────────┤ X ├────┤ Rz(-π/32) ├────┤ X ├─────┤ Rz(π/32) ├────────────────────────────────────────────────┤ X ├┤ Rz(-π/16) ├───────────────────────────────┤ X ├┤ Rz(π/16) ├─────────────────────┤ X ├─────┤ Rz(-π/8) ├────┤ X ├─────┤ Rz(π/8) ├──────────────┤ X ├┤ Rz(-π/4) ├──────────────────┤ X ├┤ Rz(3π/4) ├┤ √X ├┤ Rz(7π/8) ├──────────────────────■───────────────────────■────────────────────■────────────────────────────■────────────────────────────────────────────────────────────────\n",
              "                                                                                                                         ┌───┐┌───────────┐            ┌───┐┌──────────┐             ┌───┐┌──────────┐              ┌───┐┌─────────┐    ┌───┐    ┌──────────┐┌───┐ ┌──────────┐ ┌────┐┌───────────┐    └─┬─┘    └────────────┘                        └─┬─┘└───────────┘              └─┬─┘     └────────────┘                            └─┬─┘     └───────────┘                       └─┬─┘   └───────────┘    └─┬─┘    └──────────┘                           └─┬─┘    └───────────┘    └─┬─┘     └──────────┘                                                └─┬─┘└───────────┘                               └─┬─┘└──────────┘                     └─┬─┘     └──────────┘    └─┬─┘     └─────────┘              └─┬─┘└──────────┘                  └─┬─┘└──────────┘└────┘└──────────┘                      │                       │                    │                            │                                                                \n",
              "q_6 -> 1 ────────────────────────────────────────────────────────────────────────────────────────────────────────────────┤ X ├┤ Rz(-π/16) ├────────────┤ X ├┤ Rz(π/16) ├─────────────┤ X ├┤ Rz(-π/8) ├──────────────┤ X ├┤ Rz(π/8) ├────┤ X ├────┤ Rz(-π/4) ├┤ X ├─┤ Rz(3π/4) ├─┤ √X ├┤ Rz(3.117) ├──────┼──────────────────────────────────────────────┼─────────────────■─────────────┼───────────────────────■─────────────■─────────────┼────────────────────────────────■────────────┼───────────■────────────┼───────────────────────────────────────■───────■─────────────────────────■──────────────────────────────────────────────■──────────────────────┼────────■────────────────■──────────────────────┼────────────────────────■────────────┼─────────────────────────┼──────────────────────────────────┼──────────────────────────────────┼──────────────────────────────────────────────────────┼───────────────────────┼────────────────────┼────────────────────────────┼────────────────────────────────────────────────────────────────\n",
              "                                                                          ┌───┐┌──────────┐              ┌───┐┌─────────┐└─┬─┘└───┬───┬───┘┌──────────┐└─┬─┘└──┬───┬───┘ ┌──────────┐└─┬─┘└──┬────┬──┘┌────────────┐└─┬─┘└─────────┘    └─┬─┘    └──────────┘└─┬─┘ └──────────┘ └────┘└───────────┘      │                                              │                 │             │                       │             │             │                                │            │           │            │                                       │                                                                                │                      │        │                │                      │                        │            │                         │                                  │                                  │                                                      │                       │                    │                            │                                                                \n",
              "q_7 -> 2 ─────────────────────────────────────────────────────────────────┤ X ├┤ Rz(-π/8) ├──────────────┤ X ├┤ Rz(π/8) ├──┼──────┤ X ├────┤ Rz(-π/4) ├──┼─────┤ X ├─────┤ Rz(3π/4) ├──┼─────┤ √X ├───┤ Rz(3.1293) ├──┼───────────────────■────────────────────■──────────────────■──────────────────────┼──────────────────────────■───────────■───────┼─────────────────┼────■────────┼───────────────────────┼────■────────┼─────────────┼───────────────────────■────────┼────────────■───────────┼────────────■──────────────────────────────────■────┼──────────────────────────────────────────────■───────────■─────────────────────┼────■─────────────────┼────────┼────────────────┼──────────────────────┼────────────────────────┼────────────┼─────────────────────────┼──────────────────────────────────┼──────────────────────────────────┼──────────────────────────────────────────────────────┼───────────────────────┼────────────────────┼────────────────────────────┼────────────────────────────────────────────────────────────────\n",
              "                                                                          └─┬─┘└──────────┘              └─┬─┘└─────────┘  │      └─┬─┘    └──────────┘  │     └─┬─┘     └──────────┘  │     ├───┬┘   ├───────────┬┘  │                 ┌───┐    ┌──────────┐┌───┐┌───────────┐   │       ┌───┐          │       ┌──────────┐       │         ┌─┴─┐     │  ┌───────────┐  │  ┌─┴─┐      │        ┌──────────┐   │    │      ┌─┴─┐           │        ┌──────────┐   │      ┌─┴─┐     ┌─────────┐      │          ┌───┐    ┌──────────┐                │    │     ┌───┐     ┌──────────┐    ┌────┐         │           │     ┌────────────┐  │    │                 │        │                │                      │                        │            │                         │                                  │                                  │                                                      │                       │                    │                            │                                                                \n",
              "q_4 -> 3 ───────────────────────────────────────────────────────────────────┼──────────────────────────────┼───────────────┼────────┼────────────────────┼───────┼─────────────────────┼─────┤ X ├────┤ Rz(-π/64) ├───┼─────────────────┤ X ├────┤ Rz(π/64) ├┤ X ├┤ Rz(-π/32) ├───┼───────┤ X ├──────────┼───────┤ Rz(π/32) ├───────┼─────────┤ X ├─────┼──┤ Rz(-π/16) ├──┼──┤ X ├──────┼────────┤ Rz(π/16) ├───┼────┼──────┤ X ├───────────┼────────┤ Rz(-π/8) ├───┼──────┤ X ├─────┤ Rz(π/8) ├──────┼──────────┤ X ├────┤ Rz(-π/4) ├────────────────┼────┼─────┤ X ├─────┤ Rz(3π/4) ├────┤ √X ├─────────┼───────────┼─────┤ Rz(3.0434) ├──┼────┼─────────────────┼────────┼────────■───────┼──────────────────────┼────────────────■───────┼────────────■─────────────────────────■────────────■─────────────────────┼───────■────────■─────────────────┼────────────────■─────────────────────────────────────┼───────────────────────┼────────────────────┼────────────────────────────┼────────────────────────────────────────────────────────────────\n",
              "                                        ┌───┐┌──────────┐┌───┐┌──────────┐  │     ┌────┐   ┌────────────┐  │               │        │                    │       │                     │     └─┬─┘    └───────────┘   │                 └─┬─┘    └──────────┘└─┬─┘└───────────┘   │       └─┬─┘          │       └──────────┘       │         └───┘     │  └───────────┘  │  └───┘      │        └──────────┘   │    │      └───┘           │        └──────────┘   │      └───┘     └─────────┘      │          └─┬─┘    └──────────┘                │    │     └─┬─┘     └──────────┘    └────┘         │           │     └────────────┘  │    │                 │        │        │       │                      │                │       │                                                   │                     │       │        │                 │                │                                     │                       │                    │                            │                                                                \n",
              "q_8 -> 4 ───────────────────────────────┤ X ├┤ Rz(-π/4) ├┤ X ├┤ Rz(3π/4) ├──┼─────┤ √X ├───┤ Rz(3.1355) ├──┼───────────────┼────────■────────────────────┼───────■─────────────────────■───────┼──────────────────────■───────■───────────┼───────────■────────■──────────────────┼─────────■────────────┼────────────■─────────────┼───────────────────┼─────────────────┼────■────────■───────────────────────┼────┼──────────────────────■─────────────■─────────┼─────────────────────■───────────┼────────────┼───────────■──────────────────────┼────┼───────┼────────────■─────────────────────────┼───────────┼─────────────────────┼────┼─────────────────┼────────┼────────┼───────┼──────────────────────┼────────────────┼───────┼───────────────────────────────────────────────────┼─────────────────────┼───────┼────────┼─────────────────┼────────────────┼─────────────────────────────────────┼───────────────────────┼────────────────────┼────────────────────────────┼────────────────────────────────────────────────────────────────\n",
              "                                        └─┬─┘└──────────┘└─┬─┘└──────────┘  │     └────┘   └────────────┘  │               │                             │                                     │                              │           │           │                           │                      │            │             │                   │      ┌───┐      │    │  ┌────────────┐    ┌───┐       │    │  ┌───────────┐                   ┌─┴─┐       │  ┌────────────┐   ┌─┴─┐         │            │           │      ┌───────────┐ ┌─┴─┐  │       │            │      ┌────────────┐   ┌─┴─┐         │     ┌───────────┐ ┌─┴─┐  │  ┌───────────┐  │      ┌─┴─┐      │       │       ┌──────────┐   │     ┌───┐      │       │      ┌───────────┐    ┌───┐     ┌──────────┐    ┌─┴─┐    ┌───────────┐  │     ┌─┴─┐      │   ┌──────────┐  │     ┌───┐      │   ┌──────────┐┌───┐┌─────────┐    ┌─┴─┐    ┌──────────┐   ┌─┴─┐    ┌──────────┐  │     ┌────┐   ┌──────────┐  │                                                                \n",
              "q_1 -> 5 ─────────────────────────────────┼────────────────┼────────────────┼──────────────────────────────┼───────────────┼─────────────────────────────┼─────────────────────────────────────┼──────────────────────────────┼───────────┼───────────┼───────────────────────────┼──────────────────────┼────────────┼─────────────┼───────────────────┼──────┤ X ├──────┼────┼──┤ Rz(-π/512) ├────┤ X ├───────┼────┼──┤ Rz(π/512) ├───────────────────┤ X ├───────┼──┤ Rz(-π/256) ├───┤ X ├─────────┼────────────┼───────────┼──────┤ Rz(π/256) ├─┤ X ├──┼───────┼────────────┼──────┤ Rz(-π/128) ├───┤ X ├─────────┼─────┤ Rz(π/128) ├─┤ X ├──┼──┤ Rz(-π/64) ├──┼──────┤ X ├──────┼───────┼───────┤ Rz(π/64) ├───┼─────┤ X ├──────┼───────┼──────┤ Rz(-π/32) ├────┤ X ├─────┤ Rz(π/32) ├────┤ X ├────┤ Rz(-π/16) ├──┼─────┤ X ├──────┼───┤ Rz(π/16) ├──┼─────┤ X ├──────┼───┤ Rz(-π/8) ├┤ X ├┤ Rz(π/8) ├────┤ X ├────┤ Rz(-π/4) ├───┤ X ├────┤ Rz(3π/4) ├──┼─────┤ √X ├───┤ Rz(3π/4) ├──┼───────────────■────────────────■───────────────────────────────\n",
              "                                          │                │                │                              │               │                             │                                     │                              │           │           │                           │                      │            │             │                   │      └─┬─┘      │    │  └────────────┘    └─┬─┘       │    │  └───┬───┬───┘┌─────────────┐    ├───┤       │  ├────────────┤   └───┘         │            │         ┌─┴─┐    ├───────────┴┐└───┘  │       │          ┌─┴─┐    ├───────────┬┘   └───┘       ┌─┴─┐   ├───────────┴┐└───┘┌─┴─┐├───────────┤  │      └───┘      │     ┌─┴─┐    ┌┴──────────┴┐  │     └─┬─┘      │     ┌─┴─┐    ├───────────┤    └─┬─┘     └──┬───┬───┘┌───┴───┴───┐└───┬───┬───┘  │  ┌──┴───┴───┐┌─┴─┐┌┴──────────┤  │     └─┬─┘    ┌─┴─┐ ├──────────┤└─┬─┘└──┬───┬──┘┌───┴───┴───┐└──┬───┬───┘┌──┴───┴───┐└──────────┘┌─┴─┐┌──┴────┴──┐└──────────┘┌─┴─┐┌─────────┐┌─┴─┐┌──────────┐┌─┴─┐┌──────────┐┌────┐┌─────────┐\n",
              "q_0 -> 6 ─────────────────────────────────┼────────────────┼────────────────┼──────────────────────────────┼───────────────┼─────────────────────────────┼─────────────────────────────────────┼──────────────────────────────┼───────────┼───────────┼───────────────────────────┼──────────────────────┼────────────┼─────────────┼───────────────────┼────────┼────────┼────┼──────────────────────┼─────────┼────┼──────┤ X ├────┤ Rz(-π/1024) ├────┤ X ├───────┼──┤ Rz(π/1024) ├─────────────────┼────────────┼─────────┤ X ├────┤ Rz(-π/512) ├───────┼───────┼──────────┤ X ├────┤ Rz(π/512) ├────────────────┤ X ├───┤ Rz(-π/256) ├─────┤ X ├┤ Rz(π/256) ├──┼─────────────────┼─────┤ X ├────┤ Rz(-π/128) ├──┼───────┼────────┼─────┤ X ├────┤ Rz(π/128) ├──────┼──────────┤ X ├────┤ Rz(-π/64) ├────┤ X ├──────┼──┤ Rz(π/64) ├┤ X ├┤ Rz(-π/32) ├──┼───────┼──────┤ X ├─┤ Rz(π/32) ├──┼─────┤ X ├───┤ Rz(-π/16) ├───┤ X ├────┤ Rz(π/16) ├────────────┤ X ├┤ Rz(-π/8) ├────────────┤ X ├┤ Rz(π/8) ├┤ X ├┤ Rz(-π/4) ├┤ X ├┤ Rz(3π/4) ├┤ √X ├┤ Rz(π/2) ├\n",
              "         ┌─────────┐┌────┐┌────────────┐  │                │                │                              │               │                             │                                     │                              │           │           │                           │                      │            │             │                   │        │        │    │                      │         │    │      └─┬─┘    └─────────────┘    └─┬─┘       │  └────────────┘                 │            │         └───┘    └────────────┘       │       │          └───┘    └───────────┘                └───┘   └────────────┘     └───┘└───────────┘  │                 │     └───┘    └────────────┘  │       │        │     └───┘    └───────────┘      │          └─┬─┘    └───────────┘    └─┬─┘      │  └──────────┘└───┘└───────────┘  │       │      └───┘ └──────────┘  │     └─┬─┘   └───────────┘   └─┬─┘    └──────────┘            └───┘└──────────┘            └───┘└─────────┘└───┘└──────────┘└───┘└──────────┘└────┘└─────────┘\n",
              "q_9 -> 7 ┤ Rz(π/2) ├┤ √X ├┤ Rz(3.1385) ├──■────────────────■────────────────■──────────────────────────────■───────────────■─────────────────────────────■───────■─────────────────────■───────■──────────────────────────────┼───────────■───────────┼────────■──────────────────┼─────────■────────────■────────────┼─────────────┼───────────────────■────────■────────┼────┼──────────────────────■─────────┼────┼────────■───────────────────────────■─────────┼─────────────────────────────────┼────────────┼───────────────────────────────────────┼───────┼───────────────────────────────────────────────────────────────────────────────────────────────┼─────────────────┼──────────────────────────────┼───────┼────────┼─────────────────────────────────┼────────────┼─────────────────────────┼────────┼──────────────────────────────────┼───────┼──────────────────────────┼───────┼───────────────────────┼──────────────────────────────────────────────────────────────────────────────────────────────────────────────────────────────\n",
              "         └─────────┘└────┘└────────────┘                                                                                                                       ┌─┴─┐    ┌───────────┐┌─┴─┐┌──────────┐                      ┌─┴─┐   ┌───────────┐   ┌─┴─┐      │   ┌──────────┐ ┌─┴─┐       │       ┌──────────┐      │           ┌─┴─┐    ┌─────────┐                  ┌─┴─┐  │   ┌──────────┐               ┌─┴─┐  │   ┌──────────┐     ┌────┐    ┌────────────┐  │                                 │            │                                       │       │                                                                                               │                 │                              │       │        │                                 │            │                         │        │                                  │       │                          │       │                       │                                                                                                                              \n",
              "q_5 -> 8 ──────────────────────────────────────────────────────────────────────────────────────────────────────────────────────────────────────────────────────┤ X ├────┤ Rz(-π/32) ├┤ X ├┤ Rz(π/32) ├──────────────────────┤ X ├───┤ Rz(-π/16) ├───┤ X ├──────┼───┤ Rz(π/16) ├─┤ X ├───────┼───────┤ Rz(-π/8) ├──────┼───────────┤ X ├────┤ Rz(π/8) ├──────────────────┤ X ├──┼───┤ Rz(-π/4) ├───────────────┤ X ├──┼───┤ Rz(3π/4) ├─────┤ √X ├────┤ Rz(3.0925) ├──┼─────────────────────────────────┼────────────■───────────────────────────────────────┼───────■────────────■─────────────────────────■────────────────────────────────────────────────────────■─────────────────┼──────────────────────────────■───────■────────┼─────────────────────────────────■────────────■─────────────────────────■────────┼──────────────────────────────────┼───────┼──────────────────────────┼───────┼───────────────────────┼──────────────────────────────────────────────────────────────────────────────────────────────────────────────────────────────\n",
              "                                                                                                                                                               └───┘    └───────────┘└───┘└──────────┘                      └───┘   └───────────┘   └───┘    ┌─┴─┐┌┴──────────┴┐└───┘     ┌─┴─┐    ┌┴──────────┤    ┌─┴─┐     ┌───┴───┴───┐└─────────┘                  └───┘┌─┴─┐ ├──────────┤               └───┘┌─┴─┐┌┴──────────┤     └────┘    └────────────┘┌─┴─┐ ┌──────────┐                ┌─┴─┐    ┌───────────┐                               ┌─┴─┐┌──────────┐    ┌─┴─┐     ┌──────────┐    ┌─┴─┐    ┌─────────┐                                                       ┌─┴─┐┌──────────┐                               ┌─┴─┐┌──────────┐    ┌────┐   ┌────────────┐                                        │                                  │       │                          │       │                       │                                                                                                                              \n",
              "q_3 -> 9 ────────────────────────────────────────────────────────────────────────────────────────────────────────────────────────────────────────────────────────────────────────────────────────────────────────────────────────────────────────────────────┤ X ├┤ Rz(-π/128) ├──────────┤ X ├────┤ Rz(π/128) ├────┤ X ├─────┤ Rz(-π/64) ├──────────────────────────────────┤ X ├─┤ Rz(π/64) ├────────────────────┤ X ├┤ Rz(-π/32) ├─────────────────────────────┤ X ├─┤ Rz(π/32) ├────────────────┤ X ├────┤ Rz(-π/16) ├───────────────────────────────┤ X ├┤ Rz(π/16) ├────┤ X ├─────┤ Rz(-π/8) ├────┤ X ├────┤ Rz(π/8) ├───────────────────────────────────────────────────────┤ X ├┤ Rz(-π/4) ├───────────────────────────────┤ X ├┤ Rz(3π/4) ├────┤ √X ├───┤ Rz(15π/16) ├────────────────────────────────────────■──────────────────────────────────■───────■──────────────────────────■───────■───────────────────────■──────────────────────────────────────────────────────────────────────────────────────────────────────────────────────────────\n",
              "                                                                                                                                                                                                                                                             └───┘└────────────┘          └───┘    └───────────┘    └───┘     └───────────┘                                  └───┘ └──────────┘                    └───┘└───────────┘                             └───┘ └──────────┘                └───┘    └───────────┘                               └───┘└──────────┘    └───┘     └──────────┘    └───┘    └─────────┘                                                       └───┘└──────────┘                               └───┘└──────────┘    └────┘   └────────────┘                                                                                                                                                                                                                                                                             </pre>"
            ],
            "text/plain": [
              "global phase: 0\n",
              "                                                                                                                                                                                                                                                                                                       ┌───┐    ┌────────────┐                        ┌───┐┌───────────┐              ┌───┐     ┌────────────┐                            ┌───┐     ┌───────────┐                       ┌───┐   ┌───────────┐    ┌───┐    ┌──────────┐                           ┌───┐    ┌───────────┐    ┌───┐     ┌──────────┐                                                ┌───┐┌───────────┐                               ┌───┐┌──────────┐                     ┌───┐     ┌──────────┐    ┌───┐     ┌─────────┐              ┌───┐┌──────────┐                  ┌───┐┌──────────┐┌────┐┌──────────┐                                                                                                                                                                 \n",
              "q_2 -> 0 ──────────────────────────────────────────────────────────────────────────────────────────────────────────────────────────────────────────────────────────────────────────────────────────────────────────────────────────────────────────────────────────────────────────────────────────────┤ X ├────┤ Rz(-π/256) ├────────────────────────┤ X ├┤ Rz(π/256) ├──────────────┤ X ├─────┤ Rz(-π/128) ├────────────────────────────┤ X ├─────┤ Rz(π/128) ├───────────────────────┤ X ├───┤ Rz(-π/64) ├────┤ X ├────┤ Rz(π/64) ├───────────────────────────┤ X ├────┤ Rz(-π/32) ├────┤ X ├─────┤ Rz(π/32) ├────────────────────────────────────────────────┤ X ├┤ Rz(-π/16) ├───────────────────────────────┤ X ├┤ Rz(π/16) ├─────────────────────┤ X ├─────┤ Rz(-π/8) ├────┤ X ├─────┤ Rz(π/8) ├──────────────┤ X ├┤ Rz(-π/4) ├──────────────────┤ X ├┤ Rz(3π/4) ├┤ √X ├┤ Rz(7π/8) ├──────────────────────■───────────────────────■────────────────────■────────────────────────────■────────────────────────────────────────────────────────────────\n",
              "                                                                                                                         ┌───┐┌───────────┐            ┌───┐┌──────────┐             ┌───┐┌──────────┐              ┌───┐┌─────────┐    ┌───┐    ┌──────────┐┌───┐ ┌──────────┐ ┌────┐┌───────────┐    └─┬─┘    └────────────┘                        └─┬─┘└───────────┘              └─┬─┘     └────────────┘                            └─┬─┘     └───────────┘                       └─┬─┘   └───────────┘    └─┬─┘    └──────────┘                           └─┬─┘    └───────────┘    └─┬─┘     └──────────┘                                                └─┬─┘└───────────┘                               └─┬─┘└──────────┘                     └─┬─┘     └──────────┘    └─┬─┘     └─────────┘              └─┬─┘└──────────┘                  └─┬─┘└──────────┘└────┘└──────────┘                      │                       │                    │                            │                                                                \n",
              "q_6 -> 1 ────────────────────────────────────────────────────────────────────────────────────────────────────────────────┤ X ├┤ Rz(-π/16) ├────────────┤ X ├┤ Rz(π/16) ├─────────────┤ X ├┤ Rz(-π/8) ├──────────────┤ X ├┤ Rz(π/8) ├────┤ X ├────┤ Rz(-π/4) ├┤ X ├─┤ Rz(3π/4) ├─┤ √X ├┤ Rz(3.117) ├──────┼──────────────────────────────────────────────┼─────────────────■─────────────┼───────────────────────■─────────────■─────────────┼────────────────────────────────■────────────┼───────────■────────────┼───────────────────────────────────────■───────■─────────────────────────■──────────────────────────────────────────────■──────────────────────┼────────■────────────────■──────────────────────┼────────────────────────■────────────┼─────────────────────────┼──────────────────────────────────┼──────────────────────────────────┼──────────────────────────────────────────────────────┼───────────────────────┼────────────────────┼────────────────────────────┼────────────────────────────────────────────────────────────────\n",
              "                                                                          ┌───┐┌──────────┐              ┌───┐┌─────────┐└─┬─┘└───┬───┬───┘┌──────────┐└─┬─┘└──┬───┬───┘ ┌──────────┐└─┬─┘└──┬────┬──┘┌────────────┐└─┬─┘└─────────┘    └─┬─┘    └──────────┘└─┬─┘ └──────────┘ └────┘└───────────┘      │                                              │                 │             │                       │             │             │                                │            │           │            │                                       │                                                                                │                      │        │                │                      │                        │            │                         │                                  │                                  │                                                      │                       │                    │                            │                                                                \n",
              "q_7 -> 2 ─────────────────────────────────────────────────────────────────┤ X ├┤ Rz(-π/8) ├──────────────┤ X ├┤ Rz(π/8) ├──┼──────┤ X ├────┤ Rz(-π/4) ├──┼─────┤ X ├─────┤ Rz(3π/4) ├──┼─────┤ √X ├───┤ Rz(3.1293) ├──┼───────────────────■────────────────────■──────────────────■──────────────────────┼──────────────────────────■───────────■───────┼─────────────────┼────■────────┼───────────────────────┼────■────────┼─────────────┼───────────────────────■────────┼────────────■───────────┼────────────■──────────────────────────────────■────┼──────────────────────────────────────────────■───────────■─────────────────────┼────■─────────────────┼────────┼────────────────┼──────────────────────┼────────────────────────┼────────────┼─────────────────────────┼──────────────────────────────────┼──────────────────────────────────┼──────────────────────────────────────────────────────┼───────────────────────┼────────────────────┼────────────────────────────┼────────────────────────────────────────────────────────────────\n",
              "                                                                          └─┬─┘└──────────┘              └─┬─┘└─────────┘  │      └─┬─┘    └──────────┘  │     └─┬─┘     └──────────┘  │     ├───┬┘   ├───────────┬┘  │                 ┌───┐    ┌──────────┐┌───┐┌───────────┐   │       ┌───┐          │       ┌──────────┐       │         ┌─┴─┐     │  ┌───────────┐  │  ┌─┴─┐      │        ┌──────────┐   │    │      ┌─┴─┐           │        ┌──────────┐   │      ┌─┴─┐     ┌─────────┐      │          ┌───┐    ┌──────────┐                │    │     ┌───┐     ┌──────────┐    ┌────┐         │           │     ┌────────────┐  │    │                 │        │                │                      │                        │            │                         │                                  │                                  │                                                      │                       │                    │                            │                                                                \n",
              "q_4 -> 3 ───────────────────────────────────────────────────────────────────┼──────────────────────────────┼───────────────┼────────┼────────────────────┼───────┼─────────────────────┼─────┤ X ├────┤ Rz(-π/64) ├───┼─────────────────┤ X ├────┤ Rz(π/64) ├┤ X ├┤ Rz(-π/32) ├───┼───────┤ X ├──────────┼───────┤ Rz(π/32) ├───────┼─────────┤ X ├─────┼──┤ Rz(-π/16) ├──┼──┤ X ├──────┼────────┤ Rz(π/16) ├───┼────┼──────┤ X ├───────────┼────────┤ Rz(-π/8) ├───┼──────┤ X ├─────┤ Rz(π/8) ├──────┼──────────┤ X ├────┤ Rz(-π/4) ├────────────────┼────┼─────┤ X ├─────┤ Rz(3π/4) ├────┤ √X ├─────────┼───────────┼─────┤ Rz(3.0434) ├──┼────┼─────────────────┼────────┼────────■───────┼──────────────────────┼────────────────■───────┼────────────■─────────────────────────■────────────■─────────────────────┼───────■────────■─────────────────┼────────────────■─────────────────────────────────────┼───────────────────────┼────────────────────┼────────────────────────────┼────────────────────────────────────────────────────────────────\n",
              "                                        ┌───┐┌──────────┐┌───┐┌──────────┐  │     ┌────┐   ┌────────────┐  │               │        │                    │       │                     │     └─┬─┘    └───────────┘   │                 └─┬─┘    └──────────┘└─┬─┘└───────────┘   │       └─┬─┘          │       └──────────┘       │         └───┘     │  └───────────┘  │  └───┘      │        └──────────┘   │    │      └───┘           │        └──────────┘   │      └───┘     └─────────┘      │          └─┬─┘    └──────────┘                │    │     └─┬─┘     └──────────┘    └────┘         │           │     └────────────┘  │    │                 │        │        │       │                      │                │       │                                                   │                     │       │        │                 │                │                                     │                       │                    │                            │                                                                \n",
              "q_8 -> 4 ───────────────────────────────┤ X ├┤ Rz(-π/4) ├┤ X ├┤ Rz(3π/4) ├──┼─────┤ √X ├───┤ Rz(3.1355) ├──┼───────────────┼────────■────────────────────┼───────■─────────────────────■───────┼──────────────────────■───────■───────────┼───────────■────────■──────────────────┼─────────■────────────┼────────────■─────────────┼───────────────────┼─────────────────┼────■────────■───────────────────────┼────┼──────────────────────■─────────────■─────────┼─────────────────────■───────────┼────────────┼───────────■──────────────────────┼────┼───────┼────────────■─────────────────────────┼───────────┼─────────────────────┼────┼─────────────────┼────────┼────────┼───────┼──────────────────────┼────────────────┼───────┼───────────────────────────────────────────────────┼─────────────────────┼───────┼────────┼─────────────────┼────────────────┼─────────────────────────────────────┼───────────────────────┼────────────────────┼────────────────────────────┼────────────────────────────────────────────────────────────────\n",
              "                                        └─┬─┘└──────────┘└─┬─┘└──────────┘  │     └────┘   └────────────┘  │               │                             │                                     │                              │           │           │                           │                      │            │             │                   │      ┌───┐      │    │  ┌────────────┐    ┌───┐       │    │  ┌───────────┐                   ┌─┴─┐       │  ┌────────────┐   ┌─┴─┐         │            │           │      ┌───────────┐ ┌─┴─┐  │       │            │      ┌────────────┐   ┌─┴─┐         │     ┌───────────┐ ┌─┴─┐  │  ┌───────────┐  │      ┌─┴─┐      │       │       ┌──────────┐   │     ┌───┐      │       │      ┌───────────┐    ┌───┐     ┌──────────┐    ┌─┴─┐    ┌───────────┐  │     ┌─┴─┐      │   ┌──────────┐  │     ┌───┐      │   ┌──────────┐┌───┐┌─────────┐    ┌─┴─┐    ┌──────────┐   ┌─┴─┐    ┌──────────┐  │     ┌────┐   ┌──────────┐  │                                                                \n",
              "q_1 -> 5 ─────────────────────────────────┼────────────────┼────────────────┼──────────────────────────────┼───────────────┼─────────────────────────────┼─────────────────────────────────────┼──────────────────────────────┼───────────┼───────────┼───────────────────────────┼──────────────────────┼────────────┼─────────────┼───────────────────┼──────┤ X ├──────┼────┼──┤ Rz(-π/512) ├────┤ X ├───────┼────┼──┤ Rz(π/512) ├───────────────────┤ X ├───────┼──┤ Rz(-π/256) ├───┤ X ├─────────┼────────────┼───────────┼──────┤ Rz(π/256) ├─┤ X ├──┼───────┼────────────┼──────┤ Rz(-π/128) ├───┤ X ├─────────┼─────┤ Rz(π/128) ├─┤ X ├──┼──┤ Rz(-π/64) ├──┼──────┤ X ├──────┼───────┼───────┤ Rz(π/64) ├───┼─────┤ X ├──────┼───────┼──────┤ Rz(-π/32) ├────┤ X ├─────┤ Rz(π/32) ├────┤ X ├────┤ Rz(-π/16) ├──┼─────┤ X ├──────┼───┤ Rz(π/16) ├──┼─────┤ X ├──────┼───┤ Rz(-π/8) ├┤ X ├┤ Rz(π/8) ├────┤ X ├────┤ Rz(-π/4) ├───┤ X ├────┤ Rz(3π/4) ├──┼─────┤ √X ├───┤ Rz(3π/4) ├──┼───────────────■────────────────■───────────────────────────────\n",
              "                                          │                │                │                              │               │                             │                                     │                              │           │           │                           │                      │            │             │                   │      └─┬─┘      │    │  └────────────┘    └─┬─┘       │    │  └───┬───┬───┘┌─────────────┐    ├───┤       │  ├────────────┤   └───┘         │            │         ┌─┴─┐    ├───────────┴┐└───┘  │       │          ┌─┴─┐    ├───────────┬┘   └───┘       ┌─┴─┐   ├───────────┴┐└───┘┌─┴─┐├───────────┤  │      └───┘      │     ┌─┴─┐    ┌┴──────────┴┐  │     └─┬─┘      │     ┌─┴─┐    ├───────────┤    └─┬─┘     └──┬───┬───┘┌───┴───┴───┐└───┬───┬───┘  │  ┌──┴───┴───┐┌─┴─┐┌┴──────────┤  │     └─┬─┘    ┌─┴─┐ ├──────────┤└─┬─┘└──┬───┬──┘┌───┴───┴───┐└──┬───┬───┘┌──┴───┴───┐└──────────┘┌─┴─┐┌──┴────┴──┐└──────────┘┌─┴─┐┌─────────┐┌─┴─┐┌──────────┐┌─┴─┐┌──────────┐┌────┐┌─────────┐\n",
              "q_0 -> 6 ─────────────────────────────────┼────────────────┼────────────────┼──────────────────────────────┼───────────────┼─────────────────────────────┼─────────────────────────────────────┼──────────────────────────────┼───────────┼───────────┼───────────────────────────┼──────────────────────┼────────────┼─────────────┼───────────────────┼────────┼────────┼────┼──────────────────────┼─────────┼────┼──────┤ X ├────┤ Rz(-π/1024) ├────┤ X ├───────┼──┤ Rz(π/1024) ├─────────────────┼────────────┼─────────┤ X ├────┤ Rz(-π/512) ├───────┼───────┼──────────┤ X ├────┤ Rz(π/512) ├────────────────┤ X ├───┤ Rz(-π/256) ├─────┤ X ├┤ Rz(π/256) ├──┼─────────────────┼─────┤ X ├────┤ Rz(-π/128) ├──┼───────┼────────┼─────┤ X ├────┤ Rz(π/128) ├──────┼──────────┤ X ├────┤ Rz(-π/64) ├────┤ X ├──────┼──┤ Rz(π/64) ├┤ X ├┤ Rz(-π/32) ├──┼───────┼──────┤ X ├─┤ Rz(π/32) ├──┼─────┤ X ├───┤ Rz(-π/16) ├───┤ X ├────┤ Rz(π/16) ├────────────┤ X ├┤ Rz(-π/8) ├────────────┤ X ├┤ Rz(π/8) ├┤ X ├┤ Rz(-π/4) ├┤ X ├┤ Rz(3π/4) ├┤ √X ├┤ Rz(π/2) ├\n",
              "         ┌─────────┐┌────┐┌────────────┐  │                │                │                              │               │                             │                                     │                              │           │           │                           │                      │            │             │                   │        │        │    │                      │         │    │      └─┬─┘    └─────────────┘    └─┬─┘       │  └────────────┘                 │            │         └───┘    └────────────┘       │       │          └───┘    └───────────┘                └───┘   └────────────┘     └───┘└───────────┘  │                 │     └───┘    └────────────┘  │       │        │     └───┘    └───────────┘      │          └─┬─┘    └───────────┘    └─┬─┘      │  └──────────┘└───┘└───────────┘  │       │      └───┘ └──────────┘  │     └─┬─┘   └───────────┘   └─┬─┘    └──────────┘            └───┘└──────────┘            └───┘└─────────┘└───┘└──────────┘└───┘└──────────┘└────┘└─────────┘\n",
              "q_9 -> 7 ┤ Rz(π/2) ├┤ √X ├┤ Rz(3.1385) ├──■────────────────■────────────────■──────────────────────────────■───────────────■─────────────────────────────■───────■─────────────────────■───────■──────────────────────────────┼───────────■───────────┼────────■──────────────────┼─────────■────────────■────────────┼─────────────┼───────────────────■────────■────────┼────┼──────────────────────■─────────┼────┼────────■───────────────────────────■─────────┼─────────────────────────────────┼────────────┼───────────────────────────────────────┼───────┼───────────────────────────────────────────────────────────────────────────────────────────────┼─────────────────┼──────────────────────────────┼───────┼────────┼─────────────────────────────────┼────────────┼─────────────────────────┼────────┼──────────────────────────────────┼───────┼──────────────────────────┼───────┼───────────────────────┼──────────────────────────────────────────────────────────────────────────────────────────────────────────────────────────────\n",
              "         └─────────┘└────┘└────────────┘                                                                                                                       ┌─┴─┐    ┌───────────┐┌─┴─┐┌──────────┐                      ┌─┴─┐   ┌───────────┐   ┌─┴─┐      │   ┌──────────┐ ┌─┴─┐       │       ┌──────────┐      │           ┌─┴─┐    ┌─────────┐                  ┌─┴─┐  │   ┌──────────┐               ┌─┴─┐  │   ┌──────────┐     ┌────┐    ┌────────────┐  │                                 │            │                                       │       │                                                                                               │                 │                              │       │        │                                 │            │                         │        │                                  │       │                          │       │                       │                                                                                                                              \n",
              "q_5 -> 8 ──────────────────────────────────────────────────────────────────────────────────────────────────────────────────────────────────────────────────────┤ X ├────┤ Rz(-π/32) ├┤ X ├┤ Rz(π/32) ├──────────────────────┤ X ├───┤ Rz(-π/16) ├───┤ X ├──────┼───┤ Rz(π/16) ├─┤ X ├───────┼───────┤ Rz(-π/8) ├──────┼───────────┤ X ├────┤ Rz(π/8) ├──────────────────┤ X ├──┼───┤ Rz(-π/4) ├───────────────┤ X ├──┼───┤ Rz(3π/4) ├─────┤ √X ├────┤ Rz(3.0925) ├──┼─────────────────────────────────┼────────────■───────────────────────────────────────┼───────■────────────■─────────────────────────■────────────────────────────────────────────────────────■─────────────────┼──────────────────────────────■───────■────────┼─────────────────────────────────■────────────■─────────────────────────■────────┼──────────────────────────────────┼───────┼──────────────────────────┼───────┼───────────────────────┼──────────────────────────────────────────────────────────────────────────────────────────────────────────────────────────────\n",
              "                                                                                                                                                               └───┘    └───────────┘└───┘└──────────┘                      └───┘   └───────────┘   └───┘    ┌─┴─┐┌┴──────────┴┐└───┘     ┌─┴─┐    ┌┴──────────┤    ┌─┴─┐     ┌───┴───┴───┐└─────────┘                  └───┘┌─┴─┐ ├──────────┤               └───┘┌─┴─┐┌┴──────────┤     └────┘    └────────────┘┌─┴─┐ ┌──────────┐                ┌─┴─┐    ┌───────────┐                               ┌─┴─┐┌──────────┐    ┌─┴─┐     ┌──────────┐    ┌─┴─┐    ┌─────────┐                                                       ┌─┴─┐┌──────────┐                               ┌─┴─┐┌──────────┐    ┌────┐   ┌────────────┐                                        │                                  │       │                          │       │                       │                                                                                                                              \n",
              "q_3 -> 9 ────────────────────────────────────────────────────────────────────────────────────────────────────────────────────────────────────────────────────────────────────────────────────────────────────────────────────────────────────────────────────┤ X ├┤ Rz(-π/128) ├──────────┤ X ├────┤ Rz(π/128) ├────┤ X ├─────┤ Rz(-π/64) ├──────────────────────────────────┤ X ├─┤ Rz(π/64) ├────────────────────┤ X ├┤ Rz(-π/32) ├─────────────────────────────┤ X ├─┤ Rz(π/32) ├────────────────┤ X ├────┤ Rz(-π/16) ├───────────────────────────────┤ X ├┤ Rz(π/16) ├────┤ X ├─────┤ Rz(-π/8) ├────┤ X ├────┤ Rz(π/8) ├───────────────────────────────────────────────────────┤ X ├┤ Rz(-π/4) ├───────────────────────────────┤ X ├┤ Rz(3π/4) ├────┤ √X ├───┤ Rz(15π/16) ├────────────────────────────────────────■──────────────────────────────────■───────■──────────────────────────■───────■───────────────────────■──────────────────────────────────────────────────────────────────────────────────────────────────────────────────────────────\n",
              "                                                                                                                                                                                                                                                             └───┘└────────────┘          └───┘    └───────────┘    └───┘     └───────────┘                                  └───┘ └──────────┘                    └───┘└───────────┘                             └───┘ └──────────┘                └───┘    └───────────┘                               └───┘└──────────┘    └───┘     └──────────┘    └───┘    └─────────┘                                                       └───┘└──────────┘                               └───┘└──────────┘    └────┘   └────────────┘                                                                                                                                                                                                                                                                             "
            ]
          },
          "execution_count": 29,
          "metadata": {},
          "output_type": "execute_result"
        }
      ],
      "source": [
        "# transpile the qft quantum circuit for the basis gate of our example backend\n",
        "qc_synth = generate_preset_pass_manager(2, backend=backend).run(qc)\n",
        "qc_synth.draw(fold=-1)"
      ]
    },
    {
      "cell_type": "code",
      "execution_count": null,
      "metadata": {
        "colab": {
          "base_uri": "https://localhost:8080/"
        },
        "id": "GM9lKDgp9xdE",
        "outputId": "37105fa2-9215-4e47-b60f-e9708c88d818"
      },
      "outputs": [
        {
          "name": "stdout",
          "output_type": "stream",
          "text": [
            "Quantum circuit characteristics\n",
            "  Depth: 65\n",
            "  Number of qubits: 10\n",
            "  Operations: {'rz': 101, 'cx': 90, 'sx': 10}\n",
            "  Number of multi-qubit Operations: 90\n"
          ]
        }
      ],
      "source": [
        "print_qc_characteristics(qc_synth)"
      ]
    },
    {
      "cell_type": "code",
      "execution_count": null,
      "metadata": {
        "id": "jwkx_Wkw92TZ"
      },
      "outputs": [],
      "source": [
        "# Your work goes here!\n",
        "# assign a 10-qubit linear `CouplingMap` to the variable cm\n",
        "cm = CouplingMap([[0, 1], [1, 2], [2, 3], [3, 4], [4, 5], [5, 6],[6,7],[7,8],[8,9]])\n",
        "\n",
        "# add your transpiled quantum circuit to the next line\n",
        "qc_routed = transpile(qc,backend=backend,coupling_map=cm)\n",
        "\n",
        "\n"
      ]
    },
    {
      "cell_type": "code",
      "execution_count": null,
      "metadata": {
        "colab": {
          "base_uri": "https://localhost:8080/"
        },
        "id": "gZpBFZXu-Dac",
        "outputId": "b2348f56-ca98-41fd-dadd-ff91b0ce7108"
      },
      "outputs": [
        {
          "name": "stdout",
          "output_type": "stream",
          "text": [
            "Submitting your answer. Please wait...\n",
            "Congratulations 🎉! Your answer is correct and has been submitted.\n"
          ]
        }
      ],
      "source": [
        "# grade your work!\n",
        "grade_lab1_ex2(qc_routed)\n"
      ]
    },
    {
      "cell_type": "code",
      "execution_count": null,
      "metadata": {
        "id": "rDJKd18v_4ql"
      },
      "outputs": [],
      "source": [
        "pm_staged = StagedPassManager()\n",
        "# replace the n-qubit QFT operation with its decomposition in two-qubit gates\n",
        "pm_staged.init = generate_unroll_3q(target=backend.target)\n",
        "# initialize the layout stage with an empty pass manager\n",
        "pm_staged.layout = PassManager()\n",
        "# set a 'trivial' initial layout, i.e. each qubit in the quantum circuit with index i\n",
        "# is mapped to the physical qubit on a device with the same index\n",
        "pm_staged.layout += TrivialLayout(cm)\n",
        "\n",
        "# do not modify the next line\n",
        "pm_staged.layout += generate_embed_passmanager(cm)\n"
      ]
    },
    {
      "cell_type": "code",
      "execution_count": null,
      "metadata": {
        "colab": {
          "base_uri": "https://localhost:8080/",
          "height": 447
        },
        "id": "-W_iv2ZFGZ1X",
        "outputId": "624cf374-cb1a-4262-a70c-e88ab1307af7"
      },
      "outputs": [
        {
          "name": "stdout",
          "output_type": "stream",
          "text": [
            "Quantum circuit characteristics\n",
            "  Depth: 34\n",
            "  Number of qubits: 10\n",
            "  Operations: {'cp': 45, 'swap': 43, 'h': 10}\n",
            "  Number of multi-qubit Operations: 88\n"
          ]
        },
        {
          "data": {
            "text/html": [
              "<pre style=\"word-wrap: normal;white-space: pre;background: #fff0;line-height: 1.1;font-family: &quot;Courier New&quot;,Courier,monospace\">                                                                                                                                                                                                                                                                                                                                                                         \n",
              "q_0 -> 0 ────────────────────────────────────────────────────────────────────────────────────────────────────────────────────────────────────────────────■──────────────X────────────────────────────────────────────────────────────────────────────────────────────────────────────────────────────────────────────────────────────────────────────────────────────────\n",
              "                                                                                                                                                         │P(π/512)      │                                                                                                                                                                                                \n",
              "q_1 -> 1 ───────────────────────────────────────────────────────────────────────────────────────────────────────────────────────────■─────────────X──────■──────────────X────────────────■─────────────X─────────────────────────────────────────────────────────────────────────────────────────────────────────────────────────────────────────────────────────────────\n",
              "                                                                                                                                    │P(π/256)     │                                      │P(π/256)     │                                                                                                                                                                 \n",
              "q_2 -> 2 ──────────────────────────────────────────────────────────────────────────────────────────────────────■─────────────X──────■─────────────X─────────────────■─────────────X──────■─────────────X────────────────■─────────────X──────────────────────────────────────────────────────────────────────────────────────────────────────────────────────────────────\n",
              "                                                                                                               │P(π/128)     │                                      │P(π/128)     │                                     │P(π/128)     │                                                                                                                                  \n",
              "q_3 -> 3 ──────────────────────────────────────────────────────────────────────────────────■────────────X──────■─────────────X─────────────────■─────────────X──────■─────────────X─────────────────■────────────X──────■─────────────X───────────────■────────────X─────────────────────────────────────────────────────────────────────────────────────────────────────\n",
              "                                                                                           │P(π/64)     │                                      │P(π/64)      │                                      │P(π/64)     │                                    │P(π/64)     │                                                                                                     \n",
              "q_4 -> 4 ───────────────────────────────────────────────────────────────■────────────X─────■────────────X─────────────────■─────────────X──────■─────────────X─────────────────■─────────────X──────■────────────X─────────────────■────────────X─────■────────────X───────────────■────────────X────────────────────────────────────────────────────────────────────────\n",
              "                                                                        │P(π/32)     │                                    │P(π/32)      │                                      │P(π/32)      │                                     │P(π/32)     │                                  │P(π/32)     │                                                                        \n",
              "q_5 -> 5 ────────────────────────────────────────────■────────────X─────■────────────X───────────────■─────────────X──────■─────────────X─────────────────■─────────────X──────■─────────────X────────────────■─────────────X──────■────────────X───────────────■────────────X─────■────────────X────────■────────────X──────────────────────────────────────────────────\n",
              "                                                     │P(π/16)     │                                  │P(π/16)      │                                      │P(π/16)      │                                     │P(π/16)      │                                   │P(π/16)     │                           │P(π/16)     │                                                  \n",
              "q_6 -> 6 ────────────────────────────────■────────X──■────────────X───────────────■───────────X──────■─────────────X─────────────────■────────────X───────■─────────────X─────────────────■────────────X──────■─────────────X────────────────■───────────X──────■────────────X───────────────■────────X──■────────────X────────■────────X────────────────────────────────\n",
              "                                         │P(π/8)  │                               │P(π/8)     │                                      │P(π/8)      │                                       │P(π/8)      │                                     │P(π/8)     │                                   │P(π/8)  │                        │P(π/8)  │                                \n",
              "q_7 -> 7 ────────────────────■────────X──■────────X────────────■───────────X──────■───────────X─────────────────■────────────X───────■────────────X──────────────────■────────────X───────■────────────X─────────────────■────────────X──────■───────────X────────────────■───────────X──────■────────X────────────■────────X──■────────X───────■────────X───────────────\n",
              "                       ┌───┐ │        │               ┌───┐    │           │                          ┌───┐     │            │                             ┌───┐     │            │                            ┌───┐     │            │                          ┌───┐    │           │                   ┌───┐    │        │             ┌───┐ │        │               \n",
              "q_8 -> 8 ──────■───────┤ H ├─┼────────┼──■────────X───┤ H ├────┼───────────┼──────■───────────X───────┤ H ├─────┼────────────┼───────■────────────X────────┤ H ├─────┼────────────┼───────■────────────X───────┤ H ├─────┼────────────┼──────■───────────X───────┤ H ├────┼───────────┼──────■────────X───┤ H ├────┼────────┼──■────────X─┤ H ├─┼────────┼──■────────────\n",
              "         ┌───┐ │P(π/2) └───┘ │P(π/4)  │  │P(π/2)  │   └───┘    │P(π/4)     │      │P(π/2)     │       └───┘     │P(π/4)      │       │P(π/2)      │        └───┘     │P(π/4)      │       │P(π/2)      │       └───┘     │P(π/4)      │      │P(π/2)     │       └───┘    │P(π/4)     │      │P(π/2)  │   └───┘    │P(π/4)  │  │P(π/2)  │ └───┘ │P(π/4)  │  │P(π/2) ┌───┐\n",
              "q_9 -> 9 ┤ H ├─■─────────────■────────X──■────────X────────────■───────────X──────■───────────X─────────────────■────────────X───────■────────────X──────────────────■────────────X───────■────────────X─────────────────■────────────X──────■───────────X────────────────■───────────X──────■────────X────────────■────────X──■────────X───────■────────X──■───────┤ H ├\n",
              "         └───┘                                                                                                                                                                                                                                                                                                                                                      └───┘</pre>"
            ],
            "text/plain": [
              "                                                                                                                                                                                                                                                                                                                                                                         \n",
              "q_0 -> 0 ────────────────────────────────────────────────────────────────────────────────────────────────────────────────────────────────────────────────■──────────────X────────────────────────────────────────────────────────────────────────────────────────────────────────────────────────────────────────────────────────────────────────────────────────────────\n",
              "                                                                                                                                                         │P(π/512)      │                                                                                                                                                                                                \n",
              "q_1 -> 1 ───────────────────────────────────────────────────────────────────────────────────────────────────────────────────────────■─────────────X──────■──────────────X────────────────■─────────────X─────────────────────────────────────────────────────────────────────────────────────────────────────────────────────────────────────────────────────────────────\n",
              "                                                                                                                                    │P(π/256)     │                                      │P(π/256)     │                                                                                                                                                                 \n",
              "q_2 -> 2 ──────────────────────────────────────────────────────────────────────────────────────────────────────■─────────────X──────■─────────────X─────────────────■─────────────X──────■─────────────X────────────────■─────────────X──────────────────────────────────────────────────────────────────────────────────────────────────────────────────────────────────\n",
              "                                                                                                               │P(π/128)     │                                      │P(π/128)     │                                     │P(π/128)     │                                                                                                                                  \n",
              "q_3 -> 3 ──────────────────────────────────────────────────────────────────────────────────■────────────X──────■─────────────X─────────────────■─────────────X──────■─────────────X─────────────────■────────────X──────■─────────────X───────────────■────────────X─────────────────────────────────────────────────────────────────────────────────────────────────────\n",
              "                                                                                           │P(π/64)     │                                      │P(π/64)      │                                      │P(π/64)     │                                    │P(π/64)     │                                                                                                     \n",
              "q_4 -> 4 ───────────────────────────────────────────────────────────────■────────────X─────■────────────X─────────────────■─────────────X──────■─────────────X─────────────────■─────────────X──────■────────────X─────────────────■────────────X─────■────────────X───────────────■────────────X────────────────────────────────────────────────────────────────────────\n",
              "                                                                        │P(π/32)     │                                    │P(π/32)      │                                      │P(π/32)      │                                     │P(π/32)     │                                  │P(π/32)     │                                                                        \n",
              "q_5 -> 5 ────────────────────────────────────────────■────────────X─────■────────────X───────────────■─────────────X──────■─────────────X─────────────────■─────────────X──────■─────────────X────────────────■─────────────X──────■────────────X───────────────■────────────X─────■────────────X────────■────────────X──────────────────────────────────────────────────\n",
              "                                                     │P(π/16)     │                                  │P(π/16)      │                                      │P(π/16)      │                                     │P(π/16)      │                                   │P(π/16)     │                           │P(π/16)     │                                                  \n",
              "q_6 -> 6 ────────────────────────────────■────────X──■────────────X───────────────■───────────X──────■─────────────X─────────────────■────────────X───────■─────────────X─────────────────■────────────X──────■─────────────X────────────────■───────────X──────■────────────X───────────────■────────X──■────────────X────────■────────X────────────────────────────────\n",
              "                                         │P(π/8)  │                               │P(π/8)     │                                      │P(π/8)      │                                       │P(π/8)      │                                     │P(π/8)     │                                   │P(π/8)  │                        │P(π/8)  │                                \n",
              "q_7 -> 7 ────────────────────■────────X──■────────X────────────■───────────X──────■───────────X─────────────────■────────────X───────■────────────X──────────────────■────────────X───────■────────────X─────────────────■────────────X──────■───────────X────────────────■───────────X──────■────────X────────────■────────X──■────────X───────■────────X───────────────\n",
              "                       ┌───┐ │        │               ┌───┐    │           │                          ┌───┐     │            │                             ┌───┐     │            │                            ┌───┐     │            │                          ┌───┐    │           │                   ┌───┐    │        │             ┌───┐ │        │               \n",
              "q_8 -> 8 ──────■───────┤ H ├─┼────────┼──■────────X───┤ H ├────┼───────────┼──────■───────────X───────┤ H ├─────┼────────────┼───────■────────────X────────┤ H ├─────┼────────────┼───────■────────────X───────┤ H ├─────┼────────────┼──────■───────────X───────┤ H ├────┼───────────┼──────■────────X───┤ H ├────┼────────┼──■────────X─┤ H ├─┼────────┼──■────────────\n",
              "         ┌───┐ │P(π/2) └───┘ │P(π/4)  │  │P(π/2)  │   └───┘    │P(π/4)     │      │P(π/2)     │       └───┘     │P(π/4)      │       │P(π/2)      │        └───┘     │P(π/4)      │       │P(π/2)      │       └───┘     │P(π/4)      │      │P(π/2)     │       └───┘    │P(π/4)     │      │P(π/2)  │   └───┘    │P(π/4)  │  │P(π/2)  │ └───┘ │P(π/4)  │  │P(π/2) ┌───┐\n",
              "q_9 -> 9 ┤ H ├─■─────────────■────────X──■────────X────────────■───────────X──────■───────────X─────────────────■────────────X───────■────────────X──────────────────■────────────X───────■────────────X─────────────────■────────────X──────■───────────X────────────────■───────────X──────■────────X────────────■────────X──■────────X───────■────────X──■───────┤ H ├\n",
              "         └───┘                                                                                                                                                                                                                                                                                                                                                      └───┘"
            ]
          },
          "execution_count": 34,
          "metadata": {},
          "output_type": "execute_result"
        }
      ],
      "source": [
        "pm_staged.routing = PassManager(StarPreRouting())\n",
        "qc_routed = pm_staged.run(qc)\n",
        "print_qc_characteristics(qc_routed)\n",
        "qc_routed.draw(fold=-1)"
      ]
    },
    {
      "cell_type": "code",
      "execution_count": null,
      "metadata": {
        "colab": {
          "base_uri": "https://localhost:8080/"
        },
        "id": "_ydozxf2J-7b",
        "outputId": "b7ae3cc3-23de-40fe-9142-ae3db5df675d"
      },
      "outputs": [
        {
          "name": "stdout",
          "output_type": "stream",
          "text": [
            "Submitting your answer. Please wait...\n",
            "Congratulations 🎉! Your answer is correct and has been submitted.\n"
          ]
        }
      ],
      "source": [
        "# grade your work!\n",
        "grade_lab1_ex3(pm_staged)"
      ]
    },
    {
      "cell_type": "code",
      "execution_count": null,
      "metadata": {
        "colab": {
          "base_uri": "https://localhost:8080/",
          "height": 463
        },
        "id": "og3XgXaqOTDa",
        "outputId": "fcabe799-a587-49d7-feda-4490adbb21af"
      },
      "outputs": [
        {
          "name": "stdout",
          "output_type": "stream",
          "text": [
            "Quantum circuit characteristics\n",
            "  Depth: 127\n",
            "  Number of qubits: 10\n",
            "  Operations: {'cx': 219, 'rz': 155, 'sx': 10}\n",
            "  Number of multi-qubit Operations: 219\n"
          ]
        },
        {
          "data": {
            "text/html": [
              "<pre style=\"word-wrap: normal;white-space: pre;background: #fff0;line-height: 1.1;font-family: &quot;Courier New&quot;,Courier,monospace\">global phase: 1.5723\n",
              "                                                                                                                                                                                                                                                                                                                                                                                                                                                                                                                                                                                                                                                                                                                          ┌───┐    ┌─────────────┐    ┌───┐     ┌────────────┐    ┌───┐                   ┌───┐                                                                                                                                                                                                                                                                                                                                                                                                                                                                                                                                                                                                                                                                                                                       \n",
              "q_0 -> 0 ─────────────────────────────────────────────────────────────────────────────────────────────────────────────────────────────────────────────────────────────────────────────────────────────────────────────────────────────────────────────────────────────────────────────────────────────────────────────────────────────────────────────────────────────────────────────────────────────────────────────────────────────────────────────────────────────────────────────────────────────────────────────────────────────────────────────────────────────────────────────────────────────────────────────────────────────────────────────────────────────────────────────────────────────────────────────────┤ X ├────┤ Rz(-π/1024) ├────┤ X ├─────┤ Rz(π/1024) ├────┤ X ├─────────■─────────┤ X ├───────────────────────────────────────────────────────────────────────────────────────────────────────────────────────────────────────────────────────────────────────────────────────────────────────────────────────────────────────────────────────────────────────────────────────────────────────────────────────────────────────────────────────────────────────────────────────────────────────────────────────────────────────────────────────────────────────────────────────────────────────────────────────────────────────────────────────────────────────────────────────────────────────────────────────────────────────────────────────────────────────────────────────────────────────────────────────\n",
              "                                                                                                                                                                                                                                                                                                                                                                                                                                                                                                                                                                                                                  ┌───┐    ┌────────────┐    ┌───┐     ┌───────────┐    ┌───┐                   ┌───┐   ┌────────────┐    └─┬─┘    └─────────────┘    └─┬─┘     └────────────┘    └─┬─┘       ┌─┴─┐       └─┬─┘                          ┌───┐    ┌────────────┐    ┌───┐     ┌───────────┐    ┌───┐                   ┌───┐                                                                                                                                                                                                                                                                                                                                                                                                                                                                                                                                                                                                          \n",
              "q_1 -> 1 ─────────────────────────────────────────────────────────────────────────────────────────────────────────────────────────────────────────────────────────────────────────────────────────────────────────────────────────────────────────────────────────────────────────────────────────────────────────────────────────────────────────────────────────────────────────────────────────────────────────────────────────────────────────────────────────────────────────────────────────────────────────────────────────────────────────────────────────────────────────────────────────────────────────┤ X ├────┤ Rz(-π/512) ├────┤ X ├─────┤ Rz(π/512) ├────┤ X ├─────────■─────────┤ X ├───┤ Rz(π/1024) ├──────■───────────────────────────■───────────────────────────■─────────┤ X ├─────────■────────────────────────────┤ X ├────┤ Rz(-π/512) ├────┤ X ├─────┤ Rz(π/512) ├────┤ X ├─────────■─────────┤ X ├──────────────────────────────────────────────────────────────────────────────────────────────────────────────────────────────────────────────────────────────────────────────────────────────────────────────────────────────────────────────────────────────────────────────────────────────────────────────────────────────────────────────────────────────────────────────────────────────────────────────────────────────────────────────────────────────────────────────────────────────────────────────────────────────────────────────────────────────────────────────────────────────────────────\n",
              "                                                                                                                                                                                                                                                                                                                                                                                                                                                                                                                   ┌───┐    ┌────────────┐    ┌───┐    ┌───────────┐   ┌───┐                ┌───┐┌───────────┐    └─┬─┘    └────────────┘    └─┬─┘     └───────────┘    └─┬─┘       ┌─┴─┐       └─┬─┘   └────────────┘                  ┌───┐     ┌────────────┐    ┌───┐     ┌───────────┐   ├───┤                ┌───┐┌───────────┐    └─┬─┘    └────────────┘    └─┬─┘     └───────────┘    └─┬─┘       ┌─┴─┐       └─┬─┘                        ┌───┐    ┌────────────┐    ┌───┐    ┌───────────┐   ┌───┐                ┌───┐                                                                                                                                                                                                                                                                                                                                                                                                                                                                                                    \n",
              "q_2 -> 2 ──────────────────────────────────────────────────────────────────────────────────────────────────────────────────────────────────────────────────────────────────────────────────────────────────────────────────────────────────────────────────────────────────────────────────────────────────────────────────────────────────────────────────────────────────────────────────────────────────────────────────────────────────────────────────────────────────────────────────────────────────────────┤ X ├────┤ Rz(-π/256) ├────┤ X ├────┤ Rz(π/256) ├───┤ X ├─────────■──────┤ X ├┤ Rz(π/512) ├──────■──────────────────────────■──────────────────────────■─────────┤ X ├─────────■─────────────────────────────────────┤ X ├─────┤ Rz(-π/256) ├────┤ X ├─────┤ Rz(π/256) ├───┤ X ├─────────■──────┤ X ├┤ Rz(π/512) ├──────■──────────────────────────■──────────────────────────■─────────┤ X ├─────────■──────────────────────────┤ X ├────┤ Rz(-π/256) ├────┤ X ├────┤ Rz(π/256) ├───┤ X ├─────────■──────┤ X ├────────────────────────────────────────────────────────────────────────────────────────────────────────────────────────────────────────────────────────────────────────────────────────────────────────────────────────────────────────────────────────────────────────────────────────────────────────────────────────────────────────────────────────────────────────────────────────────────────────────────────────────────────────────────────────────────────────────────────────────────────\n",
              "                                                                                                                                                                                                                                                                                                                                                                                                                      ┌───┐    ┌────────────┐    ┌───┐    ┌───────────┐   ┌───┐               ┌───┐┌───────────┐   └─┬─┘    └────────────┘    └─┬─┘    └───────────┘   └─┬─┘       ┌─┴─┐    └─┬─┘└───────────┘                 ┌───┐     ┌────────────┐    ┌───┐    ┌───────────┐   ├───┤                   ┌───┐     ┌───────────┐     └─┬─┘     └────────────┘    └─┬─┘     └───────────┘   └─┬─┘       ┌─┴─┐    └─┬─┘└───────────┘                 ┌───┐     ┌────────────┐    ┌───┐    ┌───────────┐   ├───┤               ┌───┐┌───────────┐   └─┬─┘    └────────────┘    └─┬─┘    └───────────┘   └─┬─┘       ┌─┴─┐    └─┬─┘                     ┌───┐    ┌────────────┐    ┌───┐    ┌───────────┐   ┌───┐               ┌───┐                                                                                                                                                                                                                                                                                                                                                                                                  \n",
              "q_3 -> 3 ─────────────────────────────────────────────────────────────────────────────────────────────────────────────────────────────────────────────────────────────────────────────────────────────────────────────────────────────────────────────────────────────────────────────────────────────────────────────────────────────────────────────────────────────────────────────────────────────────────────────┤ X ├────┤ Rz(-π/128) ├────┤ X ├────┤ Rz(π/128) ├───┤ X ├─────────■─────┤ X ├┤ Rz(π/256) ├─────■──────────────────────────■────────────────────────■─────────┤ X ├──────■────────────────────────────────┤ X ├─────┤ Rz(-π/128) ├────┤ X ├────┤ Rz(π/128) ├───┤ X ├─────────■─────────┤ X ├─────┤ Rz(π/256) ├───────■───────────────────────────■─────────────────────────■─────────┤ X ├──────■────────────────────────────────┤ X ├─────┤ Rz(-π/128) ├────┤ X ├────┤ Rz(π/128) ├───┤ X ├─────────■─────┤ X ├┤ Rz(π/256) ├─────■──────────────────────────■────────────────────────■─────────┤ X ├──────■───────────────────────┤ X ├────┤ Rz(-π/128) ├────┤ X ├────┤ Rz(π/128) ├───┤ X ├─────────■─────┤ X ├──────────────────────────────────────────────────────────────────────────────────────────────────────────────────────────────────────────────────────────────────────────────────────────────────────────────────────────────────────────────────────────────────────────────────────────────────────────────────────────────────────────────────────────────────────────────────────────────────\n",
              "                                                                                                                                                                                                                                                                                                                                 ┌───┐    ┌───────────┐    ┌───┐    ┌──────────┐   ┌───┐         ┌───┐┌───────────┐   └─┬─┘    └────────────┘    └─┬─┘    └───────────┘   └─┬─┘       ┌─┴─┐   └─┬─┘└───────────┘                ┌───┐     ┌───────────┐    ┌───┐    ┌──────────┐   ├───┤             ┌───┐    ┌───────────┐    └─┬─┘     └────────────┘    └─┬─┘    └───────────┘   └─┬─┘       ┌─┴─┐       └─┬─┘     └───────────┘                   ┌───┐     ┌───────────┐     ┌───┐    ┌──────────┐   ├───┤             ┌───┐    ┌───────────┐    └─┬─┘     └────────────┘    └─┬─┘    └───────────┘   └─┬─┘       ┌─┴─┐   └─┬─┘└───────────┘                ┌───┐     ┌───────────┐    ┌───┐    ┌──────────┐   ├───┤         ┌───┐┌───────────┐   └─┬─┘    └────────────┘    └─┬─┘    └───────────┘   └─┬─┘       ┌─┴─┐   └─┬─┘                    ┌───┐    ┌───────────┐    ┌───┐    ┌──────────┐   ┌───┐         ┌───┐                                                                                                                                                                                                                                                                                                         \n",
              "q_4 -> 4 ────────────────────────────────────────────────────────────────────────────────────────────────────────────────────────────────────────────────────────────────────────────────────────────────────────────────────────────────────────────────────────────────────────────────────────────────────────────────────────┤ X ├────┤ Rz(-π/64) ├────┤ X ├────┤ Rz(π/64) ├───┤ X ├──────■──┤ X ├┤ Rz(π/128) ├─────■──────────────────────────■────────────────────────■─────────┤ X ├─────■───────────────────────────────┤ X ├─────┤ Rz(-π/64) ├────┤ X ├────┤ Rz(π/64) ├───┤ X ├──────■──────┤ X ├────┤ Rz(π/128) ├──────■───────────────────────────■────────────────────────■─────────┤ X ├─────────■───────────────────────────────────────┤ X ├─────┤ Rz(-π/64) ├─────┤ X ├────┤ Rz(π/64) ├───┤ X ├──────■──────┤ X ├────┤ Rz(π/128) ├──────■───────────────────────────■────────────────────────■─────────┤ X ├─────■───────────────────────────────┤ X ├─────┤ Rz(-π/64) ├────┤ X ├────┤ Rz(π/64) ├───┤ X ├──────■──┤ X ├┤ Rz(π/128) ├─────■──────────────────────────■────────────────────────■─────────┤ X ├─────■──────────────────────┤ X ├────┤ Rz(-π/64) ├────┤ X ├────┤ Rz(π/64) ├───┤ X ├──────■──┤ X ├─────────────────────────────────────────────────────────────────────────────────────────────────────────────────────────────────────────────────────────────────────────────────────────────────────────────────────────────────────────────────────────────────────────────────────────────────────────\n",
              "                                                                                                                                                                                                                                                    ┌───┐┌───────────┐   ┌───┐   ┌──────────┐   ┌───┐        ┌───┐┌──────────┐   └─┬─┘    └───────────┘    └─┬─┘    └──────────┘   └─┬─┘    ┌─┴─┐└─┬─┘└───────────┘                ┌───┐     ┌───────────┐    ┌───┐    ┌──────────┐   ├───┤            ┌───┐    ┌──────────┐    └─┬─┘     └───────────┘    └─┬─┘    └──────────┘   └─┬─┘    ┌─┴─┐    └─┬─┘    └───────────┘                  ┌───┐     ┌───────────┐    ┌───┐    ┌──────────┐   ├───┤                     ┌───┐      ┌──────────┐     └─┬─┘     └───────────┘     └─┬─┘    └──────────┘   └─┬─┘    ┌─┴─┐    └─┬─┘    └───────────┘                  ┌───┐     ┌───────────┐    ┌───┐    ┌──────────┐   ├───┤            ┌───┐    ┌──────────┐    └─┬─┘     └───────────┘    └─┬─┘    └──────────┘   └─┬─┘    ┌─┴─┐└─┬─┘└───────────┘                ┌───┐     ┌───────────┐    ┌───┐    ┌──────────┐   ├───┤        ┌───┐┌──────────┐   └─┬─┘    └───────────┘    └─┬─┘    └──────────┘   └─┬─┘    ┌─┴─┐└─┬─┘                       ┌───┐┌───────────┐   ┌───┐   ┌──────────┐   ┌───┐        ┌───┐                                                                                                                                                                                                                    \n",
              "q_5 -> 5 ───────────────────────────────────────────────────────────────────────────────────────────────────────────────────────────────────────────────────────────────────────────────────────────────────────────────────────────────────────────┤ X ├┤ Rz(-π/32) ├───┤ X ├───┤ Rz(π/32) ├───┤ X ├─────■──┤ X ├┤ Rz(π/64) ├─────■─────────────────────────■───────────────────────■──────┤ X ├──■───────────────────────────────┤ X ├─────┤ Rz(-π/32) ├────┤ X ├────┤ Rz(π/32) ├───┤ X ├─────■──────┤ X ├────┤ Rz(π/64) ├──────■──────────────────────────■───────────────────────■──────┤ X ├──────■─────────────────────────────────────┤ X ├─────┤ Rz(-π/32) ├────┤ X ├────┤ Rz(π/32) ├───┤ X ├─────────■───────────┤ X ├──────┤ Rz(π/64) ├───────■───────────────────────────■───────────────────────■──────┤ X ├──────■─────────────────────────────────────┤ X ├─────┤ Rz(-π/32) ├────┤ X ├────┤ Rz(π/32) ├───┤ X ├─────■──────┤ X ├────┤ Rz(π/64) ├──────■──────────────────────────■───────────────────────■──────┤ X ├──■───────────────────────────────┤ X ├─────┤ Rz(-π/32) ├────┤ X ├────┤ Rz(π/32) ├───┤ X ├─────■──┤ X ├┤ Rz(π/64) ├─────■─────────────────────────■───────────────────────■──────┤ X ├──■─────────────────────────┤ X ├┤ Rz(-π/32) ├───┤ X ├───┤ Rz(π/32) ├───┤ X ├─────■──┤ X ├────────────────────────────────────────────────────────────────────────────────────────────────────────────────────────────────────────────────────────────────────────────────────────────────────────────────────\n",
              "                                                                                                                                                                      ┌───┐    ┌───────────┐   ┌───┐   ┌──────────┐┌───┐        ┌───┐   ┌──────────┐└─┬─┘└───────────┘   └─┬─┘   └──────────┘   └─┬─┘   ┌─┴─┐└─┬─┘└──────────┘                ┌───┐    ┌───────────┐   ┌───┐    ┌──────────┐├───┤         ┌───┐    ┌──────────┐    └─┬─┘     └───────────┘    └─┬─┘    └──────────┘   └─┬─┘   ┌─┴─┐    └─┬─┘    └──────────┘                  ┌───┐    ┌───────────┐   ┌───┐    ┌──────────┐├───┤                 ┌───┐     ┌──────────┐     └─┬─┘     └───────────┘    └─┬─┘    └──────────┘   └─┬─┘       ┌─┴─┐         └─┬─┘      └──────────┘                   ┌───┐     ┌───────────┐   ┌───┐    ┌──────────┐├───┤                 ┌───┐     ┌──────────┐     └─┬─┘     └───────────┘    └─┬─┘    └──────────┘   └─┬─┘   ┌─┴─┐    └─┬─┘    └──────────┘                  ┌───┐    ┌───────────┐   ┌───┐    ┌──────────┐├───┤         ┌───┐    ┌──────────┐    └─┬─┘     └───────────┘    └─┬─┘    └──────────┘   └─┬─┘   ┌─┴─┐└─┬─┘└──────────┘                ┌───┐    ┌───────────┐   ┌───┐    ┌──────────┐├───┤        ┌───┐   ┌──────────┐└─┬─┘└───────────┘   └─┬─┘   └──────────┘   └─┬─┘   ┌─┴─┐└─┬─┘                    ┌───┐    ┌───────────┐   ┌───┐   ┌──────────┐┌───┐        ┌───┐                                                                                                                                 \n",
              "q_6 -> 6 ─────────────────────────────────────────────────────────────────────────────────────────────────────────────────────────────────────────────────────────────┤ X ├────┤ Rz(-π/16) ├───┤ X ├───┤ Rz(π/16) ├┤ X ├──■─────┤ X ├───┤ Rz(π/32) ├──■────────────────────■──────────────────────■─────┤ X ├──■──────────────────────────────┤ X ├────┤ Rz(-π/16) ├───┤ X ├────┤ Rz(π/16) ├┤ X ├──■──────┤ X ├────┤ Rz(π/32) ├──────■──────────────────────────■───────────────────────■─────┤ X ├──────■────────────────────────────────────┤ X ├────┤ Rz(-π/16) ├───┤ X ├────┤ Rz(π/16) ├┤ X ├──────■──────────┤ X ├─────┤ Rz(π/32) ├───────■──────────────────────────■───────────────────────■─────────┤ X ├───────────■───────────────────────────────────────┤ X ├─────┤ Rz(-π/16) ├───┤ X ├────┤ Rz(π/16) ├┤ X ├──────■──────────┤ X ├─────┤ Rz(π/32) ├───────■──────────────────────────■───────────────────────■─────┤ X ├──────■────────────────────────────────────┤ X ├────┤ Rz(-π/16) ├───┤ X ├────┤ Rz(π/16) ├┤ X ├──■──────┤ X ├────┤ Rz(π/32) ├──────■──────────────────────────■───────────────────────■─────┤ X ├──■──────────────────────────────┤ X ├────┤ Rz(-π/16) ├───┤ X ├────┤ Rz(π/16) ├┤ X ├──■─────┤ X ├───┤ Rz(π/32) ├──■────────────────────■──────────────────────■─────┤ X ├──■──────────────────────┤ X ├────┤ Rz(-π/16) ├───┤ X ├───┤ Rz(π/16) ├┤ X ├──■─────┤ X ├─────────────────────────────────────────────────────────────────────────────────────────────────────────────────────────────────\n",
              "                                                                                            ┌───┐┌──────────┐           ┌───┐┌─────────┐┌───┐     ┌───┐┌──────────┐   └─┬─┘    └───────────┘   └─┬─┘   └──────────┘└─┬─┘┌─┴─┐   └─┬─┘   └──────────┘┌───┐ ┌──────────┐              ┌───┐    ┌─────────┐├───┤        ┌───┐    ┌──────────┐    └─┬─┘    └───────────┘   └─┬─┘    └──────────┘└─┬─┘┌─┴─┐    └─┬─┘    └──────────┘    ┌───┐      ┌──────────┐                ┌───┐    ┌─────────┐├───┤                ┌───┐     ┌──────────┐     └─┬─┘    └───────────┘   └─┬─┘    └──────────┘└─┬─┘    ┌─┴─┐        └─┬─┘     └──────────┘     ┌───┐      ┌──────────┐                ┌───┐    ┌─────────┐    ├───┤                       ┌───┐      ┌──────────┐     └─┬─┘     └───────────┘   └─┬─┘    └──────────┘└─┬─┘    ┌─┴─┐        └─┬─┘     └──────────┘     ┌───┐      ┌──────────┐                ┌───┐    ┌─────────┐├───┤                ┌───┐     ┌──────────┐     └─┬─┘    └───────────┘   └─┬─┘    └──────────┘└─┬─┘┌─┴─┐    └─┬─┘    └──────────┘    ┌───┐      ┌──────────┐                ┌───┐    ┌─────────┐├───┤        ┌───┐    ┌──────────┐    └─┬─┘    └───────────┘   └─┬─┘    └──────────┘└─┬─┘┌─┴─┐   └─┬─┘   └──────────┘┌───┐ ┌──────────┐              ┌───┐    ┌─────────┐├───┤     ┌───┐┌──────────┐   └─┬─┘    └───────────┘   └─┬─┘   └──────────┘└─┬─┘┌─┴─┐   └─┬─┘         ┌───┐┌──────────┐           ┌───┐┌─────────┐┌───┐     ┌───┐                                                             \n",
              "q_7 -> 7 ───────────────────────────────────────────────────────────────────────────────────┤ X ├┤ Rz(-π/8) ├───────────┤ X ├┤ Rz(π/8) ├┤ X ├──■──┤ X ├┤ Rz(π/16) ├─────■────────────────────────■───────────────────■──┤ X ├─────■─────────────────┤ X ├─┤ Rz(-π/8) ├──────────────┤ X ├────┤ Rz(π/8) ├┤ X ├──■─────┤ X ├────┤ Rz(π/16) ├──────■────────────────────────■────────────────────■──┤ X ├──────■──────────────────────┤ X ├──────┤ Rz(-π/8) ├────────────────┤ X ├────┤ Rz(π/8) ├┤ X ├──────■─────────┤ X ├─────┤ Rz(π/16) ├───────■────────────────────────■────────────────────■──────┤ X ├──────────■────────────────────────┤ X ├──────┤ Rz(-π/8) ├────────────────┤ X ├────┤ Rz(π/8) ├────┤ X ├───────────■───────────┤ X ├──────┤ Rz(π/16) ├───────■─────────────────────────■────────────────────■──────┤ X ├──────────■────────────────────────┤ X ├──────┤ Rz(-π/8) ├────────────────┤ X ├────┤ Rz(π/8) ├┤ X ├──────■─────────┤ X ├─────┤ Rz(π/16) ├───────■────────────────────────■────────────────────■──┤ X ├──────■──────────────────────┤ X ├──────┤ Rz(-π/8) ├────────────────┤ X ├────┤ Rz(π/8) ├┤ X ├──■─────┤ X ├────┤ Rz(π/16) ├──────■────────────────────────■────────────────────■──┤ X ├─────■─────────────────┤ X ├─┤ Rz(-π/8) ├──────────────┤ X ├────┤ Rz(π/8) ├┤ X ├──■──┤ X ├┤ Rz(π/16) ├─────■────────────────────────■───────────────────■──┤ X ├─────■───────────┤ X ├┤ Rz(-π/8) ├───────────┤ X ├┤ Rz(π/8) ├┤ X ├──■──┤ X ├─────────────────────────────────────────────────────────────\n",
              "                                                ┌───┐┌──────────┐┌───┐┌─────────┐┌─────────┐└─┬─┘└──┬────┬──┘┌─────────┐└─┬─┘├─────────┤└─┬─┘  │  └─┬─┘└──────────┘                                                ┌───┐└───┘┌─────────┐   ┌────┐   └─┬─┘ ├─────────┬┘┌─────────┐   └─┬─┘    └─────────┘└─┬─┘  │     └─┬─┘    └──────────┘                                                  ┌───┐└───┘ ┌─────────┐    ┌────┐       └─┬─┘      ├─────────┬┘ ┌─────────┐    └─┬─┘    └─────────┘└─┬─┘      │         └─┬─┘     └──────────┘                                                   ┌───┐    └───┘     ┌─────────┐     ┌────┐        └─┬─┘      ├─────────┬┘ ┌─────────┐    └─┬─┘    └─────────┘    └─┬─┘           │           └─┬─┘      └──────────┘                                                    ┌───┐    └───┘     ┌─────────┐     ┌────┐        └─┬─┘      ├─────────┬┘ ┌─────────┐    └─┬─┘    └─────────┘└─┬─┘      │         └─┬─┘     └──────────┘                                                   ┌───┐└───┘ ┌─────────┐    ┌────┐       └─┬─┘      ├─────────┬┘ ┌─────────┐    └─┬─┘    └─────────┘└─┬─┘  │     └─┬─┘    └──────────┘                                                  ┌───┐└───┘┌─────────┐   ┌────┐   └─┬─┘ ├─────────┬┘┌─────────┐   └─┬─┘    └─────────┘└─┬─┘  │  └─┬─┘└──────────┘                                                ┌───┐└───┘┌─────────┐┌────┐└─┬─┘├─────────┬┘┌─────────┐└─┬─┘└─────────┘└─┬─┘  │  └─┬─┘                                                             \n",
              "q_8 -> 8 ───────────────────────────────────────┤ X ├┤ Rz(-π/4) ├┤ X ├┤ Rz(π/4) ├┤ Rz(π/2) ├──┼─────┤ √X ├───┤ Rz(π/2) ├──┼──┤ Rz(π/4) ├──┼────┼────┼───────■────────────────────────■──────────────────────■──────┤ X ├──■──┤ Rz(π/2) ├───┤ √X ├─────┼───┤ Rz(π/2) ├─┤ Rz(π/4) ├─────┼───────────────────┼────┼───────┼───────────■─────────────────────────■───────────────────────■──────┤ X ├──■───┤ Rz(π/2) ├────┤ √X ├─────────┼────────┤ Rz(π/2) ├──┤ Rz(π/4) ├──────┼───────────────────┼────────┼───────────┼────────────■──────────────────────────■───────────────────────■──────┤ X ├──────■───────┤ Rz(π/2) ├─────┤ √X ├──────────┼────────┤ Rz(π/2) ├──┤ Rz(π/4) ├──────┼───────────────────────┼─────────────┼─────────────┼─────────────■───────────────────────────■───────────────────────■──────┤ X ├──────■───────┤ Rz(π/2) ├─────┤ √X ├──────────┼────────┤ Rz(π/2) ├──┤ Rz(π/4) ├──────┼───────────────────┼────────┼───────────┼────────────■──────────────────────────■───────────────────────■──────┤ X ├──■───┤ Rz(π/2) ├────┤ √X ├─────────┼────────┤ Rz(π/2) ├──┤ Rz(π/4) ├──────┼───────────────────┼────┼───────┼───────────■─────────────────────────■───────────────────────■──────┤ X ├──■──┤ Rz(π/2) ├───┤ √X ├─────┼───┤ Rz(π/2) ├─┤ Rz(π/4) ├─────┼───────────────────┼────┼────┼───────■────────────────────────■──────────────────────■──────┤ X ├──■──┤ Rz(π/2) ├┤ √X ├──┼──┤ Rz(π/2) ├─┤ Rz(π/4) ├──┼───────────────┼────┼────┼────■────────────────■─────────────────────────────────────────\n",
              "         ┌─────────┐┌────┐┌─────────┐┌─────────┐└─┬─┘└──────────┘└─┬─┘├─────────┤└─────────┘  │     └────┘   └─────────┘  │  └─────────┘  │  ┌─┴─┐  │     ┌─┴─┐    ┌──────────┐    ┌─┴─┐    ┌─────────┐   ┌─┴─┐    └─┬─┘┌─┴─┐├─────────┤   └────┘     │   └─────────┘ └─────────┘     │                   │  ┌─┴─┐     │         ┌─┴─┐     ┌──────────┐    ┌─┴─┐    ┌─────────┐    ┌─┴─┐    └─┬─┘┌─┴─┐ ├─────────┤    └────┘         │        └─────────┘  └─────────┘      │                   │      ┌─┴─┐         │          ┌─┴─┐      ┌──────────┐    ┌─┴─┐    ┌─────────┐    ┌─┴─┐    └─┬─┘    ┌─┴─┐     ├─────────┤     └────┘          │        └─────────┘  └─────────┘      │                       │           ┌─┴─┐           │           ┌─┴─┐      ┌──────────┐     ┌─┴─┐    ┌─────────┐    ┌─┴─┐    └─┬─┘    ┌─┴─┐     ├─────────┤     └────┘          │        └─────────┘  └─────────┘      │                   │      ┌─┴─┐         │          ┌─┴─┐      ┌──────────┐    ┌─┴─┐    ┌─────────┐    ┌─┴─┐    └─┬─┘┌─┴─┐ ├─────────┤    └────┘         │        └─────────┘  └─────────┘      │                   │  ┌─┴─┐     │         ┌─┴─┐     ┌──────────┐    ┌─┴─┐    ┌─────────┐    ┌─┴─┐    └─┬─┘┌─┴─┐├─────────┤   └────┘     │   └─────────┘ └─────────┘     │                   │  ┌─┴─┐  │     ┌─┴─┐    ┌──────────┐    ┌─┴─┐    ┌─────────┐   ┌─┴─┐    └─┬─┘┌─┴─┐├─────────┤└────┘  │  └─────────┘ └─────────┘  │               │  ┌─┴─┐  │  ┌─┴─┐┌──────────┐┌─┴─┐┌─────────┐┌─────────┐┌────┐┌─────────┐\n",
              "q_9 -> 9 ┤ Rz(π/2) ├┤ √X ├┤ Rz(π/2) ├┤ Rz(π/4) ├──■────────────────■──┤ Rz(π/8) ├─────────────■───────────────────────────■───────────────■──┤ X ├──■─────┤ X ├────┤ Rz(-π/4) ├────┤ X ├────┤ Rz(π/4) ├───┤ X ├──────■──┤ X ├┤ Rz(π/8) ├──────────────■───────────────────────────────■───────────────────■──┤ X ├─────■─────────┤ X ├─────┤ Rz(-π/4) ├────┤ X ├────┤ Rz(π/4) ├────┤ X ├──────■──┤ X ├─┤ Rz(π/8) ├───────────────────■──────────────────────────────────────■───────────────────■──────┤ X ├─────────■──────────┤ X ├──────┤ Rz(-π/4) ├────┤ X ├────┤ Rz(π/4) ├────┤ X ├──────■──────┤ X ├─────┤ Rz(π/8) ├─────────────────────■──────────────────────────────────────■───────────────────────■───────────┤ X ├───────────■───────────┤ X ├──────┤ Rz(-π/4) ├─────┤ X ├────┤ Rz(π/4) ├────┤ X ├──────■──────┤ X ├─────┤ Rz(π/8) ├─────────────────────■──────────────────────────────────────■───────────────────■──────┤ X ├─────────■──────────┤ X ├──────┤ Rz(-π/4) ├────┤ X ├────┤ Rz(π/4) ├────┤ X ├──────■──┤ X ├─┤ Rz(π/8) ├───────────────────■──────────────────────────────────────■───────────────────■──┤ X ├─────■─────────┤ X ├─────┤ Rz(-π/4) ├────┤ X ├────┤ Rz(π/4) ├────┤ X ├──────■──┤ X ├┤ Rz(π/8) ├──────────────■───────────────────────────────■───────────────────■──┤ X ├──■─────┤ X ├────┤ Rz(-π/4) ├────┤ X ├────┤ Rz(π/4) ├───┤ X ├──────■──┤ X ├┤ Rz(π/8) ├────────■───────────────────────────■───────────────■──┤ X ├──■──┤ X ├┤ Rz(-π/4) ├┤ X ├┤ Rz(π/4) ├┤ Rz(π/2) ├┤ √X ├┤ Rz(π/2) ├\n",
              "         └─────────┘└────┘└─────────┘└─────────┘                      └─────────┘                                                            └───┘        └───┘    └──────────┘    └───┘    └─────────┘   └───┘         └───┘└─────────┘                                                                     └───┘               └───┘     └──────────┘    └───┘    └─────────┘    └───┘         └───┘ └─────────┘                                                                                     └───┘                    └───┘      └──────────┘    └───┘    └─────────┘    └───┘             └───┘     └─────────┘                                                                                                └───┘                       └───┘      └──────────┘     └───┘    └─────────┘    └───┘             └───┘     └─────────┘                                                                                       └───┘                    └───┘      └──────────┘    └───┘    └─────────┘    └───┘         └───┘ └─────────┘                                                                                 └───┘               └───┘     └──────────┘    └───┘    └─────────┘    └───┘         └───┘└─────────┘                                                                     └───┘        └───┘    └──────────┘    └───┘    └─────────┘   └───┘         └───┘└─────────┘                                                       └───┘     └───┘└──────────┘└───┘└─────────┘└─────────┘└────┘└─────────┘</pre>"
            ],
            "text/plain": [
              "global phase: 1.5723\n",
              "                                                                                                                                                                                                                                                                                                                                                                                                                                                                                                                                                                                                                                                                                                                          ┌───┐    ┌─────────────┐    ┌───┐     ┌────────────┐    ┌───┐                   ┌───┐                                                                                                                                                                                                                                                                                                                                                                                                                                                                                                                                                                                                                                                                                                                       \n",
              "q_0 -> 0 ─────────────────────────────────────────────────────────────────────────────────────────────────────────────────────────────────────────────────────────────────────────────────────────────────────────────────────────────────────────────────────────────────────────────────────────────────────────────────────────────────────────────────────────────────────────────────────────────────────────────────────────────────────────────────────────────────────────────────────────────────────────────────────────────────────────────────────────────────────────────────────────────────────────────────────────────────────────────────────────────────────────────────────────────────────────────────┤ X ├────┤ Rz(-π/1024) ├────┤ X ├─────┤ Rz(π/1024) ├────┤ X ├─────────■─────────┤ X ├───────────────────────────────────────────────────────────────────────────────────────────────────────────────────────────────────────────────────────────────────────────────────────────────────────────────────────────────────────────────────────────────────────────────────────────────────────────────────────────────────────────────────────────────────────────────────────────────────────────────────────────────────────────────────────────────────────────────────────────────────────────────────────────────────────────────────────────────────────────────────────────────────────────────────────────────────────────────────────────────────────────────────────────────────────────────────────\n",
              "                                                                                                                                                                                                                                                                                                                                                                                                                                                                                                                                                                                                                  ┌───┐    ┌────────────┐    ┌───┐     ┌───────────┐    ┌───┐                   ┌───┐   ┌────────────┐    └─┬─┘    └─────────────┘    └─┬─┘     └────────────┘    └─┬─┘       ┌─┴─┐       └─┬─┘                          ┌───┐    ┌────────────┐    ┌───┐     ┌───────────┐    ┌───┐                   ┌───┐                                                                                                                                                                                                                                                                                                                                                                                                                                                                                                                                                                                                          \n",
              "q_1 -> 1 ─────────────────────────────────────────────────────────────────────────────────────────────────────────────────────────────────────────────────────────────────────────────────────────────────────────────────────────────────────────────────────────────────────────────────────────────────────────────────────────────────────────────────────────────────────────────────────────────────────────────────────────────────────────────────────────────────────────────────────────────────────────────────────────────────────────────────────────────────────────────────────────────────────────┤ X ├────┤ Rz(-π/512) ├────┤ X ├─────┤ Rz(π/512) ├────┤ X ├─────────■─────────┤ X ├───┤ Rz(π/1024) ├──────■───────────────────────────■───────────────────────────■─────────┤ X ├─────────■────────────────────────────┤ X ├────┤ Rz(-π/512) ├────┤ X ├─────┤ Rz(π/512) ├────┤ X ├─────────■─────────┤ X ├──────────────────────────────────────────────────────────────────────────────────────────────────────────────────────────────────────────────────────────────────────────────────────────────────────────────────────────────────────────────────────────────────────────────────────────────────────────────────────────────────────────────────────────────────────────────────────────────────────────────────────────────────────────────────────────────────────────────────────────────────────────────────────────────────────────────────────────────────────────────────────────────────────────\n",
              "                                                                                                                                                                                                                                                                                                                                                                                                                                                                                                                   ┌───┐    ┌────────────┐    ┌───┐    ┌───────────┐   ┌───┐                ┌───┐┌───────────┐    └─┬─┘    └────────────┘    └─┬─┘     └───────────┘    └─┬─┘       ┌─┴─┐       └─┬─┘   └────────────┘                  ┌───┐     ┌────────────┐    ┌───┐     ┌───────────┐   ├───┤                ┌───┐┌───────────┐    └─┬─┘    └────────────┘    └─┬─┘     └───────────┘    └─┬─┘       ┌─┴─┐       └─┬─┘                        ┌───┐    ┌────────────┐    ┌───┐    ┌───────────┐   ┌───┐                ┌───┐                                                                                                                                                                                                                                                                                                                                                                                                                                                                                                    \n",
              "q_2 -> 2 ──────────────────────────────────────────────────────────────────────────────────────────────────────────────────────────────────────────────────────────────────────────────────────────────────────────────────────────────────────────────────────────────────────────────────────────────────────────────────────────────────────────────────────────────────────────────────────────────────────────────────────────────────────────────────────────────────────────────────────────────────────────┤ X ├────┤ Rz(-π/256) ├────┤ X ├────┤ Rz(π/256) ├───┤ X ├─────────■──────┤ X ├┤ Rz(π/512) ├──────■──────────────────────────■──────────────────────────■─────────┤ X ├─────────■─────────────────────────────────────┤ X ├─────┤ Rz(-π/256) ├────┤ X ├─────┤ Rz(π/256) ├───┤ X ├─────────■──────┤ X ├┤ Rz(π/512) ├──────■──────────────────────────■──────────────────────────■─────────┤ X ├─────────■──────────────────────────┤ X ├────┤ Rz(-π/256) ├────┤ X ├────┤ Rz(π/256) ├───┤ X ├─────────■──────┤ X ├────────────────────────────────────────────────────────────────────────────────────────────────────────────────────────────────────────────────────────────────────────────────────────────────────────────────────────────────────────────────────────────────────────────────────────────────────────────────────────────────────────────────────────────────────────────────────────────────────────────────────────────────────────────────────────────────────────────────────────────────────\n",
              "                                                                                                                                                                                                                                                                                                                                                                                                                      ┌───┐    ┌────────────┐    ┌───┐    ┌───────────┐   ┌───┐               ┌───┐┌───────────┐   └─┬─┘    └────────────┘    └─┬─┘    └───────────┘   └─┬─┘       ┌─┴─┐    └─┬─┘└───────────┘                 ┌───┐     ┌────────────┐    ┌───┐    ┌───────────┐   ├───┤                   ┌───┐     ┌───────────┐     └─┬─┘     └────────────┘    └─┬─┘     └───────────┘   └─┬─┘       ┌─┴─┐    └─┬─┘└───────────┘                 ┌───┐     ┌────────────┐    ┌───┐    ┌───────────┐   ├───┤               ┌───┐┌───────────┐   └─┬─┘    └────────────┘    └─┬─┘    └───────────┘   └─┬─┘       ┌─┴─┐    └─┬─┘                     ┌───┐    ┌────────────┐    ┌───┐    ┌───────────┐   ┌───┐               ┌───┐                                                                                                                                                                                                                                                                                                                                                                                                  \n",
              "q_3 -> 3 ─────────────────────────────────────────────────────────────────────────────────────────────────────────────────────────────────────────────────────────────────────────────────────────────────────────────────────────────────────────────────────────────────────────────────────────────────────────────────────────────────────────────────────────────────────────────────────────────────────────────┤ X ├────┤ Rz(-π/128) ├────┤ X ├────┤ Rz(π/128) ├───┤ X ├─────────■─────┤ X ├┤ Rz(π/256) ├─────■──────────────────────────■────────────────────────■─────────┤ X ├──────■────────────────────────────────┤ X ├─────┤ Rz(-π/128) ├────┤ X ├────┤ Rz(π/128) ├───┤ X ├─────────■─────────┤ X ├─────┤ Rz(π/256) ├───────■───────────────────────────■─────────────────────────■─────────┤ X ├──────■────────────────────────────────┤ X ├─────┤ Rz(-π/128) ├────┤ X ├────┤ Rz(π/128) ├───┤ X ├─────────■─────┤ X ├┤ Rz(π/256) ├─────■──────────────────────────■────────────────────────■─────────┤ X ├──────■───────────────────────┤ X ├────┤ Rz(-π/128) ├────┤ X ├────┤ Rz(π/128) ├───┤ X ├─────────■─────┤ X ├──────────────────────────────────────────────────────────────────────────────────────────────────────────────────────────────────────────────────────────────────────────────────────────────────────────────────────────────────────────────────────────────────────────────────────────────────────────────────────────────────────────────────────────────────────────────────────────────────\n",
              "                                                                                                                                                                                                                                                                                                                                 ┌───┐    ┌───────────┐    ┌───┐    ┌──────────┐   ┌───┐         ┌───┐┌───────────┐   └─┬─┘    └────────────┘    └─┬─┘    └───────────┘   └─┬─┘       ┌─┴─┐   └─┬─┘└───────────┘                ┌───┐     ┌───────────┐    ┌───┐    ┌──────────┐   ├───┤             ┌───┐    ┌───────────┐    └─┬─┘     └────────────┘    └─┬─┘    └───────────┘   └─┬─┘       ┌─┴─┐       └─┬─┘     └───────────┘                   ┌───┐     ┌───────────┐     ┌───┐    ┌──────────┐   ├───┤             ┌───┐    ┌───────────┐    └─┬─┘     └────────────┘    └─┬─┘    └───────────┘   └─┬─┘       ┌─┴─┐   └─┬─┘└───────────┘                ┌───┐     ┌───────────┐    ┌───┐    ┌──────────┐   ├───┤         ┌───┐┌───────────┐   └─┬─┘    └────────────┘    └─┬─┘    └───────────┘   └─┬─┘       ┌─┴─┐   └─┬─┘                    ┌───┐    ┌───────────┐    ┌───┐    ┌──────────┐   ┌───┐         ┌───┐                                                                                                                                                                                                                                                                                                         \n",
              "q_4 -> 4 ────────────────────────────────────────────────────────────────────────────────────────────────────────────────────────────────────────────────────────────────────────────────────────────────────────────────────────────────────────────────────────────────────────────────────────────────────────────────────────┤ X ├────┤ Rz(-π/64) ├────┤ X ├────┤ Rz(π/64) ├───┤ X ├──────■──┤ X ├┤ Rz(π/128) ├─────■──────────────────────────■────────────────────────■─────────┤ X ├─────■───────────────────────────────┤ X ├─────┤ Rz(-π/64) ├────┤ X ├────┤ Rz(π/64) ├───┤ X ├──────■──────┤ X ├────┤ Rz(π/128) ├──────■───────────────────────────■────────────────────────■─────────┤ X ├─────────■───────────────────────────────────────┤ X ├─────┤ Rz(-π/64) ├─────┤ X ├────┤ Rz(π/64) ├───┤ X ├──────■──────┤ X ├────┤ Rz(π/128) ├──────■───────────────────────────■────────────────────────■─────────┤ X ├─────■───────────────────────────────┤ X ├─────┤ Rz(-π/64) ├────┤ X ├────┤ Rz(π/64) ├───┤ X ├──────■──┤ X ├┤ Rz(π/128) ├─────■──────────────────────────■────────────────────────■─────────┤ X ├─────■──────────────────────┤ X ├────┤ Rz(-π/64) ├────┤ X ├────┤ Rz(π/64) ├───┤ X ├──────■──┤ X ├─────────────────────────────────────────────────────────────────────────────────────────────────────────────────────────────────────────────────────────────────────────────────────────────────────────────────────────────────────────────────────────────────────────────────────────────────────────\n",
              "                                                                                                                                                                                                                                                    ┌───┐┌───────────┐   ┌───┐   ┌──────────┐   ┌───┐        ┌───┐┌──────────┐   └─┬─┘    └───────────┘    └─┬─┘    └──────────┘   └─┬─┘    ┌─┴─┐└─┬─┘└───────────┘                ┌───┐     ┌───────────┐    ┌───┐    ┌──────────┐   ├───┤            ┌───┐    ┌──────────┐    └─┬─┘     └───────────┘    └─┬─┘    └──────────┘   └─┬─┘    ┌─┴─┐    └─┬─┘    └───────────┘                  ┌───┐     ┌───────────┐    ┌───┐    ┌──────────┐   ├───┤                     ┌───┐      ┌──────────┐     └─┬─┘     └───────────┘     └─┬─┘    └──────────┘   └─┬─┘    ┌─┴─┐    └─┬─┘    └───────────┘                  ┌───┐     ┌───────────┐    ┌───┐    ┌──────────┐   ├───┤            ┌───┐    ┌──────────┐    └─┬─┘     └───────────┘    └─┬─┘    └──────────┘   └─┬─┘    ┌─┴─┐└─┬─┘└───────────┘                ┌───┐     ┌───────────┐    ┌───┐    ┌──────────┐   ├───┤        ┌───┐┌──────────┐   └─┬─┘    └───────────┘    └─┬─┘    └──────────┘   └─┬─┘    ┌─┴─┐└─┬─┘                       ┌───┐┌───────────┐   ┌───┐   ┌──────────┐   ┌───┐        ┌───┐                                                                                                                                                                                                                    \n",
              "q_5 -> 5 ───────────────────────────────────────────────────────────────────────────────────────────────────────────────────────────────────────────────────────────────────────────────────────────────────────────────────────────────────────────┤ X ├┤ Rz(-π/32) ├───┤ X ├───┤ Rz(π/32) ├───┤ X ├─────■──┤ X ├┤ Rz(π/64) ├─────■─────────────────────────■───────────────────────■──────┤ X ├──■───────────────────────────────┤ X ├─────┤ Rz(-π/32) ├────┤ X ├────┤ Rz(π/32) ├───┤ X ├─────■──────┤ X ├────┤ Rz(π/64) ├──────■──────────────────────────■───────────────────────■──────┤ X ├──────■─────────────────────────────────────┤ X ├─────┤ Rz(-π/32) ├────┤ X ├────┤ Rz(π/32) ├───┤ X ├─────────■───────────┤ X ├──────┤ Rz(π/64) ├───────■───────────────────────────■───────────────────────■──────┤ X ├──────■─────────────────────────────────────┤ X ├─────┤ Rz(-π/32) ├────┤ X ├────┤ Rz(π/32) ├───┤ X ├─────■──────┤ X ├────┤ Rz(π/64) ├──────■──────────────────────────■───────────────────────■──────┤ X ├──■───────────────────────────────┤ X ├─────┤ Rz(-π/32) ├────┤ X ├────┤ Rz(π/32) ├───┤ X ├─────■──┤ X ├┤ Rz(π/64) ├─────■─────────────────────────■───────────────────────■──────┤ X ├──■─────────────────────────┤ X ├┤ Rz(-π/32) ├───┤ X ├───┤ Rz(π/32) ├───┤ X ├─────■──┤ X ├────────────────────────────────────────────────────────────────────────────────────────────────────────────────────────────────────────────────────────────────────────────────────────────────────────────────────\n",
              "                                                                                                                                                                      ┌───┐    ┌───────────┐   ┌───┐   ┌──────────┐┌───┐        ┌───┐   ┌──────────┐└─┬─┘└───────────┘   └─┬─┘   └──────────┘   └─┬─┘   ┌─┴─┐└─┬─┘└──────────┘                ┌───┐    ┌───────────┐   ┌───┐    ┌──────────┐├───┤         ┌───┐    ┌──────────┐    └─┬─┘     └───────────┘    └─┬─┘    └──────────┘   └─┬─┘   ┌─┴─┐    └─┬─┘    └──────────┘                  ┌───┐    ┌───────────┐   ┌───┐    ┌──────────┐├───┤                 ┌───┐     ┌──────────┐     └─┬─┘     └───────────┘    └─┬─┘    └──────────┘   └─┬─┘       ┌─┴─┐         └─┬─┘      └──────────┘                   ┌───┐     ┌───────────┐   ┌───┐    ┌──────────┐├───┤                 ┌───┐     ┌──────────┐     └─┬─┘     └───────────┘    └─┬─┘    └──────────┘   └─┬─┘   ┌─┴─┐    └─┬─┘    └──────────┘                  ┌───┐    ┌───────────┐   ┌───┐    ┌──────────┐├───┤         ┌───┐    ┌──────────┐    └─┬─┘     └───────────┘    └─┬─┘    └──────────┘   └─┬─┘   ┌─┴─┐└─┬─┘└──────────┘                ┌───┐    ┌───────────┐   ┌───┐    ┌──────────┐├───┤        ┌───┐   ┌──────────┐└─┬─┘└───────────┘   └─┬─┘   └──────────┘   └─┬─┘   ┌─┴─┐└─┬─┘                    ┌───┐    ┌───────────┐   ┌───┐   ┌──────────┐┌───┐        ┌───┐                                                                                                                                 \n",
              "q_6 -> 6 ─────────────────────────────────────────────────────────────────────────────────────────────────────────────────────────────────────────────────────────────┤ X ├────┤ Rz(-π/16) ├───┤ X ├───┤ Rz(π/16) ├┤ X ├──■─────┤ X ├───┤ Rz(π/32) ├──■────────────────────■──────────────────────■─────┤ X ├──■──────────────────────────────┤ X ├────┤ Rz(-π/16) ├───┤ X ├────┤ Rz(π/16) ├┤ X ├──■──────┤ X ├────┤ Rz(π/32) ├──────■──────────────────────────■───────────────────────■─────┤ X ├──────■────────────────────────────────────┤ X ├────┤ Rz(-π/16) ├───┤ X ├────┤ Rz(π/16) ├┤ X ├──────■──────────┤ X ├─────┤ Rz(π/32) ├───────■──────────────────────────■───────────────────────■─────────┤ X ├───────────■───────────────────────────────────────┤ X ├─────┤ Rz(-π/16) ├───┤ X ├────┤ Rz(π/16) ├┤ X ├──────■──────────┤ X ├─────┤ Rz(π/32) ├───────■──────────────────────────■───────────────────────■─────┤ X ├──────■────────────────────────────────────┤ X ├────┤ Rz(-π/16) ├───┤ X ├────┤ Rz(π/16) ├┤ X ├──■──────┤ X ├────┤ Rz(π/32) ├──────■──────────────────────────■───────────────────────■─────┤ X ├──■──────────────────────────────┤ X ├────┤ Rz(-π/16) ├───┤ X ├────┤ Rz(π/16) ├┤ X ├──■─────┤ X ├───┤ Rz(π/32) ├──■────────────────────■──────────────────────■─────┤ X ├──■──────────────────────┤ X ├────┤ Rz(-π/16) ├───┤ X ├───┤ Rz(π/16) ├┤ X ├──■─────┤ X ├─────────────────────────────────────────────────────────────────────────────────────────────────────────────────────────────────\n",
              "                                                                                            ┌───┐┌──────────┐           ┌───┐┌─────────┐┌───┐     ┌───┐┌──────────┐   └─┬─┘    └───────────┘   └─┬─┘   └──────────┘└─┬─┘┌─┴─┐   └─┬─┘   └──────────┘┌───┐ ┌──────────┐              ┌───┐    ┌─────────┐├───┤        ┌───┐    ┌──────────┐    └─┬─┘    └───────────┘   └─┬─┘    └──────────┘└─┬─┘┌─┴─┐    └─┬─┘    └──────────┘    ┌───┐      ┌──────────┐                ┌───┐    ┌─────────┐├───┤                ┌───┐     ┌──────────┐     └─┬─┘    └───────────┘   └─┬─┘    └──────────┘└─┬─┘    ┌─┴─┐        └─┬─┘     └──────────┘     ┌───┐      ┌──────────┐                ┌───┐    ┌─────────┐    ├───┤                       ┌───┐      ┌──────────┐     └─┬─┘     └───────────┘   └─┬─┘    └──────────┘└─┬─┘    ┌─┴─┐        └─┬─┘     └──────────┘     ┌───┐      ┌──────────┐                ┌───┐    ┌─────────┐├───┤                ┌───┐     ┌──────────┐     └─┬─┘    └───────────┘   └─┬─┘    └──────────┘└─┬─┘┌─┴─┐    └─┬─┘    └──────────┘    ┌───┐      ┌──────────┐                ┌───┐    ┌─────────┐├───┤        ┌───┐    ┌──────────┐    └─┬─┘    └───────────┘   └─┬─┘    └──────────┘└─┬─┘┌─┴─┐   └─┬─┘   └──────────┘┌───┐ ┌──────────┐              ┌───┐    ┌─────────┐├───┤     ┌───┐┌──────────┐   └─┬─┘    └───────────┘   └─┬─┘   └──────────┘└─┬─┘┌─┴─┐   └─┬─┘         ┌───┐┌──────────┐           ┌───┐┌─────────┐┌───┐     ┌───┐                                                             \n",
              "q_7 -> 7 ───────────────────────────────────────────────────────────────────────────────────┤ X ├┤ Rz(-π/8) ├───────────┤ X ├┤ Rz(π/8) ├┤ X ├──■──┤ X ├┤ Rz(π/16) ├─────■────────────────────────■───────────────────■──┤ X ├─────■─────────────────┤ X ├─┤ Rz(-π/8) ├──────────────┤ X ├────┤ Rz(π/8) ├┤ X ├──■─────┤ X ├────┤ Rz(π/16) ├──────■────────────────────────■────────────────────■──┤ X ├──────■──────────────────────┤ X ├──────┤ Rz(-π/8) ├────────────────┤ X ├────┤ Rz(π/8) ├┤ X ├──────■─────────┤ X ├─────┤ Rz(π/16) ├───────■────────────────────────■────────────────────■──────┤ X ├──────────■────────────────────────┤ X ├──────┤ Rz(-π/8) ├────────────────┤ X ├────┤ Rz(π/8) ├────┤ X ├───────────■───────────┤ X ├──────┤ Rz(π/16) ├───────■─────────────────────────■────────────────────■──────┤ X ├──────────■────────────────────────┤ X ├──────┤ Rz(-π/8) ├────────────────┤ X ├────┤ Rz(π/8) ├┤ X ├──────■─────────┤ X ├─────┤ Rz(π/16) ├───────■────────────────────────■────────────────────■──┤ X ├──────■──────────────────────┤ X ├──────┤ Rz(-π/8) ├────────────────┤ X ├────┤ Rz(π/8) ├┤ X ├──■─────┤ X ├────┤ Rz(π/16) ├──────■────────────────────────■────────────────────■──┤ X ├─────■─────────────────┤ X ├─┤ Rz(-π/8) ├──────────────┤ X ├────┤ Rz(π/8) ├┤ X ├──■──┤ X ├┤ Rz(π/16) ├─────■────────────────────────■───────────────────■──┤ X ├─────■───────────┤ X ├┤ Rz(-π/8) ├───────────┤ X ├┤ Rz(π/8) ├┤ X ├──■──┤ X ├─────────────────────────────────────────────────────────────\n",
              "                                                ┌───┐┌──────────┐┌───┐┌─────────┐┌─────────┐└─┬─┘└──┬────┬──┘┌─────────┐└─┬─┘├─────────┤└─┬─┘  │  └─┬─┘└──────────┘                                                ┌───┐└───┘┌─────────┐   ┌────┐   └─┬─┘ ├─────────┬┘┌─────────┐   └─┬─┘    └─────────┘└─┬─┘  │     └─┬─┘    └──────────┘                                                  ┌───┐└───┘ ┌─────────┐    ┌────┐       └─┬─┘      ├─────────┬┘ ┌─────────┐    └─┬─┘    └─────────┘└─┬─┘      │         └─┬─┘     └──────────┘                                                   ┌───┐    └───┘     ┌─────────┐     ┌────┐        └─┬─┘      ├─────────┬┘ ┌─────────┐    └─┬─┘    └─────────┘    └─┬─┘           │           └─┬─┘      └──────────┘                                                    ┌───┐    └───┘     ┌─────────┐     ┌────┐        └─┬─┘      ├─────────┬┘ ┌─────────┐    └─┬─┘    └─────────┘└─┬─┘      │         └─┬─┘     └──────────┘                                                   ┌───┐└───┘ ┌─────────┐    ┌────┐       └─┬─┘      ├─────────┬┘ ┌─────────┐    └─┬─┘    └─────────┘└─┬─┘  │     └─┬─┘    └──────────┘                                                  ┌───┐└───┘┌─────────┐   ┌────┐   └─┬─┘ ├─────────┬┘┌─────────┐   └─┬─┘    └─────────┘└─┬─┘  │  └─┬─┘└──────────┘                                                ┌───┐└───┘┌─────────┐┌────┐└─┬─┘├─────────┬┘┌─────────┐└─┬─┘└─────────┘└─┬─┘  │  └─┬─┘                                                             \n",
              "q_8 -> 8 ───────────────────────────────────────┤ X ├┤ Rz(-π/4) ├┤ X ├┤ Rz(π/4) ├┤ Rz(π/2) ├──┼─────┤ √X ├───┤ Rz(π/2) ├──┼──┤ Rz(π/4) ├──┼────┼────┼───────■────────────────────────■──────────────────────■──────┤ X ├──■──┤ Rz(π/2) ├───┤ √X ├─────┼───┤ Rz(π/2) ├─┤ Rz(π/4) ├─────┼───────────────────┼────┼───────┼───────────■─────────────────────────■───────────────────────■──────┤ X ├──■───┤ Rz(π/2) ├────┤ √X ├─────────┼────────┤ Rz(π/2) ├──┤ Rz(π/4) ├──────┼───────────────────┼────────┼───────────┼────────────■──────────────────────────■───────────────────────■──────┤ X ├──────■───────┤ Rz(π/2) ├─────┤ √X ├──────────┼────────┤ Rz(π/2) ├──┤ Rz(π/4) ├──────┼───────────────────────┼─────────────┼─────────────┼─────────────■───────────────────────────■───────────────────────■──────┤ X ├──────■───────┤ Rz(π/2) ├─────┤ √X ├──────────┼────────┤ Rz(π/2) ├──┤ Rz(π/4) ├──────┼───────────────────┼────────┼───────────┼────────────■──────────────────────────■───────────────────────■──────┤ X ├──■───┤ Rz(π/2) ├────┤ √X ├─────────┼────────┤ Rz(π/2) ├──┤ Rz(π/4) ├──────┼───────────────────┼────┼───────┼───────────■─────────────────────────■───────────────────────■──────┤ X ├──■──┤ Rz(π/2) ├───┤ √X ├─────┼───┤ Rz(π/2) ├─┤ Rz(π/4) ├─────┼───────────────────┼────┼────┼───────■────────────────────────■──────────────────────■──────┤ X ├──■──┤ Rz(π/2) ├┤ √X ├──┼──┤ Rz(π/2) ├─┤ Rz(π/4) ├──┼───────────────┼────┼────┼────■────────────────■─────────────────────────────────────────\n",
              "         ┌─────────┐┌────┐┌─────────┐┌─────────┐└─┬─┘└──────────┘└─┬─┘├─────────┤└─────────┘  │     └────┘   └─────────┘  │  └─────────┘  │  ┌─┴─┐  │     ┌─┴─┐    ┌──────────┐    ┌─┴─┐    ┌─────────┐   ┌─┴─┐    └─┬─┘┌─┴─┐├─────────┤   └────┘     │   └─────────┘ └─────────┘     │                   │  ┌─┴─┐     │         ┌─┴─┐     ┌──────────┐    ┌─┴─┐    ┌─────────┐    ┌─┴─┐    └─┬─┘┌─┴─┐ ├─────────┤    └────┘         │        └─────────┘  └─────────┘      │                   │      ┌─┴─┐         │          ┌─┴─┐      ┌──────────┐    ┌─┴─┐    ┌─────────┐    ┌─┴─┐    └─┬─┘    ┌─┴─┐     ├─────────┤     └────┘          │        └─────────┘  └─────────┘      │                       │           ┌─┴─┐           │           ┌─┴─┐      ┌──────────┐     ┌─┴─┐    ┌─────────┐    ┌─┴─┐    └─┬─┘    ┌─┴─┐     ├─────────┤     └────┘          │        └─────────┘  └─────────┘      │                   │      ┌─┴─┐         │          ┌─┴─┐      ┌──────────┐    ┌─┴─┐    ┌─────────┐    ┌─┴─┐    └─┬─┘┌─┴─┐ ├─────────┤    └────┘         │        └─────────┘  └─────────┘      │                   │  ┌─┴─┐     │         ┌─┴─┐     ┌──────────┐    ┌─┴─┐    ┌─────────┐    ┌─┴─┐    └─┬─┘┌─┴─┐├─────────┤   └────┘     │   └─────────┘ └─────────┘     │                   │  ┌─┴─┐  │     ┌─┴─┐    ┌──────────┐    ┌─┴─┐    ┌─────────┐   ┌─┴─┐    └─┬─┘┌─┴─┐├─────────┤└────┘  │  └─────────┘ └─────────┘  │               │  ┌─┴─┐  │  ┌─┴─┐┌──────────┐┌─┴─┐┌─────────┐┌─────────┐┌────┐┌─────────┐\n",
              "q_9 -> 9 ┤ Rz(π/2) ├┤ √X ├┤ Rz(π/2) ├┤ Rz(π/4) ├──■────────────────■──┤ Rz(π/8) ├─────────────■───────────────────────────■───────────────■──┤ X ├──■─────┤ X ├────┤ Rz(-π/4) ├────┤ X ├────┤ Rz(π/4) ├───┤ X ├──────■──┤ X ├┤ Rz(π/8) ├──────────────■───────────────────────────────■───────────────────■──┤ X ├─────■─────────┤ X ├─────┤ Rz(-π/4) ├────┤ X ├────┤ Rz(π/4) ├────┤ X ├──────■──┤ X ├─┤ Rz(π/8) ├───────────────────■──────────────────────────────────────■───────────────────■──────┤ X ├─────────■──────────┤ X ├──────┤ Rz(-π/4) ├────┤ X ├────┤ Rz(π/4) ├────┤ X ├──────■──────┤ X ├─────┤ Rz(π/8) ├─────────────────────■──────────────────────────────────────■───────────────────────■───────────┤ X ├───────────■───────────┤ X ├──────┤ Rz(-π/4) ├─────┤ X ├────┤ Rz(π/4) ├────┤ X ├──────■──────┤ X ├─────┤ Rz(π/8) ├─────────────────────■──────────────────────────────────────■───────────────────■──────┤ X ├─────────■──────────┤ X ├──────┤ Rz(-π/4) ├────┤ X ├────┤ Rz(π/4) ├────┤ X ├──────■──┤ X ├─┤ Rz(π/8) ├───────────────────■──────────────────────────────────────■───────────────────■──┤ X ├─────■─────────┤ X ├─────┤ Rz(-π/4) ├────┤ X ├────┤ Rz(π/4) ├────┤ X ├──────■──┤ X ├┤ Rz(π/8) ├──────────────■───────────────────────────────■───────────────────■──┤ X ├──■─────┤ X ├────┤ Rz(-π/4) ├────┤ X ├────┤ Rz(π/4) ├───┤ X ├──────■──┤ X ├┤ Rz(π/8) ├────────■───────────────────────────■───────────────■──┤ X ├──■──┤ X ├┤ Rz(-π/4) ├┤ X ├┤ Rz(π/4) ├┤ Rz(π/2) ├┤ √X ├┤ Rz(π/2) ├\n",
              "         └─────────┘└────┘└─────────┘└─────────┘                      └─────────┘                                                            └───┘        └───┘    └──────────┘    └───┘    └─────────┘   └───┘         └───┘└─────────┘                                                                     └───┘               └───┘     └──────────┘    └───┘    └─────────┘    └───┘         └───┘ └─────────┘                                                                                     └───┘                    └───┘      └──────────┘    └───┘    └─────────┘    └───┘             └───┘     └─────────┘                                                                                                └───┘                       └───┘      └──────────┘     └───┘    └─────────┘    └───┘             └───┘     └─────────┘                                                                                       └───┘                    └───┘      └──────────┘    └───┘    └─────────┘    └───┘         └───┘ └─────────┘                                                                                 └───┘               └───┘     └──────────┘    └───┘    └─────────┘    └───┘         └───┘└─────────┘                                                                     └───┘        └───┘    └──────────┘    └───┘    └─────────┘   └───┘         └───┘└─────────┘                                                       └───┘     └───┘└──────────┘└───┘└─────────┘└─────────┘└────┘└─────────┘"
            ]
          },
          "execution_count": 36,
          "metadata": {},
          "output_type": "execute_result"
        }
      ],
      "source": [
        "# Your work goes here!\n",
        "pm_staged.translation = PassManager(BasisTranslator(SessionEquivalenceLibrary, backend.operation_names))\n",
        "# See the first cells in this notebook or\n",
        "# https://github.com/Qiskit/qiskit/tree/main/qiskit/transpiler/passes/synthesis for potential translation passes\n",
        "# pm_staged.translation = PassManager(MyPass)\n",
        "\n",
        "qc_routed_synth = pm_staged.run(qc)\n",
        "print_qc_characteristics(qc_routed_synth)\n",
        "qc_routed_synth.draw(fold=-1)\n"
      ]
    },
    {
      "cell_type": "code",
      "execution_count": null,
      "metadata": {
        "colab": {
          "base_uri": "https://localhost:8080/"
        },
        "id": "MVrx_GFYPRV-",
        "outputId": "d3ec400c-03b3-4546-dc83-eeac166d5a74"
      },
      "outputs": [
        {
          "name": "stdout",
          "output_type": "stream",
          "text": [
            "Submitting your answer. Please wait...\n",
            "Congratulations 🎉! Your answer is correct and has been submitted.\n"
          ]
        }
      ],
      "source": [
        "# grade your work!\n",
        "grade_lab1_ex4(pm_staged)"
      ]
    },
    {
      "cell_type": "code",
      "execution_count": null,
      "metadata": {
        "colab": {
          "base_uri": "https://localhost:8080/"
        },
        "id": "eFU49ftbPeWw",
        "outputId": "8e60252d-ef60-471a-d862-e08912676f08"
      },
      "outputs": [
        {
          "name": "stdout",
          "output_type": "stream",
          "text": [
            "Quantum circuit characteristics\n",
            "  Depth: 65\n",
            "  Number of qubits: 10\n",
            "  Operations: {'rz': 101, 'cx': 90, 'sx': 10}\n",
            "  Number of multi-qubit Operations: 90\n"
          ]
        }
      ],
      "source": [
        "qk_qc = generate_preset_pass_manager(2, backend=backend).run(qc)\n",
        "print_qc_characteristics(qk_qc)"
      ]
    },
    {
      "cell_type": "code",
      "execution_count": null,
      "metadata": {
        "colab": {
          "base_uri": "https://localhost:8080/"
        },
        "id": "kcpPZETFPl_2",
        "outputId": "7c60e58c-5ffe-4bd5-b92a-b4237136c1ab"
      },
      "outputs": [
        {
          "name": "stdout",
          "output_type": "stream",
          "text": [
            "Own transpiler fidelity 0.3048\n",
            "Qiskit transpiler fidelity 0.6649\n"
          ]
        }
      ],
      "source": [
        "def noisy_sim(qc, backend):\n",
        "    # We add measurement operations to the input quantum circuit and then run it on the specified backend\n",
        "    # A GenericBackendV2 automatically constructs a default model of the expected noise processes,\n",
        "    # so backend.run would return noisy simulation results\n",
        "    return backend.run(qc.measure_all(inplace=False), shots=7*1024).result().get_counts()\n",
        "\n",
        "own_transpiler_sim = noisy_sim(qc_routed_synth, backend)\n",
        "qiskit_transpiler_sim = noisy_sim(qk_qc, backend)\n",
        "reference_sim =  noisy_sim(transpile(qc.decompose(), backend=backend), BasicSimulator())\n",
        "\n",
        "print(\"Own transpiler fidelity\", round(hellinger_fidelity(own_transpiler_sim, reference_sim), 4))\n",
        "print(\"Qiskit transpiler fidelity\", round(hellinger_fidelity(qiskit_transpiler_sim, reference_sim), 4))"
      ]
    },
    {
      "cell_type": "code",
      "execution_count": null,
      "metadata": {
        "id": "NhknLNhsSndf"
      },
      "outputs": [],
      "source": [
        "pm_opt = StagedPassManager()\n",
        "pm_opt.init = generate_unroll_3q(None)\n",
        "pm_opt.layout = PassManager()\n",
        "pm_opt.layout += TrivialLayout(cm)\n",
        "pm_opt.routing = PassManager(StarPreRouting())\n",
        "pm_opt.translation = PassManager()\n",
        "pm_opt.translation += Collect2qBlocks()\n",
        "pm_opt.translation += ConsolidateBlocks(basis_gates = backend.operation_names)\n",
        "pm_opt.translation += UnitarySynthesis(coupling_map=cm, basis_gates = backend.operation_names)\n",
        "\n",
        "pm_opt.optimization = PassManager()\n",
        "pm_opt.optimization += ConsolidateBlocks()\n",
        "pm_opt.optimization += Collect1qRuns()\n",
        "pm_opt.optimization += Collect2qBlocks()\n",
        "pm_opt.optimization += CommutativeCancellation(basis_gates = backend.operation_names)\n",
        "pm_opt.layout += generate_embed_passmanager(cm)\n",
        "\n",
        "qc_opt = pm_opt.run(qc)\n",
        "\n"
      ]
    },
    {
      "cell_type": "code",
      "execution_count": null,
      "metadata": {
        "colab": {
          "base_uri": "https://localhost:8080/"
        },
        "id": "NO6OaPVuVVSy",
        "outputId": "b658e5b5-e2bc-4429-abc1-2391fd5612c4"
      },
      "outputs": [
        {
          "name": "stdout",
          "output_type": "stream",
          "text": [
            "Submitting your answer. Please wait...\n",
            "Congratulations 🎉! Your answer is correct and has been submitted.\n"
          ]
        }
      ],
      "source": [
        "# grade your work!\n",
        "grade_lab1_ex5(pm_opt)"
      ]
    },
    {
      "cell_type": "code",
      "execution_count": null,
      "metadata": {
        "colab": {
          "base_uri": "https://localhost:8080/",
          "height": 465
        },
        "id": "kg3twvstVyww",
        "outputId": "34a49eae-5326-40ee-eda7-f7267588ae39"
      },
      "outputs": [
        {
          "name": "stdout",
          "output_type": "stream",
          "text": [
            "Quantum circuit characteristics\n",
            "  Depth: 167\n",
            "  Number of qubits: 10\n",
            "  Operations: {'rz': 318, 'sx': 186, 'cx': 133, 'x': 70}\n",
            "  Number of multi-qubit Operations: 133\n",
            "Reduction in two-qubit gates compared to qiskit -47.778%!\n"
          ]
        },
        {
          "data": {
            "text/html": [
              "<pre style=\"word-wrap: normal;white-space: pre;background: #fff0;line-height: 1.1;font-family: &quot;Courier New&quot;,Courier,monospace\">           ┌────────┐  ┌────┐ ┌─────────┐                                                                                                                                                                                                                                                                                                                                                                                                                                                                                                                                                                                                                                                                                                                                                                                                                                                                                       ┌────┐    ┌────────┐                 ┌────┐                      ┌───┐    ┌─────────────┐                                                                                                                                                                                                                                                                                                                                                                                                                                                                                                                                                                                                                                                                                                                                                                                                                                                                                                                        \n",
              "q_0 -> 0 ──┤ Rz(-π) ├──┤ √X ├─┤ Rz(π/2) ├────────────────────────────────────────────────────────────────────────────────────────────────────────────────────────────────────────────────────────────────────────────────────────────────────────────────────────────────────────────────────────────────────────────────────────────────────────────────────────────────────────────────────────────────────────────────────────────────────────────────────────────────────────────────────────────────────────────────────────────────────────────────────────────────────────────────────────────────────────────────────────────────────────────────────────────────────────────────────────────────────────────────────────────────────────────────────────────────────────────────────────────────────────────────────────────────────────────────────────────────────────────────────────────────────────────────■──────┤ √X ├────┤ Rz(2π) ├──────■──────────┤ √X ├──────────■───────────┤ X ├────┤ Rz(-1.5677) ├────────────────────────────────────────────────────────────────────────────────────────────────────────────────────────────────────────────────────────────────────────────────────────────────────────────────────────────────────────────────────────────────────────────────────────────────────────────────────────────────────────────────────────────────────────────────────────────────────────────────────────────────────────────────────────────────────────────────────────────────────────────────────────────────────────────────────────────────────────────────────────────────────────────────────────────────────────────────────────────────────────────────────────────────────────────────────────────────────────────────────────────────────────────────────────────────────────────────────────────────────────────────────────────────────────────────────────────────────────────────────────\n",
              "           ├────────┤  ├────┤ ├─────────┤                                                                                                                                                                                                                                                                                                                                                                                                                                                                                                                                                                                                                                                                                                                                                                         ┌────┐   ┌────────┐                ┌────┐             ┌───┐     ┌─────────────┐ ┌────┐   ┌────────┐  ┌─┴─┐ ┌──┴────┴──┐ └────────┘    ┌─┴─┐    ┌───┴────┴───┐    ┌─┴─┐         ├───┤    ├─────────────┤     ┌────┐      ┌─────────┐                 ┌────┐   ┌────────┐                ┌────┐             ┌───┐     ┌─────────────┐                                                                                                                                                                                                                                                                                                                                                                                                                                                                                                                                                                                                                                                                                                                                                                                            \n",
              "q_1 -> 1 ──┤ Rz(-π) ├──┤ √X ├─┤ Rz(π/2) ├────────────────────────────────────────────────────────────────────────────────────────────────────────────────────────────────────────────────────────────────────────────────────────────────────────────────────────────────────────────────────────────────────────────────────────────────────────────────────────────────────────────────────────────────────────────────────────────────────────────────────────────────────────────────────────────────────────────────────────────────────────────────────────────────────────────────────────────────────────────────────────────────────────────────────────────────────────────────────────────────────────────────────────────────────────────────────────────────────────────────────────────────■────────┤ √X ├───┤ Rz(2π) ├─────■──────────┤ √X ├──────■──────┤ X ├─────┤ Rz(-4.7063) ├─┤ √X ├───┤ Rz(-π) ├──┤ X ├─┤ Rz(-π/2) ├───────────────┤ X ├────┤ Rz(1.5677) ├────┤ X ├─────────┤ X ├────┤ Rz(-6.2801) ├─────┤ √X ├──────┤ Rz(π/2) ├────────■────────┤ √X ├───┤ Rz(2π) ├─────■──────────┤ √X ├──────■──────┤ X ├─────┤ Rz(-1.5647) ├────────────────────────────────────────────────────────────────────────────────────────────────────────────────────────────────────────────────────────────────────────────────────────────────────────────────────────────────────────────────────────────────────────────────────────────────────────────────────────────────────────────────────────────────────────────────────────────────────────────────────────────────────────────────────────────────────────────────────────────────────────────────────────────────────────────────────────────────────────────────────────────────────────────────────────────────────────────────────────────────────────────────────────────────────────────────────────────────────────────────────────────────────────────────────────────\n",
              "           ├────────┤  ├────┤ ├─────────┤                                                                                                                                                                                                                                                                                                                                                                                                                                                                                                                                                                                                                                   ┌────┐    ┌────────┐                 ┌────┐                      ┌───┐    ┌─────────────┐     ┌────┐       ┌────────┐      ┌─┴─┐   ┌──┴────┴──┐└────────┘   ┌─┴─┐    ┌───┴────┴───┐┌─┴─┐    ├───┤     └┬────────────┤ ├────┤  ┌┴────────┤  └───┘ └──┬────┬──┘ ┌────────┐    └───┘    └───┬────┬───┘    └───┘         ├───┤    ├─────────────┤     ├────┤      └┬────────┤      ┌─┴─┐   ┌──┴────┴──┐└────────┘   ┌─┴─┐    ┌───┴────┴───┐┌─┴─┐    ├───┤     └┬────────────┤ ┌────┐  ┌─────────┐           ┌────┐    ┌────────┐                 ┌────┐                      ┌───┐    ┌─────────────┐                                                                                                                                                                                                                                                                                                                                                                                                                                                                                                                                                                                                                                                                    \n",
              "q_2 -> 2 ──┤ Rz(-π) ├──┤ √X ├─┤ Rz(π/2) ├────────────────────────────────────────────────────────────────────────────────────────────────────────────────────────────────────────────────────────────────────────────────────────────────────────────────────────────────────────────────────────────────────────────────────────────────────────────────────────────────────────────────────────────────────────────────────────────────────────────────────────────────────────────────────────────────────────────────────────────────────────────────────────────────────────────────────────────────────────────────────────────────────────────────────────────■──────┤ √X ├────┤ Rz(2π) ├──────■──────────┤ √X ├──────────■───────────┤ X ├────┤ Rz(-4.7001) ├─────┤ √X ├───────┤ Rz(-π) ├──────┤ X ├───┤ Rz(-π/2) ├─────────────┤ X ├────┤ Rz(1.5647) ├┤ X ├────┤ X ├──────┤ Rz(-6.277) ├─┤ √X ├──┤ Rz(π/2) ├────■──────┤ √X ├────┤ Rz(2π) ├──────■──────────┤ √X ├──────────■───────────┤ X ├────┤ Rz(-4.7001) ├─────┤ √X ├───────┤ Rz(-π) ├──────┤ X ├───┤ Rz(-π/2) ├─────────────┤ X ├────┤ Rz(1.5647) ├┤ X ├────┤ X ├──────┤ Rz(-6.277) ├─┤ √X ├──┤ Rz(π/2) ├────■──────┤ √X ├────┤ Rz(2π) ├──────■──────────┤ √X ├──────────■───────────┤ X ├────┤ Rz(-1.5585) ├────────────────────────────────────────────────────────────────────────────────────────────────────────────────────────────────────────────────────────────────────────────────────────────────────────────────────────────────────────────────────────────────────────────────────────────────────────────────────────────────────────────────────────────────────────────────────────────────────────────────────────────────────────────────────────────────────────────────────────────────────────────────────────────────────────────────────────────────────────────────────────────────────────────────────────────────────────────────────────────────────\n",
              "           ├────────┤  ├────┤ ├─────────┤                                                                                                                                                                                                                                                                                                                                                                                                                                                                                                                     ┌────┐   ┌────────┐                ┌────┐             ┌───┐     ┌─────────────┐ ┌────┐   ┌────────┐  ┌─┴─┐ ┌──┴────┴──┐ └────────┘    ┌─┴─┐    ┌───┴────┴───┐    ┌─┴─┐         ├───┤    ├─────────────┤     ├────┤      ┌┴────────┤      └───┘   └──┬────┬──┘┌────────┐   └───┘    └───┬────┬───┘└───┘    ├───┤     ┌┴────────────┤ ├────┤  └┬────────┤  ┌─┴─┐ ┌──┴────┴──┐ └────────┘    ┌─┴─┐    ┌───┴────┴───┐    ┌─┴─┐         ├───┤    ├─────────────┤     ├────┤      ┌┴────────┤      └───┘   └──┬────┬──┘┌────────┐   └───┘    └───┬────┬───┘└───┘    ├───┤     ┌┴────────────┤ ├────┤  └┬────────┤  ┌─┴─┐ ┌──┴────┴──┐ └────────┘    ┌─┴─┐    ┌───┴────┴───┐    ┌─┴─┐         ├───┤    ├─────────────┤     ┌────┐      ┌─────────┐                 ┌────┐   ┌────────┐                ┌────┐             ┌───┐      ┌────────────┐                                                                                                                                                                                                                                                                                                                                                                                                                                                                                                                                        \n",
              "q_3 -> 3 ──┤ Rz(-π) ├──┤ √X ├─┤ Rz(π/2) ├────────────────────────────────────────────────────────────────────────────────────────────────────────────────────────────────────────────────────────────────────────────────────────────────────────────────────────────────────────────────────────────────────────────────────────────────────────────────────────────────────────────────────────────────────────────────────────────────────────────────────────────────────────────────────────────────────────────────────────────────────────────■────────┤ √X ├───┤ Rz(2π) ├─────■──────────┤ √X ├──────■──────┤ X ├─────┤ Rz(-6.2586) ├─┤ √X ├───┤ Rz(-π) ├──┤ X ├─┤ Rz(-π/2) ├───────────────┤ X ├────┤ Rz(1.5585) ├────┤ X ├─────────┤ X ├────┤ Rz(-6.2709) ├─────┤ √X ├──────┤ Rz(π/2) ├────────■────────┤ √X ├───┤ Rz(2π) ├─────■──────────┤ √X ├──────■──────┤ X ├─────┤ Rz(-6.2586) ├─┤ √X ├───┤ Rz(-π) ├──┤ X ├─┤ Rz(-π/2) ├───────────────┤ X ├────┤ Rz(1.5585) ├────┤ X ├─────────┤ X ├────┤ Rz(-6.2709) ├─────┤ √X ├──────┤ Rz(π/2) ├────────■────────┤ √X ├───┤ Rz(2π) ├─────■──────────┤ √X ├──────■──────┤ X ├─────┤ Rz(-6.2586) ├─┤ √X ├───┤ Rz(-π) ├──┤ X ├─┤ Rz(-π/2) ├───────────────┤ X ├────┤ Rz(1.5585) ├────┤ X ├─────────┤ X ├────┤ Rz(-6.2709) ├─────┤ √X ├──────┤ Rz(π/2) ├────────■────────┤ √X ├───┤ Rz(2π) ├─────■──────────┤ √X ├──────■──────┤ X ├──────┤ Rz(-3.117) ├────────────────────────────────────────────────────────────────────────────────────────────────────────────────────────────────────────────────────────────────────────────────────────────────────────────────────────────────────────────────────────────────────────────────────────────────────────────────────────────────────────────────────────────────────────────────────────────────────────────────────────────────────────────────────────────────────────────────────────────────────────────────────────────────────────\n",
              "          ┌┴────────┴┐ ├────┤ ├─────────┴┐                                                                                                                                                                                                                                                                                                                                                                                              ┌────┐    ┌────────┐               ┌────┐                 ┌─────────────┐     ┌────┐       ┌────────┐      ┌─┴─┐   ┌──┴────┴──┐└────────┘   ┌─┴─┐    ┌───┴────┴───┐┌─┴─┐    ├───┤     ├─────────────┴┐├────┤  ┌┴────────┴┐ └───┘ └──────────┘   ┌────┐    ┌─┴───┴──┐ └────────────┘    ├───┴┐        └───┘    ├─────────────┤     ├────┤      └┬────────┤      ┌─┴─┐   ┌──┴────┴──┐└────────┘   ┌─┴─┐    ┌───┴────┴───┐┌─┴─┐    ├───┤     ├─────────────┴┐├────┤  ┌┴────────┴┐ └───┘ └──────────┘   ┌────┐    ┌─┴───┴──┐ └────────────┘    ├───┴┐        └───┘    ├─────────────┤     ├────┤      └┬────────┤      ┌─┴─┐   ┌──┴────┴──┐└────────┘   ┌─┴─┐    ┌───┴────┴───┐┌─┴─┐    ├───┤     ├─────────────┴┐├────┤  ┌┴────────┴┐ └───┘ └──────────┘   ┌────┐    ┌─┴───┴──┐ └────────────┘    ├───┴┐        └───┘    ├─────────────┤     ├────┤      └┬────────┤      ┌─┴─┐   ┌──┴────┴──┐└────────┘   ┌─┴─┐    ┌───┴────┴───┐┌─┴─┐    ├───┤     ┌┴────────────┴┐┌────┐  ┌──────────┐                     ┌────┐    ┌────────┐               ┌────┐                  ┌────────────┐                                                                                                                                                                                                                                                                                                                                                                                                                     \n",
              "q_4 -> 4 ─┤ Rz(3π/4) ├─┤ √X ├─┤ Rz(-π/2) ├─────────────────────────────────────────────────────────────────────────────────────────────────────────────────────────────────────────────────────────────────────────────────────────────────────────────────────────────────────────────────────────────────────────────────────────────────────────────────────────────────────────────────────────────────────────────────────■────────┤ √X ├────┤ Rz(2π) ├─────■─────────┤ √X ├──────────■──────┤ Rz(0.83449) ├─────┤ √X ├───────┤ Rz(-π) ├──────┤ X ├───┤ Rz(-π/2) ├─────────────┤ X ├────┤ Rz(1.5463) ├┤ X ├────┤ X ├─────┤ Rz(-0.76085) ├┤ √X ├──┤ Rz(-π/2) ├────────────■─────────┤ √X ├────┤ Rz(2π) ├───────■───────────┤ √X ├──────────■──────┤ Rz(0.83449) ├─────┤ √X ├───────┤ Rz(-π) ├──────┤ X ├───┤ Rz(-π/2) ├─────────────┤ X ├────┤ Rz(1.5463) ├┤ X ├────┤ X ├─────┤ Rz(-0.76085) ├┤ √X ├──┤ Rz(-π/2) ├────────────■─────────┤ √X ├────┤ Rz(2π) ├───────■───────────┤ √X ├──────────■──────┤ Rz(0.83449) ├─────┤ √X ├───────┤ Rz(-π) ├──────┤ X ├───┤ Rz(-π/2) ├─────────────┤ X ├────┤ Rz(1.5463) ├┤ X ├────┤ X ├─────┤ Rz(-0.76085) ├┤ √X ├──┤ Rz(-π/2) ├────────────■─────────┤ √X ├────┤ Rz(2π) ├───────■───────────┤ √X ├──────────■──────┤ Rz(0.83449) ├─────┤ √X ├───────┤ Rz(-π) ├──────┤ X ├───┤ Rz(-π/2) ├─────────────┤ X ├────┤ Rz(1.5463) ├┤ X ├────┤ X ├─────┤ Rz(-0.76085) ├┤ √X ├──┤ Rz(-π/2) ├────────────■────────┤ √X ├────┤ Rz(2π) ├─────■─────────┤ √X ├──────────■───────┤ Rz(2.4053) ├─────────────────────────────────────────────────────────────────────────────────────────────────────────────────────────────────────────────────────────────────────────────────────────────────────────────────────────────────────────────────────────────────────────────────────────────────────────────────────────────────────────────────────────────────────────────────────────────────────────────────────\n",
              "          └┬────────┬┘ ├────┤ ├─────────┬┘                                                                                                                                                                                                                                                                                                           ┌────┐   ┌────────┐         ┌────┐         ┌───┐┌─────────────┐┌────┐   ┌─┴─┐   ┌──┴────┴──┐ └────────┘   ┌─┴─┐   ┌───┴────┴───┐    ┌─┴─┐    ├─────────────┤     ├────┤      ┌┴────────┤      └───┘   └──────────┘             ├───┴┐   └─┬────────┬─┘└───┘    ├───┴┐    └──────────────┘├───┬┘┌─┴──────────┴┐┌────┐   ┌─┴─┐    ┌──┴────┴──┐ └────────┘     ┌─┴─┐     ┌───┴────┴───┐    ┌─┴─┐    ├─────────────┤     ├────┤      ┌┴────────┤      └───┘   └──────────┘             ├───┴┐   └─┬────────┬─┘└───┘    ├───┴┐    └──────────────┘├───┬┘┌─┴──────────┴┐┌────┐   ┌─┴─┐    ┌──┴────┴──┐ └────────┘     ┌─┴─┐     ┌───┴────┴───┐    ┌─┴─┐    ├─────────────┤     ├────┤      ┌┴────────┤      └───┘   └──────────┘             ├───┴┐   └─┬────────┬─┘└───┘    ├───┴┐    └──────────────┘├───┬┘┌─┴──────────┴┐┌────┐   ┌─┴─┐    ┌──┴────┴──┐ └────────┘     ┌─┴─┐     ┌───┴────┴───┐    ┌─┴─┐    ├─────────────┤     ├────┤      ┌┴────────┤      └───┘   └──────────┘             ├───┴┐   └─┬────────┬─┘└───┘    ├───┴┐    └──────────────┘├───┬┘┌─┴──────────┴┐┌────┐   ┌─┴─┐   ┌──┴────┴──┐ └────────┘   ┌─┴─┐   ┌───┴────┴───┐    ┌─┴─┐    ┌┴────────────┤     ┌────┐      ┌─────────┐                                  ┌────┐   ┌────────┐         ┌────┐         ┌───┐┌─────────────┐                                                                                                                                                                                                                                                                                        \n",
              "q_5 -> 5 ──┤ Rz(-π) ├──┤ √X ├─┤ Rz(π/2) ├──────────────────────────────────────────────────────────────────────────────────────────────────────────────────────────────────────────────────────────────────────────────────────────────────────────────────────────────────────────────────────────────────────────────────────────────────────■─────┤ √X ├───┤ Rz(2π) ├──■──────┤ √X ├──────■──┤ X ├┤ Rz(-3.8288) ├┤ √X ├───┤ X ├───┤ Rz(-π/2) ├──────────────┤ X ├───┤ Rz(1.5217) ├────┤ X ├────┤ Rz(-2.3071) ├─────┤ √X ├──────┤ Rz(π/2) ├──────────────────────────────■────────┤ √X ├─────┤ Rz(2π) ├────■──────┤ √X ├───────────■────────┤ X ├─┤ Rz(-3.8288) ├┤ √X ├───┤ X ├────┤ Rz(-π/2) ├────────────────┤ X ├─────┤ Rz(1.5217) ├────┤ X ├────┤ Rz(-2.3071) ├─────┤ √X ├──────┤ Rz(π/2) ├──────────────────────────────■────────┤ √X ├─────┤ Rz(2π) ├────■──────┤ √X ├───────────■────────┤ X ├─┤ Rz(-3.8288) ├┤ √X ├───┤ X ├────┤ Rz(-π/2) ├────────────────┤ X ├─────┤ Rz(1.5217) ├────┤ X ├────┤ Rz(-2.3071) ├─────┤ √X ├──────┤ Rz(π/2) ├──────────────────────────────■────────┤ √X ├─────┤ Rz(2π) ├────■──────┤ √X ├───────────■────────┤ X ├─┤ Rz(-3.8288) ├┤ √X ├───┤ X ├────┤ Rz(-π/2) ├────────────────┤ X ├─────┤ Rz(1.5217) ├────┤ X ├────┤ Rz(-2.3071) ├─────┤ √X ├──────┤ Rz(π/2) ├──────────────────────────────■────────┤ √X ├─────┤ Rz(2π) ├────■──────┤ √X ├───────────■────────┤ X ├─┤ Rz(-3.8288) ├┤ √X ├───┤ X ├───┤ Rz(-π/2) ├──────────────┤ X ├───┤ Rz(1.5217) ├────┤ X ├────┤ Rz(-2.3071) ├─────┤ √X ├──────┤ Rz(π/2) ├────────────────────────────■─────┤ √X ├───┤ Rz(2π) ├──■──────┤ √X ├──────■──┤ X ├┤ Rz(-3.0434) ├────────────────────────────────────────────────────────────────────────────────────────────────────────────────────────────────────────────────────────────────────────────────────────────────────────────────────────────────────────────────────────────────────────────────────────\n",
              "           ├────────┤  ├────┤ ├─────────┤                                                                                                                                                                                    ┌────┐   ┌────────┐               ┌────┐                       ┌───┐     ┌─────────────┐    ┌────┐   ┌────────┐ ┌─┴─┐┌──┴────┴──┐└────────┘┌─┴─┐┌───┴────┴───┐┌─┴─┐├───┤└┬────────────┤├────┤┌──┴───┴──┐└──────────┘   ┌────┐   ┌─┴───┴──┐└────────────┘    ├───┴┐   └─────────────┘     ├───┬┘    ┌─┴─────────┴─┐    ┌────┐   ┌────────┐   ┌─┴─┐   ┌──┴────┴──┐  └────────┘  ┌─┴─┐┌───┴────┴───┐     ┌─┴─┐      ├───┤ └┬────────────┤├────┤┌──┴───┴──┐ └──────────┘   ┌────┐     ┌─┴───┴──┐  └────────────┘    ├───┴┐   └─────────────┘     ├───┬┘    ┌─┴─────────┴─┐    ┌────┐   ┌────────┐   ┌─┴─┐   ┌──┴────┴──┐  └────────┘  ┌─┴─┐┌───┴────┴───┐     ┌─┴─┐      ├───┤ └┬────────────┤├────┤┌──┴───┴──┐ └──────────┘   ┌────┐     ┌─┴───┴──┐  └────────────┘    ├───┴┐   └─────────────┘     ├───┬┘    ┌─┴─────────┴─┐    ┌────┐   ┌────────┐   ┌─┴─┐   ┌──┴────┴──┐  └────────┘  ┌─┴─┐┌───┴────┴───┐     ┌─┴─┐      ├───┤ └┬────────────┤├────┤┌──┴───┴──┐ └──────────┘   ┌────┐     ┌─┴───┴──┐  └────────────┘    ├───┴┐   └─────────────┘     ├───┬┘    ┌─┴─────────┴─┐    ┌────┐   ┌────────┐   ┌─┴─┐   ┌──┴────┴──┐  └────────┘  ┌─┴─┐┌───┴────┴───┐     ┌─┴─┐      ├───┤ └┬────────────┤├────┤┌──┴───┴──┐└──────────┘   ┌────┐   ┌─┴───┴──┐└────────────┘    ├───┴┐   └─────────────┘     ├───┬┘    ┌─┴─────────┴─┐    ┌────┐   ┌────────┐ ┌─┴─┐┌──┴────┴──┐└────────┘┌─┴─┐┌───┴────┴───┐┌─┴─┐├───┤└┬────────────┤┌────┐┌─────────┐              ┌────┐   ┌────────┐               ┌────┐                       ┌───┐      ┌────────────┐                                                                                                                                                                 \n",
              "q_6 -> 6 ──┤ Rz(-π) ├──┤ √X ├─┤ Rz(π/2) ├───────────────────────────────────────────────────────────────────────────────────────────────────────────────────────────────────────────────────────────────────────────■────────┤ √X ├───┤ Rz(2π) ├─────■─────────┤ √X ├──────────■────────────┤ X ├─────┤ Rz(-15π/16) ├────┤ √X ├───┤ Rz(-π) ├─┤ X ├┤ Rz(-π/2) ├──────────┤ X ├┤ Rz(1.4726) ├┤ X ├┤ X ├─┤ Rz(-6.185) ├┤ √X ├┤ Rz(π/2) ├─────■─────────┤ √X ├───┤ Rz(2π) ├──────■───────────┤ √X ├──────────■────────────┤ X ├─────┤ Rz(-15π/16) ├────┤ √X ├───┤ Rz(-π) ├───┤ X ├───┤ Rz(-π/2) ├──────────────┤ X ├┤ Rz(1.4726) ├─────┤ X ├──────┤ X ├──┤ Rz(-6.185) ├┤ √X ├┤ Rz(π/2) ├──────■─────────┤ √X ├─────┤ Rz(2π) ├────────■───────────┤ √X ├──────────■────────────┤ X ├─────┤ Rz(-15π/16) ├────┤ √X ├───┤ Rz(-π) ├───┤ X ├───┤ Rz(-π/2) ├──────────────┤ X ├┤ Rz(1.4726) ├─────┤ X ├──────┤ X ├──┤ Rz(-6.185) ├┤ √X ├┤ Rz(π/2) ├──────■─────────┤ √X ├─────┤ Rz(2π) ├────────■───────────┤ √X ├──────────■────────────┤ X ├─────┤ Rz(-15π/16) ├────┤ √X ├───┤ Rz(-π) ├───┤ X ├───┤ Rz(-π/2) ├──────────────┤ X ├┤ Rz(1.4726) ├─────┤ X ├──────┤ X ├──┤ Rz(-6.185) ├┤ √X ├┤ Rz(π/2) ├──────■─────────┤ √X ├─────┤ Rz(2π) ├────────■───────────┤ √X ├──────────■────────────┤ X ├─────┤ Rz(-15π/16) ├────┤ √X ├───┤ Rz(-π) ├───┤ X ├───┤ Rz(-π/2) ├──────────────┤ X ├┤ Rz(1.4726) ├─────┤ X ├──────┤ X ├──┤ Rz(-6.185) ├┤ √X ├┤ Rz(π/2) ├─────■─────────┤ √X ├───┤ Rz(2π) ├──────■───────────┤ √X ├──────────■────────────┤ X ├─────┤ Rz(-15π/16) ├────┤ √X ├───┤ Rz(-π) ├─┤ X ├┤ Rz(-π/2) ├──────────┤ X ├┤ Rz(1.4726) ├┤ X ├┤ X ├─┤ Rz(-6.185) ├┤ √X ├┤ Rz(π/2) ├─────■────────┤ √X ├───┤ Rz(2π) ├─────■─────────┤ √X ├──────────■────────────┤ X ├──────┤ Rz(-7π/16) ├─────────────────────────────────────────────────────────────────────────────────────────────────────────────────────────────────────────────────────────────────\n",
              "           ├────────┤  ├────┤ └┬────────┤                                                                                 ┌───┐┌──────────┐          ┌───┐┌──────────┐┌───┐┌───┐ ┌────────────┐┌────┐┌────────┐   ┌─┴─┐   ┌──┴────┴──┐└────────┘   ┌─┴─┐   ┌───┴────┴──┐     ┌─┴─┐          ├───┤     ├─────────────┤    ├────┤   ├────────┤ ├───┤├──────────┤          ├───┤└┬──────────┬┘├───┤├───┤ ├────────────┤├────┤└┬────────┤   ┌─┴─┐    ┌──┴────┴──┐└────────┘    ┌─┴─┐     ┌───┴────┴──┐     ┌─┴─┐          ├───┤     ├─────────────┤    ├────┤   ├────────┤   ├───┤   ├──────────┤              ├───┤└┬──────────┬┘     ├───┤      ├───┤  ├────────────┤├────┤└┬────────┤    ┌─┴─┐    ┌──┴────┴──┐  └────────┘      ┌─┴─┐     ┌───┴────┴──┐     ┌─┴─┐          ├───┤     ├─────────────┤    ├────┤   ├────────┤   ├───┤   ├──────────┤              ├───┤└┬──────────┬┘     ├───┤      ├───┤  ├────────────┤├────┤└┬────────┤    ┌─┴─┐    ┌──┴────┴──┐  └────────┘      ┌─┴─┐     ┌───┴────┴──┐     ┌─┴─┐          ├───┤     ├─────────────┤    ├────┤   ├────────┤   ├───┤   ├──────────┤              ├───┤└┬──────────┬┘     ├───┤      ├───┤  ├────────────┤├────┤└┬────────┤    ┌─┴─┐    ┌──┴────┴──┐  └────────┘      ┌─┴─┐     ┌───┴────┴──┐     ┌─┴─┐          ├───┤     ├─────────────┤    ├────┤   ├────────┤   ├───┤   ├──────────┤              ├───┤└┬──────────┬┘     ├───┤      ├───┤  ├────────────┤├────┤└┬────────┤   ┌─┴─┐    ┌──┴────┴──┐└────────┘    ┌─┴─┐     ┌───┴────┴──┐     ┌─┴─┐          ├───┤     ├─────────────┤    ├────┤   ├────────┤ ├───┤├──────────┤          ├───┤└┬──────────┬┘├───┤├───┤ ├────────────┤├────┤└┬────────┤   ┌─┴─┐   ┌──┴────┴──┐└────────┘   ┌─┴─┐   ┌───┴────┴──┐     ┌─┴─┐          ├───┤     ┌┴────────────┤   ┌────┐    ┌────────┐  ┌───┐┌──────────┐          ┌───┐┌──────────┐┌───┐┌───┐┌───────────┐                                                                     \n",
              "q_7 -> 7 ──┤ Rz(-π) ├──┤ √X ├──┤ Rz(-π) ├─────────────────────────────────────────────────────────────────────────────────┤ X ├┤ Rz(-π/2) ├──────────┤ X ├┤ Rz(3π/8) ├┤ X ├┤ X ├─┤ Rz(-15π/8) ├┤ √X ├┤ Rz(-π) ├───┤ X ├───┤ Rz(-π/2) ├─────────────┤ X ├───┤ Rz(7π/16) ├─────┤ X ├──────────┤ X ├─────┤ Rz(-6.0868) ├────┤ √X ├───┤ Rz(-π) ├─┤ X ├┤ Rz(-π/2) ├──────────┤ X ├─┤ Rz(3π/8) ├─┤ X ├┤ X ├─┤ Rz(-15π/8) ├┤ √X ├─┤ Rz(-π) ├───┤ X ├────┤ Rz(-π/2) ├──────────────┤ X ├─────┤ Rz(7π/16) ├─────┤ X ├──────────┤ X ├─────┤ Rz(-6.0868) ├────┤ √X ├───┤ Rz(-π) ├───┤ X ├───┤ Rz(-π/2) ├──────────────┤ X ├─┤ Rz(3π/8) ├──────┤ X ├──────┤ X ├──┤ Rz(-15π/8) ├┤ √X ├─┤ Rz(-π) ├────┤ X ├────┤ Rz(-π/2) ├──────────────────┤ X ├─────┤ Rz(7π/16) ├─────┤ X ├──────────┤ X ├─────┤ Rz(-6.0868) ├────┤ √X ├───┤ Rz(-π) ├───┤ X ├───┤ Rz(-π/2) ├──────────────┤ X ├─┤ Rz(3π/8) ├──────┤ X ├──────┤ X ├──┤ Rz(-15π/8) ├┤ √X ├─┤ Rz(-π) ├────┤ X ├────┤ Rz(-π/2) ├──────────────────┤ X ├─────┤ Rz(7π/16) ├─────┤ X ├──────────┤ X ├─────┤ Rz(-6.0868) ├────┤ √X ├───┤ Rz(-π) ├───┤ X ├───┤ Rz(-π/2) ├──────────────┤ X ├─┤ Rz(3π/8) ├──────┤ X ├──────┤ X ├──┤ Rz(-15π/8) ├┤ √X ├─┤ Rz(-π) ├────┤ X ├────┤ Rz(-π/2) ├──────────────────┤ X ├─────┤ Rz(7π/16) ├─────┤ X ├──────────┤ X ├─────┤ Rz(-6.0868) ├────┤ √X ├───┤ Rz(-π) ├───┤ X ├───┤ Rz(-π/2) ├──────────────┤ X ├─┤ Rz(3π/8) ├──────┤ X ├──────┤ X ├──┤ Rz(-15π/8) ├┤ √X ├─┤ Rz(-π) ├───┤ X ├────┤ Rz(-π/2) ├──────────────┤ X ├─────┤ Rz(7π/16) ├─────┤ X ├──────────┤ X ├─────┤ Rz(-6.0868) ├────┤ √X ├───┤ Rz(-π) ├─┤ X ├┤ Rz(-π/2) ├──────────┤ X ├─┤ Rz(3π/8) ├─┤ X ├┤ X ├─┤ Rz(-15π/8) ├┤ √X ├─┤ Rz(-π) ├───┤ X ├───┤ Rz(-π/2) ├─────────────┤ X ├───┤ Rz(7π/16) ├─────┤ X ├──────────┤ X ├─────┤ Rz(-6.0868) ├───┤ √X ├────┤ Rz(-π) ├──┤ X ├┤ Rz(-π/2) ├──────────┤ X ├┤ Rz(3π/8) ├┤ X ├┤ X ├┤ Rz(-7π/8) ├─────────────────────────────────────────────────────────────────────\n",
              "         ┌─┴────────┴─┐└────┘  └────────┘          ┌────┐  ┌───────┐┌────┐     ┌─────────────┐┌────┐┌──────────────┐┌────┐└─┬─┘├──────────┤          └─┬─┘└──────────┘└─┬─┘└───┘ └────────────┘└────┘└────────┘   ├───┴┐  └┬────────┬┘             ├───┴┐  └───────────┘┌────┴───┴────┐     ├───┴┐    ├─────────────┴┐   ├────┤  ┌┴────────┴┐└─┬─┘└──────────┘          └─┬─┘ └──────────┘ └─┬─┘└───┘ └────────────┘└────┘ └────────┘   ├───┴┐   └┬────────┬┘              ├───┴┐    └───────────┘┌────┴───┴────┐     ├───┴┐    ├─────────────┴┐   ├────┤  ┌┴────────┴┐  └─┬─┘   └──────────┘              └─┬─┘ └──────────┘      └─┬─┘      └───┘  └────────────┘└────┘ └────────┘    ├───┴┐   └┬────────┬┘                  ├───┴┐    └───────────┘┌────┴───┴────┐     ├───┴┐    ├─────────────┴┐   ├────┤  ┌┴────────┴┐  └─┬─┘   └──────────┘              └─┬─┘ └──────────┘      └─┬─┘      └───┘  └────────────┘└────┘ └────────┘    ├───┴┐   └┬────────┬┘                  ├───┴┐    └───────────┘┌────┴───┴────┐     ├───┴┐    ├─────────────┴┐   ├────┤  ┌┴────────┴┐  └─┬─┘   └──────────┘              └─┬─┘ └──────────┘      └─┬─┘      └───┘  └────────────┘└────┘ └────────┘    ├───┴┐   └┬────────┬┘                  ├───┴┐    └───────────┘┌────┴───┴────┐     ├───┴┐    ├─────────────┴┐   ├────┤  ┌┴────────┴┐  └─┬─┘   └──────────┘              └─┬─┘ └──────────┘      └─┬─┘      └───┘  └────────────┘└────┘ └────────┘   ├───┴┐   └┬────────┬┘              ├───┴┐    └───────────┘┌────┴───┴────┐     ├───┴┐    ├─────────────┴┐   ├────┤  ┌┴────────┴┐└─┬─┘└──────────┘          └─┬─┘ └──────────┘ └─┬─┘└───┘ └────────────┘└────┘ └────────┘   ├───┴┐  └┬────────┬┘             ├───┴┐  └───────────┘┌────┴───┴────┐     ├───┴┐    └─┬──────────┬┘   ├───┬┘  ┌─┴────────┴─┐└─┬─┘└──────────┘          └─┬─┘└──────────┘└─┬─┘└───┘└───────────┘        ┌────┐  ┌───────┐┌────┐     ┌─────────────┐                  \n",
              "q_8 -> 8 ┤ Rz(2.6805) ├──────────────────────■─────┤ √X ├──┤ Rz(0) ├┤ √X ├──■──┤ Rz(-2.8173) ├┤ √X ├┤ Rz(-0.58243) ├┤ √X ├──┼──┤ Rz(-π/2) ├────────────┼────────────────┼────────────────────────────────■────────┤ √X ├───┤ Rz(2π) ├─────■────────┤ √X ├────────■──────┤ Rz(-1.3496) ├─────┤ √X ├────┤ Rz(-0.58243) ├───┤ √X ├──┤ Rz(-π/2) ├──┼──────────────────────────┼──────────────────┼─────────────────────────────────■────────┤ √X ├────┤ Rz(2π) ├─────■─────────┤ √X ├──────────■──────┤ Rz(-1.3496) ├─────┤ √X ├────┤ Rz(-0.58243) ├───┤ √X ├──┤ Rz(-π/2) ├────┼─────────────────────────────────┼───────────────────────┼────────────────────────────────────────■─────────┤ √X ├────┤ Rz(2π) ├───────■───────────┤ √X ├──────────■──────┤ Rz(-1.3496) ├─────┤ √X ├────┤ Rz(-0.58243) ├───┤ √X ├──┤ Rz(-π/2) ├────┼─────────────────────────────────┼───────────────────────┼────────────────────────────────────────■─────────┤ √X ├────┤ Rz(2π) ├───────■───────────┤ √X ├──────────■──────┤ Rz(-1.3496) ├─────┤ √X ├────┤ Rz(-0.58243) ├───┤ √X ├──┤ Rz(-π/2) ├────┼─────────────────────────────────┼───────────────────────┼────────────────────────────────────────■─────────┤ √X ├────┤ Rz(2π) ├───────■───────────┤ √X ├──────────■──────┤ Rz(-1.3496) ├─────┤ √X ├────┤ Rz(-0.58243) ├───┤ √X ├──┤ Rz(-π/2) ├────┼─────────────────────────────────┼───────────────────────┼────────────────────────────────────────■────────┤ √X ├────┤ Rz(2π) ├─────■─────────┤ √X ├──────────■──────┤ Rz(-1.3496) ├─────┤ √X ├────┤ Rz(-0.58243) ├───┤ √X ├──┤ Rz(-π/2) ├──┼──────────────────────────┼──────────────────┼─────────────────────────────────■────────┤ √X ├───┤ Rz(2π) ├─────■────────┤ √X ├────────■──────┤ Rz(-1.3496) ├─────┤ √X ├──────┤ Rz(-π/2) ├────┤ X ├───┤ Rz(2.6805) ├──┼──────────────────────────┼────────────────┼──────────────────────■─────┤ √X ├──┤ Rz(0) ├┤ √X ├──■──┤ Rz(-2.8173) ├──────────────────\n",
              "         └┬──────────┬┘┌────┐┌────────────┐┌─┴─┐┌──┴────┴─┐└───────┘└────┘┌─┴─┐├─────────────┤├────┤└─┬─────────┬──┘└────┘  │  └──┬────┬──┘┌────────┐  │     ┌────┐     │  ┌───┐┌─────────────┐┌────┐  ┌─┴─┐   ┌──┴────┴─┐ └────────┘   ┌─┴─┐   ┌──┴────┴─┐    ┌─┴─┐    └────┬───┬────┘┌────┴────┴───┐└────┬────┬────┘┌──┴────┴─┐└──────────┘  │     ┌────┐   ┌────────┐  │      ┌────┐      │  ┌───┐┌─────────────┐┌────┐   ┌─┴─┐   ┌──┴────┴─┐  └────────┘   ┌─┴─┐    ┌──┴────┴─┐      ┌─┴─┐    └────┬───┬────┘┌────┴────┴───┐└────┬────┬────┘┌──┴────┴─┐└──────────┘    │        ┌────┐     ┌────────┐    │      ┌────┐           │        ┌───┐ ┌─────────────┐┌────┐   ┌─┴─┐    ┌──┴────┴─┐  └────────┘     ┌─┴─┐      ┌──┴────┴─┐      ┌─┴─┐    └────┬───┬────┘┌────┴────┴───┐└────┬────┬────┘┌──┴────┴─┐└──────────┘    │        ┌────┐     ┌────────┐    │      ┌────┐           │        ┌───┐ ┌─────────────┐┌────┐   ┌─┴─┐    ┌──┴────┴─┐  └────────┘     ┌─┴─┐      ┌──┴────┴─┐      ┌─┴─┐    └────┬───┬────┘┌────┴────┴───┐└────┬────┬────┘┌──┴────┴─┐└──────────┘    │        ┌────┐     ┌────────┐    │      ┌────┐           │        ┌───┐ ┌─────────────┐┌────┐   ┌─┴─┐    ┌──┴────┴─┐  └────────┘     ┌─┴─┐      ┌──┴────┴─┐      ┌─┴─┐    └────┬───┬────┘┌────┴────┴───┐└────┬────┬────┘┌──┴────┴─┐└──────────┘    │        ┌────┐     ┌────────┐    │      ┌────┐           │        ┌───┐ ┌─────────────┐┌────┐   ┌─┴─┐   ┌──┴────┴─┐  └────────┘   ┌─┴─┐    ┌──┴────┴─┐      ┌─┴─┐    └────┬───┬────┘┌────┴────┴───┐└────┬────┬────┘┌──┴────┴─┐└──────────┘  │     ┌────┐   ┌────────┐  │      ┌────┐      │  ┌───┐┌─────────────┐┌────┐   ┌─┴─┐   ┌──┴────┴─┐ └────────┘   ┌─┴─┐   ┌──┴────┴─┐    ┌─┴─┐    └────┬───┬────┘┌────┴────┴───┐  └──┬────┬──┘ ┌──┴───┴──┐└────────────┘  │     ┌────┐   ┌────────┐  │     ┌────┐     │  ┌───┐┌───────────┐┌─┴─┐┌──┴────┴─┐└───────┘└────┘┌─┴─┐└─┬──────────┬┘┌────┐┌──────────┐\n",
              "q_9 -> 9 ─┤ Rz(-π/2) ├─┤ √X ├┤ Rz(2.9101) ├┤ X ├┤ Rz(π/4) ├───────────────┤ X ├┤ Rz(-1.0169) ├┤ √X ├──┤ Rz(π/2) ├───────────■─────┤ √X ├───┤ Rz(2π) ├──■─────┤ √X ├─────■──┤ X ├┤ Rz(-1.7423) ├┤ √X ├──┤ X ├───┤ Rz(π/2) ├──────────────┤ X ├───┤ Rz(π/4) ├────┤ X ├─────────┤ X ├─────┤ Rz(-3.3446) ├─────┤ √X ├─────┤ Rz(π/2) ├──────────────■─────┤ √X ├───┤ Rz(2π) ├──■──────┤ √X ├──────■──┤ X ├┤ Rz(-1.7423) ├┤ √X ├───┤ X ├───┤ Rz(π/2) ├───────────────┤ X ├────┤ Rz(π/4) ├──────┤ X ├─────────┤ X ├─────┤ Rz(-3.3446) ├─────┤ √X ├─────┤ Rz(π/2) ├────────────────■────────┤ √X ├─────┤ Rz(2π) ├────■──────┤ √X ├───────────■────────┤ X ├─┤ Rz(-1.7423) ├┤ √X ├───┤ X ├────┤ Rz(π/2) ├─────────────────┤ X ├──────┤ Rz(π/4) ├──────┤ X ├─────────┤ X ├─────┤ Rz(-3.3446) ├─────┤ √X ├─────┤ Rz(π/2) ├────────────────■────────┤ √X ├─────┤ Rz(2π) ├────■──────┤ √X ├───────────■────────┤ X ├─┤ Rz(-1.7423) ├┤ √X ├───┤ X ├────┤ Rz(π/2) ├─────────────────┤ X ├──────┤ Rz(π/4) ├──────┤ X ├─────────┤ X ├─────┤ Rz(-3.3446) ├─────┤ √X ├─────┤ Rz(π/2) ├────────────────■────────┤ √X ├─────┤ Rz(2π) ├────■──────┤ √X ├───────────■────────┤ X ├─┤ Rz(-1.7423) ├┤ √X ├───┤ X ├────┤ Rz(π/2) ├─────────────────┤ X ├──────┤ Rz(π/4) ├──────┤ X ├─────────┤ X ├─────┤ Rz(-3.3446) ├─────┤ √X ├─────┤ Rz(π/2) ├────────────────■────────┤ √X ├─────┤ Rz(2π) ├────■──────┤ √X ├───────────■────────┤ X ├─┤ Rz(-1.7423) ├┤ √X ├───┤ X ├───┤ Rz(π/2) ├───────────────┤ X ├────┤ Rz(π/4) ├──────┤ X ├─────────┤ X ├─────┤ Rz(-3.3446) ├─────┤ √X ├─────┤ Rz(π/2) ├──────────────■─────┤ √X ├───┤ Rz(2π) ├──■──────┤ √X ├──────■──┤ X ├┤ Rz(-1.7423) ├┤ √X ├───┤ X ├───┤ Rz(π/2) ├──────────────┤ X ├───┤ Rz(π/4) ├────┤ X ├─────────┤ X ├─────┤ Rz(-3.3446) ├─────┤ √X ├────┤ Rz(π/2) ├────────────────■─────┤ √X ├───┤ Rz(2π) ├──■─────┤ √X ├─────■──┤ X ├┤ Rz(-7π/8) ├┤ X ├┤ Rz(π/4) ├───────────────┤ X ├──┤ Rz(-π/4) ├─┤ √X ├┤ Rz(-π/2) ├\n",
              "          └──────────┘ └────┘└────────────┘└───┘└─────────┘               └───┘└─────────────┘└────┘  └─────────┘                 └────┘   └────────┘        └────┘        └───┘└─────────────┘└────┘  └───┘   └─────────┘              └───┘   └─────────┘    └───┘         └───┘     └─────────────┘     └────┘     └─────────┘                    └────┘   └────────┘         └────┘         └───┘└─────────────┘└────┘   └───┘   └─────────┘               └───┘    └─────────┘      └───┘         └───┘     └─────────────┘     └────┘     └─────────┘                         └────┘     └────────┘           └────┘                    └───┘ └─────────────┘└────┘   └───┘    └─────────┘                 └───┘      └─────────┘      └───┘         └───┘     └─────────────┘     └────┘     └─────────┘                         └────┘     └────────┘           └────┘                    └───┘ └─────────────┘└────┘   └───┘    └─────────┘                 └───┘      └─────────┘      └───┘         └───┘     └─────────────┘     └────┘     └─────────┘                         └────┘     └────────┘           └────┘                    └───┘ └─────────────┘└────┘   └───┘    └─────────┘                 └───┘      └─────────┘      └───┘         └───┘     └─────────────┘     └────┘     └─────────┘                         └────┘     └────────┘           └────┘                    └───┘ └─────────────┘└────┘   └───┘   └─────────┘               └───┘    └─────────┘      └───┘         └───┘     └─────────────┘     └────┘     └─────────┘                    └────┘   └────────┘         └────┘         └───┘└─────────────┘└────┘   └───┘   └─────────┘              └───┘   └─────────┘    └───┘         └───┘     └─────────────┘     └────┘    └─────────┘                      └────┘   └────────┘        └────┘        └───┘└───────────┘└───┘└─────────┘               └───┘  └──────────┘ └────┘└──────────┘</pre>"
            ],
            "text/plain": [
              "           ┌────────┐  ┌────┐ ┌─────────┐                                                                                                                                                                                                                                                                                                                                                                                                                                                                                                                                                                                                                                                                                                                                                                                                                                                                                       ┌────┐    ┌────────┐                 ┌────┐                      ┌───┐    ┌─────────────┐                                                                                                                                                                                                                                                                                                                                                                                                                                                                                                                                                                                                                                                                                                                                                                                                                                                                                                                        \n",
              "q_0 -> 0 ──┤ Rz(-π) ├──┤ √X ├─┤ Rz(π/2) ├────────────────────────────────────────────────────────────────────────────────────────────────────────────────────────────────────────────────────────────────────────────────────────────────────────────────────────────────────────────────────────────────────────────────────────────────────────────────────────────────────────────────────────────────────────────────────────────────────────────────────────────────────────────────────────────────────────────────────────────────────────────────────────────────────────────────────────────────────────────────────────────────────────────────────────────────────────────────────────────────────────────────────────────────────────────────────────────────────────────────────────────────────────────────────────────────────────────────────────────────────────────────────────────────────────────────■──────┤ √X ├────┤ Rz(2π) ├──────■──────────┤ √X ├──────────■───────────┤ X ├────┤ Rz(-1.5677) ├────────────────────────────────────────────────────────────────────────────────────────────────────────────────────────────────────────────────────────────────────────────────────────────────────────────────────────────────────────────────────────────────────────────────────────────────────────────────────────────────────────────────────────────────────────────────────────────────────────────────────────────────────────────────────────────────────────────────────────────────────────────────────────────────────────────────────────────────────────────────────────────────────────────────────────────────────────────────────────────────────────────────────────────────────────────────────────────────────────────────────────────────────────────────────────────────────────────────────────────────────────────────────────────────────────────────────────────────────────────────────────\n",
              "           ├────────┤  ├────┤ ├─────────┤                                                                                                                                                                                                                                                                                                                                                                                                                                                                                                                                                                                                                                                                                                                                                                         ┌────┐   ┌────────┐                ┌────┐             ┌───┐     ┌─────────────┐ ┌────┐   ┌────────┐  ┌─┴─┐ ┌──┴────┴──┐ └────────┘    ┌─┴─┐    ┌───┴────┴───┐    ┌─┴─┐         ├───┤    ├─────────────┤     ┌────┐      ┌─────────┐                 ┌────┐   ┌────────┐                ┌────┐             ┌───┐     ┌─────────────┐                                                                                                                                                                                                                                                                                                                                                                                                                                                                                                                                                                                                                                                                                                                                                                                            \n",
              "q_1 -> 1 ──┤ Rz(-π) ├──┤ √X ├─┤ Rz(π/2) ├────────────────────────────────────────────────────────────────────────────────────────────────────────────────────────────────────────────────────────────────────────────────────────────────────────────────────────────────────────────────────────────────────────────────────────────────────────────────────────────────────────────────────────────────────────────────────────────────────────────────────────────────────────────────────────────────────────────────────────────────────────────────────────────────────────────────────────────────────────────────────────────────────────────────────────────────────────────────────────────────────────────────────────────────────────────────────────────────────────────────────────────────■────────┤ √X ├───┤ Rz(2π) ├─────■──────────┤ √X ├──────■──────┤ X ├─────┤ Rz(-4.7063) ├─┤ √X ├───┤ Rz(-π) ├──┤ X ├─┤ Rz(-π/2) ├───────────────┤ X ├────┤ Rz(1.5677) ├────┤ X ├─────────┤ X ├────┤ Rz(-6.2801) ├─────┤ √X ├──────┤ Rz(π/2) ├────────■────────┤ √X ├───┤ Rz(2π) ├─────■──────────┤ √X ├──────■──────┤ X ├─────┤ Rz(-1.5647) ├────────────────────────────────────────────────────────────────────────────────────────────────────────────────────────────────────────────────────────────────────────────────────────────────────────────────────────────────────────────────────────────────────────────────────────────────────────────────────────────────────────────────────────────────────────────────────────────────────────────────────────────────────────────────────────────────────────────────────────────────────────────────────────────────────────────────────────────────────────────────────────────────────────────────────────────────────────────────────────────────────────────────────────────────────────────────────────────────────────────────────────────────────────────────────────────\n",
              "           ├────────┤  ├────┤ ├─────────┤                                                                                                                                                                                                                                                                                                                                                                                                                                                                                                                                                                                                                                   ┌────┐    ┌────────┐                 ┌────┐                      ┌───┐    ┌─────────────┐     ┌────┐       ┌────────┐      ┌─┴─┐   ┌──┴────┴──┐└────────┘   ┌─┴─┐    ┌───┴────┴───┐┌─┴─┐    ├───┤     └┬────────────┤ ├────┤  ┌┴────────┤  └───┘ └──┬────┬──┘ ┌────────┐    └───┘    └───┬────┬───┘    └───┘         ├───┤    ├─────────────┤     ├────┤      └┬────────┤      ┌─┴─┐   ┌──┴────┴──┐└────────┘   ┌─┴─┐    ┌───┴────┴───┐┌─┴─┐    ├───┤     └┬────────────┤ ┌────┐  ┌─────────┐           ┌────┐    ┌────────┐                 ┌────┐                      ┌───┐    ┌─────────────┐                                                                                                                                                                                                                                                                                                                                                                                                                                                                                                                                                                                                                                                                    \n",
              "q_2 -> 2 ──┤ Rz(-π) ├──┤ √X ├─┤ Rz(π/2) ├────────────────────────────────────────────────────────────────────────────────────────────────────────────────────────────────────────────────────────────────────────────────────────────────────────────────────────────────────────────────────────────────────────────────────────────────────────────────────────────────────────────────────────────────────────────────────────────────────────────────────────────────────────────────────────────────────────────────────────────────────────────────────────────────────────────────────────────────────────────────────────────────────────────────────────────■──────┤ √X ├────┤ Rz(2π) ├──────■──────────┤ √X ├──────────■───────────┤ X ├────┤ Rz(-4.7001) ├─────┤ √X ├───────┤ Rz(-π) ├──────┤ X ├───┤ Rz(-π/2) ├─────────────┤ X ├────┤ Rz(1.5647) ├┤ X ├────┤ X ├──────┤ Rz(-6.277) ├─┤ √X ├──┤ Rz(π/2) ├────■──────┤ √X ├────┤ Rz(2π) ├──────■──────────┤ √X ├──────────■───────────┤ X ├────┤ Rz(-4.7001) ├─────┤ √X ├───────┤ Rz(-π) ├──────┤ X ├───┤ Rz(-π/2) ├─────────────┤ X ├────┤ Rz(1.5647) ├┤ X ├────┤ X ├──────┤ Rz(-6.277) ├─┤ √X ├──┤ Rz(π/2) ├────■──────┤ √X ├────┤ Rz(2π) ├──────■──────────┤ √X ├──────────■───────────┤ X ├────┤ Rz(-1.5585) ├────────────────────────────────────────────────────────────────────────────────────────────────────────────────────────────────────────────────────────────────────────────────────────────────────────────────────────────────────────────────────────────────────────────────────────────────────────────────────────────────────────────────────────────────────────────────────────────────────────────────────────────────────────────────────────────────────────────────────────────────────────────────────────────────────────────────────────────────────────────────────────────────────────────────────────────────────────────────────────────────────\n",
              "           ├────────┤  ├────┤ ├─────────┤                                                                                                                                                                                                                                                                                                                                                                                                                                                                                                                     ┌────┐   ┌────────┐                ┌────┐             ┌───┐     ┌─────────────┐ ┌────┐   ┌────────┐  ┌─┴─┐ ┌──┴────┴──┐ └────────┘    ┌─┴─┐    ┌───┴────┴───┐    ┌─┴─┐         ├───┤    ├─────────────┤     ├────┤      ┌┴────────┤      └───┘   └──┬────┬──┘┌────────┐   └───┘    └───┬────┬───┘└───┘    ├───┤     ┌┴────────────┤ ├────┤  └┬────────┤  ┌─┴─┐ ┌──┴────┴──┐ └────────┘    ┌─┴─┐    ┌───┴────┴───┐    ┌─┴─┐         ├───┤    ├─────────────┤     ├────┤      ┌┴────────┤      └───┘   └──┬────┬──┘┌────────┐   └───┘    └───┬────┬───┘└───┘    ├───┤     ┌┴────────────┤ ├────┤  └┬────────┤  ┌─┴─┐ ┌──┴────┴──┐ └────────┘    ┌─┴─┐    ┌───┴────┴───┐    ┌─┴─┐         ├───┤    ├─────────────┤     ┌────┐      ┌─────────┐                 ┌────┐   ┌────────┐                ┌────┐             ┌───┐      ┌────────────┐                                                                                                                                                                                                                                                                                                                                                                                                                                                                                                                                        \n",
              "q_3 -> 3 ──┤ Rz(-π) ├──┤ √X ├─┤ Rz(π/2) ├────────────────────────────────────────────────────────────────────────────────────────────────────────────────────────────────────────────────────────────────────────────────────────────────────────────────────────────────────────────────────────────────────────────────────────────────────────────────────────────────────────────────────────────────────────────────────────────────────────────────────────────────────────────────────────────────────────────────────────────────────────────■────────┤ √X ├───┤ Rz(2π) ├─────■──────────┤ √X ├──────■──────┤ X ├─────┤ Rz(-6.2586) ├─┤ √X ├───┤ Rz(-π) ├──┤ X ├─┤ Rz(-π/2) ├───────────────┤ X ├────┤ Rz(1.5585) ├────┤ X ├─────────┤ X ├────┤ Rz(-6.2709) ├─────┤ √X ├──────┤ Rz(π/2) ├────────■────────┤ √X ├───┤ Rz(2π) ├─────■──────────┤ √X ├──────■──────┤ X ├─────┤ Rz(-6.2586) ├─┤ √X ├───┤ Rz(-π) ├──┤ X ├─┤ Rz(-π/2) ├───────────────┤ X ├────┤ Rz(1.5585) ├────┤ X ├─────────┤ X ├────┤ Rz(-6.2709) ├─────┤ √X ├──────┤ Rz(π/2) ├────────■────────┤ √X ├───┤ Rz(2π) ├─────■──────────┤ √X ├──────■──────┤ X ├─────┤ Rz(-6.2586) ├─┤ √X ├───┤ Rz(-π) ├──┤ X ├─┤ Rz(-π/2) ├───────────────┤ X ├────┤ Rz(1.5585) ├────┤ X ├─────────┤ X ├────┤ Rz(-6.2709) ├─────┤ √X ├──────┤ Rz(π/2) ├────────■────────┤ √X ├───┤ Rz(2π) ├─────■──────────┤ √X ├──────■──────┤ X ├──────┤ Rz(-3.117) ├────────────────────────────────────────────────────────────────────────────────────────────────────────────────────────────────────────────────────────────────────────────────────────────────────────────────────────────────────────────────────────────────────────────────────────────────────────────────────────────────────────────────────────────────────────────────────────────────────────────────────────────────────────────────────────────────────────────────────────────────────────────────────────────────────────\n",
              "          ┌┴────────┴┐ ├────┤ ├─────────┴┐                                                                                                                                                                                                                                                                                                                                                                                              ┌────┐    ┌────────┐               ┌────┐                 ┌─────────────┐     ┌────┐       ┌────────┐      ┌─┴─┐   ┌──┴────┴──┐└────────┘   ┌─┴─┐    ┌───┴────┴───┐┌─┴─┐    ├───┤     ├─────────────┴┐├────┤  ┌┴────────┴┐ └───┘ └──────────┘   ┌────┐    ┌─┴───┴──┐ └────────────┘    ├───┴┐        └───┘    ├─────────────┤     ├────┤      └┬────────┤      ┌─┴─┐   ┌──┴────┴──┐└────────┘   ┌─┴─┐    ┌───┴────┴───┐┌─┴─┐    ├───┤     ├─────────────┴┐├────┤  ┌┴────────┴┐ └───┘ └──────────┘   ┌────┐    ┌─┴───┴──┐ └────────────┘    ├───┴┐        └───┘    ├─────────────┤     ├────┤      └┬────────┤      ┌─┴─┐   ┌──┴────┴──┐└────────┘   ┌─┴─┐    ┌───┴────┴───┐┌─┴─┐    ├───┤     ├─────────────┴┐├────┤  ┌┴────────┴┐ └───┘ └──────────┘   ┌────┐    ┌─┴───┴──┐ └────────────┘    ├───┴┐        └───┘    ├─────────────┤     ├────┤      └┬────────┤      ┌─┴─┐   ┌──┴────┴──┐└────────┘   ┌─┴─┐    ┌───┴────┴───┐┌─┴─┐    ├───┤     ┌┴────────────┴┐┌────┐  ┌──────────┐                     ┌────┐    ┌────────┐               ┌────┐                  ┌────────────┐                                                                                                                                                                                                                                                                                                                                                                                                                     \n",
              "q_4 -> 4 ─┤ Rz(3π/4) ├─┤ √X ├─┤ Rz(-π/2) ├─────────────────────────────────────────────────────────────────────────────────────────────────────────────────────────────────────────────────────────────────────────────────────────────────────────────────────────────────────────────────────────────────────────────────────────────────────────────────────────────────────────────────────────────────────────────────────■────────┤ √X ├────┤ Rz(2π) ├─────■─────────┤ √X ├──────────■──────┤ Rz(0.83449) ├─────┤ √X ├───────┤ Rz(-π) ├──────┤ X ├───┤ Rz(-π/2) ├─────────────┤ X ├────┤ Rz(1.5463) ├┤ X ├────┤ X ├─────┤ Rz(-0.76085) ├┤ √X ├──┤ Rz(-π/2) ├────────────■─────────┤ √X ├────┤ Rz(2π) ├───────■───────────┤ √X ├──────────■──────┤ Rz(0.83449) ├─────┤ √X ├───────┤ Rz(-π) ├──────┤ X ├───┤ Rz(-π/2) ├─────────────┤ X ├────┤ Rz(1.5463) ├┤ X ├────┤ X ├─────┤ Rz(-0.76085) ├┤ √X ├──┤ Rz(-π/2) ├────────────■─────────┤ √X ├────┤ Rz(2π) ├───────■───────────┤ √X ├──────────■──────┤ Rz(0.83449) ├─────┤ √X ├───────┤ Rz(-π) ├──────┤ X ├───┤ Rz(-π/2) ├─────────────┤ X ├────┤ Rz(1.5463) ├┤ X ├────┤ X ├─────┤ Rz(-0.76085) ├┤ √X ├──┤ Rz(-π/2) ├────────────■─────────┤ √X ├────┤ Rz(2π) ├───────■───────────┤ √X ├──────────■──────┤ Rz(0.83449) ├─────┤ √X ├───────┤ Rz(-π) ├──────┤ X ├───┤ Rz(-π/2) ├─────────────┤ X ├────┤ Rz(1.5463) ├┤ X ├────┤ X ├─────┤ Rz(-0.76085) ├┤ √X ├──┤ Rz(-π/2) ├────────────■────────┤ √X ├────┤ Rz(2π) ├─────■─────────┤ √X ├──────────■───────┤ Rz(2.4053) ├─────────────────────────────────────────────────────────────────────────────────────────────────────────────────────────────────────────────────────────────────────────────────────────────────────────────────────────────────────────────────────────────────────────────────────────────────────────────────────────────────────────────────────────────────────────────────────────────────────────────────────\n",
              "          └┬────────┬┘ ├────┤ ├─────────┬┘                                                                                                                                                                                                                                                                                                           ┌────┐   ┌────────┐         ┌────┐         ┌───┐┌─────────────┐┌────┐   ┌─┴─┐   ┌──┴────┴──┐ └────────┘   ┌─┴─┐   ┌───┴────┴───┐    ┌─┴─┐    ├─────────────┤     ├────┤      ┌┴────────┤      └───┘   └──────────┘             ├───┴┐   └─┬────────┬─┘└───┘    ├───┴┐    └──────────────┘├───┬┘┌─┴──────────┴┐┌────┐   ┌─┴─┐    ┌──┴────┴──┐ └────────┘     ┌─┴─┐     ┌───┴────┴───┐    ┌─┴─┐    ├─────────────┤     ├────┤      ┌┴────────┤      └───┘   └──────────┘             ├───┴┐   └─┬────────┬─┘└───┘    ├───┴┐    └──────────────┘├───┬┘┌─┴──────────┴┐┌────┐   ┌─┴─┐    ┌──┴────┴──┐ └────────┘     ┌─┴─┐     ┌───┴────┴───┐    ┌─┴─┐    ├─────────────┤     ├────┤      ┌┴────────┤      └───┘   └──────────┘             ├───┴┐   └─┬────────┬─┘└───┘    ├───┴┐    └──────────────┘├───┬┘┌─┴──────────┴┐┌────┐   ┌─┴─┐    ┌──┴────┴──┐ └────────┘     ┌─┴─┐     ┌───┴────┴───┐    ┌─┴─┐    ├─────────────┤     ├────┤      ┌┴────────┤      └───┘   └──────────┘             ├───┴┐   └─┬────────┬─┘└───┘    ├───┴┐    └──────────────┘├───┬┘┌─┴──────────┴┐┌────┐   ┌─┴─┐   ┌──┴────┴──┐ └────────┘   ┌─┴─┐   ┌───┴────┴───┐    ┌─┴─┐    ┌┴────────────┤     ┌────┐      ┌─────────┐                                  ┌────┐   ┌────────┐         ┌────┐         ┌───┐┌─────────────┐                                                                                                                                                                                                                                                                                        \n",
              "q_5 -> 5 ──┤ Rz(-π) ├──┤ √X ├─┤ Rz(π/2) ├──────────────────────────────────────────────────────────────────────────────────────────────────────────────────────────────────────────────────────────────────────────────────────────────────────────────────────────────────────────────────────────────────────────────────────────────────────■─────┤ √X ├───┤ Rz(2π) ├──■──────┤ √X ├──────■──┤ X ├┤ Rz(-3.8288) ├┤ √X ├───┤ X ├───┤ Rz(-π/2) ├──────────────┤ X ├───┤ Rz(1.5217) ├────┤ X ├────┤ Rz(-2.3071) ├─────┤ √X ├──────┤ Rz(π/2) ├──────────────────────────────■────────┤ √X ├─────┤ Rz(2π) ├────■──────┤ √X ├───────────■────────┤ X ├─┤ Rz(-3.8288) ├┤ √X ├───┤ X ├────┤ Rz(-π/2) ├────────────────┤ X ├─────┤ Rz(1.5217) ├────┤ X ├────┤ Rz(-2.3071) ├─────┤ √X ├──────┤ Rz(π/2) ├──────────────────────────────■────────┤ √X ├─────┤ Rz(2π) ├────■──────┤ √X ├───────────■────────┤ X ├─┤ Rz(-3.8288) ├┤ √X ├───┤ X ├────┤ Rz(-π/2) ├────────────────┤ X ├─────┤ Rz(1.5217) ├────┤ X ├────┤ Rz(-2.3071) ├─────┤ √X ├──────┤ Rz(π/2) ├──────────────────────────────■────────┤ √X ├─────┤ Rz(2π) ├────■──────┤ √X ├───────────■────────┤ X ├─┤ Rz(-3.8288) ├┤ √X ├───┤ X ├────┤ Rz(-π/2) ├────────────────┤ X ├─────┤ Rz(1.5217) ├────┤ X ├────┤ Rz(-2.3071) ├─────┤ √X ├──────┤ Rz(π/2) ├──────────────────────────────■────────┤ √X ├─────┤ Rz(2π) ├────■──────┤ √X ├───────────■────────┤ X ├─┤ Rz(-3.8288) ├┤ √X ├───┤ X ├───┤ Rz(-π/2) ├──────────────┤ X ├───┤ Rz(1.5217) ├────┤ X ├────┤ Rz(-2.3071) ├─────┤ √X ├──────┤ Rz(π/2) ├────────────────────────────■─────┤ √X ├───┤ Rz(2π) ├──■──────┤ √X ├──────■──┤ X ├┤ Rz(-3.0434) ├────────────────────────────────────────────────────────────────────────────────────────────────────────────────────────────────────────────────────────────────────────────────────────────────────────────────────────────────────────────────────────────────────────────────────────\n",
              "           ├────────┤  ├────┤ ├─────────┤                                                                                                                                                                                    ┌────┐   ┌────────┐               ┌────┐                       ┌───┐     ┌─────────────┐    ┌────┐   ┌────────┐ ┌─┴─┐┌──┴────┴──┐└────────┘┌─┴─┐┌───┴────┴───┐┌─┴─┐├───┤└┬────────────┤├────┤┌──┴───┴──┐└──────────┘   ┌────┐   ┌─┴───┴──┐└────────────┘    ├───┴┐   └─────────────┘     ├───┬┘    ┌─┴─────────┴─┐    ┌────┐   ┌────────┐   ┌─┴─┐   ┌──┴────┴──┐  └────────┘  ┌─┴─┐┌───┴────┴───┐     ┌─┴─┐      ├───┤ └┬────────────┤├────┤┌──┴───┴──┐ └──────────┘   ┌────┐     ┌─┴───┴──┐  └────────────┘    ├───┴┐   └─────────────┘     ├───┬┘    ┌─┴─────────┴─┐    ┌────┐   ┌────────┐   ┌─┴─┐   ┌──┴────┴──┐  └────────┘  ┌─┴─┐┌───┴────┴───┐     ┌─┴─┐      ├───┤ └┬────────────┤├────┤┌──┴───┴──┐ └──────────┘   ┌────┐     ┌─┴───┴──┐  └────────────┘    ├───┴┐   └─────────────┘     ├───┬┘    ┌─┴─────────┴─┐    ┌────┐   ┌────────┐   ┌─┴─┐   ┌──┴────┴──┐  └────────┘  ┌─┴─┐┌───┴────┴───┐     ┌─┴─┐      ├───┤ └┬────────────┤├────┤┌──┴───┴──┐ └──────────┘   ┌────┐     ┌─┴───┴──┐  └────────────┘    ├───┴┐   └─────────────┘     ├───┬┘    ┌─┴─────────┴─┐    ┌────┐   ┌────────┐   ┌─┴─┐   ┌──┴────┴──┐  └────────┘  ┌─┴─┐┌───┴────┴───┐     ┌─┴─┐      ├───┤ └┬────────────┤├────┤┌──┴───┴──┐└──────────┘   ┌────┐   ┌─┴───┴──┐└────────────┘    ├───┴┐   └─────────────┘     ├───┬┘    ┌─┴─────────┴─┐    ┌────┐   ┌────────┐ ┌─┴─┐┌──┴────┴──┐└────────┘┌─┴─┐┌───┴────┴───┐┌─┴─┐├───┤└┬────────────┤┌────┐┌─────────┐              ┌────┐   ┌────────┐               ┌────┐                       ┌───┐      ┌────────────┐                                                                                                                                                                 \n",
              "q_6 -> 6 ──┤ Rz(-π) ├──┤ √X ├─┤ Rz(π/2) ├───────────────────────────────────────────────────────────────────────────────────────────────────────────────────────────────────────────────────────────────────────────■────────┤ √X ├───┤ Rz(2π) ├─────■─────────┤ √X ├──────────■────────────┤ X ├─────┤ Rz(-15π/16) ├────┤ √X ├───┤ Rz(-π) ├─┤ X ├┤ Rz(-π/2) ├──────────┤ X ├┤ Rz(1.4726) ├┤ X ├┤ X ├─┤ Rz(-6.185) ├┤ √X ├┤ Rz(π/2) ├─────■─────────┤ √X ├───┤ Rz(2π) ├──────■───────────┤ √X ├──────────■────────────┤ X ├─────┤ Rz(-15π/16) ├────┤ √X ├───┤ Rz(-π) ├───┤ X ├───┤ Rz(-π/2) ├──────────────┤ X ├┤ Rz(1.4726) ├─────┤ X ├──────┤ X ├──┤ Rz(-6.185) ├┤ √X ├┤ Rz(π/2) ├──────■─────────┤ √X ├─────┤ Rz(2π) ├────────■───────────┤ √X ├──────────■────────────┤ X ├─────┤ Rz(-15π/16) ├────┤ √X ├───┤ Rz(-π) ├───┤ X ├───┤ Rz(-π/2) ├──────────────┤ X ├┤ Rz(1.4726) ├─────┤ X ├──────┤ X ├──┤ Rz(-6.185) ├┤ √X ├┤ Rz(π/2) ├──────■─────────┤ √X ├─────┤ Rz(2π) ├────────■───────────┤ √X ├──────────■────────────┤ X ├─────┤ Rz(-15π/16) ├────┤ √X ├───┤ Rz(-π) ├───┤ X ├───┤ Rz(-π/2) ├──────────────┤ X ├┤ Rz(1.4726) ├─────┤ X ├──────┤ X ├──┤ Rz(-6.185) ├┤ √X ├┤ Rz(π/2) ├──────■─────────┤ √X ├─────┤ Rz(2π) ├────────■───────────┤ √X ├──────────■────────────┤ X ├─────┤ Rz(-15π/16) ├────┤ √X ├───┤ Rz(-π) ├───┤ X ├───┤ Rz(-π/2) ├──────────────┤ X ├┤ Rz(1.4726) ├─────┤ X ├──────┤ X ├──┤ Rz(-6.185) ├┤ √X ├┤ Rz(π/2) ├─────■─────────┤ √X ├───┤ Rz(2π) ├──────■───────────┤ √X ├──────────■────────────┤ X ├─────┤ Rz(-15π/16) ├────┤ √X ├───┤ Rz(-π) ├─┤ X ├┤ Rz(-π/2) ├──────────┤ X ├┤ Rz(1.4726) ├┤ X ├┤ X ├─┤ Rz(-6.185) ├┤ √X ├┤ Rz(π/2) ├─────■────────┤ √X ├───┤ Rz(2π) ├─────■─────────┤ √X ├──────────■────────────┤ X ├──────┤ Rz(-7π/16) ├─────────────────────────────────────────────────────────────────────────────────────────────────────────────────────────────────────────────────────────────────\n",
              "           ├────────┤  ├────┤ └┬────────┤                                                                                 ┌───┐┌──────────┐          ┌───┐┌──────────┐┌───┐┌───┐ ┌────────────┐┌────┐┌────────┐   ┌─┴─┐   ┌──┴────┴──┐└────────┘   ┌─┴─┐   ┌───┴────┴──┐     ┌─┴─┐          ├───┤     ├─────────────┤    ├────┤   ├────────┤ ├───┤├──────────┤          ├───┤└┬──────────┬┘├───┤├───┤ ├────────────┤├────┤└┬────────┤   ┌─┴─┐    ┌──┴────┴──┐└────────┘    ┌─┴─┐     ┌───┴────┴──┐     ┌─┴─┐          ├───┤     ├─────────────┤    ├────┤   ├────────┤   ├───┤   ├──────────┤              ├───┤└┬──────────┬┘     ├───┤      ├───┤  ├────────────┤├────┤└┬────────┤    ┌─┴─┐    ┌──┴────┴──┐  └────────┘      ┌─┴─┐     ┌───┴────┴──┐     ┌─┴─┐          ├───┤     ├─────────────┤    ├────┤   ├────────┤   ├───┤   ├──────────┤              ├───┤└┬──────────┬┘     ├───┤      ├───┤  ├────────────┤├────┤└┬────────┤    ┌─┴─┐    ┌──┴────┴──┐  └────────┘      ┌─┴─┐     ┌───┴────┴──┐     ┌─┴─┐          ├───┤     ├─────────────┤    ├────┤   ├────────┤   ├───┤   ├──────────┤              ├───┤└┬──────────┬┘     ├───┤      ├───┤  ├────────────┤├────┤└┬────────┤    ┌─┴─┐    ┌──┴────┴──┐  └────────┘      ┌─┴─┐     ┌───┴────┴──┐     ┌─┴─┐          ├───┤     ├─────────────┤    ├────┤   ├────────┤   ├───┤   ├──────────┤              ├───┤└┬──────────┬┘     ├───┤      ├───┤  ├────────────┤├────┤└┬────────┤   ┌─┴─┐    ┌──┴────┴──┐└────────┘    ┌─┴─┐     ┌───┴────┴──┐     ┌─┴─┐          ├───┤     ├─────────────┤    ├────┤   ├────────┤ ├───┤├──────────┤          ├───┤└┬──────────┬┘├───┤├───┤ ├────────────┤├────┤└┬────────┤   ┌─┴─┐   ┌──┴────┴──┐└────────┘   ┌─┴─┐   ┌───┴────┴──┐     ┌─┴─┐          ├───┤     ┌┴────────────┤   ┌────┐    ┌────────┐  ┌───┐┌──────────┐          ┌───┐┌──────────┐┌───┐┌───┐┌───────────┐                                                                     \n",
              "q_7 -> 7 ──┤ Rz(-π) ├──┤ √X ├──┤ Rz(-π) ├─────────────────────────────────────────────────────────────────────────────────┤ X ├┤ Rz(-π/2) ├──────────┤ X ├┤ Rz(3π/8) ├┤ X ├┤ X ├─┤ Rz(-15π/8) ├┤ √X ├┤ Rz(-π) ├───┤ X ├───┤ Rz(-π/2) ├─────────────┤ X ├───┤ Rz(7π/16) ├─────┤ X ├──────────┤ X ├─────┤ Rz(-6.0868) ├────┤ √X ├───┤ Rz(-π) ├─┤ X ├┤ Rz(-π/2) ├──────────┤ X ├─┤ Rz(3π/8) ├─┤ X ├┤ X ├─┤ Rz(-15π/8) ├┤ √X ├─┤ Rz(-π) ├───┤ X ├────┤ Rz(-π/2) ├──────────────┤ X ├─────┤ Rz(7π/16) ├─────┤ X ├──────────┤ X ├─────┤ Rz(-6.0868) ├────┤ √X ├───┤ Rz(-π) ├───┤ X ├───┤ Rz(-π/2) ├──────────────┤ X ├─┤ Rz(3π/8) ├──────┤ X ├──────┤ X ├──┤ Rz(-15π/8) ├┤ √X ├─┤ Rz(-π) ├────┤ X ├────┤ Rz(-π/2) ├──────────────────┤ X ├─────┤ Rz(7π/16) ├─────┤ X ├──────────┤ X ├─────┤ Rz(-6.0868) ├────┤ √X ├───┤ Rz(-π) ├───┤ X ├───┤ Rz(-π/2) ├──────────────┤ X ├─┤ Rz(3π/8) ├──────┤ X ├──────┤ X ├──┤ Rz(-15π/8) ├┤ √X ├─┤ Rz(-π) ├────┤ X ├────┤ Rz(-π/2) ├──────────────────┤ X ├─────┤ Rz(7π/16) ├─────┤ X ├──────────┤ X ├─────┤ Rz(-6.0868) ├────┤ √X ├───┤ Rz(-π) ├───┤ X ├───┤ Rz(-π/2) ├──────────────┤ X ├─┤ Rz(3π/8) ├──────┤ X ├──────┤ X ├──┤ Rz(-15π/8) ├┤ √X ├─┤ Rz(-π) ├────┤ X ├────┤ Rz(-π/2) ├──────────────────┤ X ├─────┤ Rz(7π/16) ├─────┤ X ├──────────┤ X ├─────┤ Rz(-6.0868) ├────┤ √X ├───┤ Rz(-π) ├───┤ X ├───┤ Rz(-π/2) ├──────────────┤ X ├─┤ Rz(3π/8) ├──────┤ X ├──────┤ X ├──┤ Rz(-15π/8) ├┤ √X ├─┤ Rz(-π) ├───┤ X ├────┤ Rz(-π/2) ├──────────────┤ X ├─────┤ Rz(7π/16) ├─────┤ X ├──────────┤ X ├─────┤ Rz(-6.0868) ├────┤ √X ├───┤ Rz(-π) ├─┤ X ├┤ Rz(-π/2) ├──────────┤ X ├─┤ Rz(3π/8) ├─┤ X ├┤ X ├─┤ Rz(-15π/8) ├┤ √X ├─┤ Rz(-π) ├───┤ X ├───┤ Rz(-π/2) ├─────────────┤ X ├───┤ Rz(7π/16) ├─────┤ X ├──────────┤ X ├─────┤ Rz(-6.0868) ├───┤ √X ├────┤ Rz(-π) ├──┤ X ├┤ Rz(-π/2) ├──────────┤ X ├┤ Rz(3π/8) ├┤ X ├┤ X ├┤ Rz(-7π/8) ├─────────────────────────────────────────────────────────────────────\n",
              "         ┌─┴────────┴─┐└────┘  └────────┘          ┌────┐  ┌───────┐┌────┐     ┌─────────────┐┌────┐┌──────────────┐┌────┐└─┬─┘├──────────┤          └─┬─┘└──────────┘└─┬─┘└───┘ └────────────┘└────┘└────────┘   ├───┴┐  └┬────────┬┘             ├───┴┐  └───────────┘┌────┴───┴────┐     ├───┴┐    ├─────────────┴┐   ├────┤  ┌┴────────┴┐└─┬─┘└──────────┘          └─┬─┘ └──────────┘ └─┬─┘└───┘ └────────────┘└────┘ └────────┘   ├───┴┐   └┬────────┬┘              ├───┴┐    └───────────┘┌────┴───┴────┐     ├───┴┐    ├─────────────┴┐   ├────┤  ┌┴────────┴┐  └─┬─┘   └──────────┘              └─┬─┘ └──────────┘      └─┬─┘      └───┘  └────────────┘└────┘ └────────┘    ├───┴┐   └┬────────┬┘                  ├───┴┐    └───────────┘┌────┴───┴────┐     ├───┴┐    ├─────────────┴┐   ├────┤  ┌┴────────┴┐  └─┬─┘   └──────────┘              └─┬─┘ └──────────┘      └─┬─┘      └───┘  └────────────┘└────┘ └────────┘    ├───┴┐   └┬────────┬┘                  ├───┴┐    └───────────┘┌────┴───┴────┐     ├───┴┐    ├─────────────┴┐   ├────┤  ┌┴────────┴┐  └─┬─┘   └──────────┘              └─┬─┘ └──────────┘      └─┬─┘      └───┘  └────────────┘└────┘ └────────┘    ├───┴┐   └┬────────┬┘                  ├───┴┐    └───────────┘┌────┴───┴────┐     ├───┴┐    ├─────────────┴┐   ├────┤  ┌┴────────┴┐  └─┬─┘   └──────────┘              └─┬─┘ └──────────┘      └─┬─┘      └───┘  └────────────┘└────┘ └────────┘   ├───┴┐   └┬────────┬┘              ├───┴┐    └───────────┘┌────┴───┴────┐     ├───┴┐    ├─────────────┴┐   ├────┤  ┌┴────────┴┐└─┬─┘└──────────┘          └─┬─┘ └──────────┘ └─┬─┘└───┘ └────────────┘└────┘ └────────┘   ├───┴┐  └┬────────┬┘             ├───┴┐  └───────────┘┌────┴───┴────┐     ├───┴┐    └─┬──────────┬┘   ├───┬┘  ┌─┴────────┴─┐└─┬─┘└──────────┘          └─┬─┘└──────────┘└─┬─┘└───┘└───────────┘        ┌────┐  ┌───────┐┌────┐     ┌─────────────┐                  \n",
              "q_8 -> 8 ┤ Rz(2.6805) ├──────────────────────■─────┤ √X ├──┤ Rz(0) ├┤ √X ├──■──┤ Rz(-2.8173) ├┤ √X ├┤ Rz(-0.58243) ├┤ √X ├──┼──┤ Rz(-π/2) ├────────────┼────────────────┼────────────────────────────────■────────┤ √X ├───┤ Rz(2π) ├─────■────────┤ √X ├────────■──────┤ Rz(-1.3496) ├─────┤ √X ├────┤ Rz(-0.58243) ├───┤ √X ├──┤ Rz(-π/2) ├──┼──────────────────────────┼──────────────────┼─────────────────────────────────■────────┤ √X ├────┤ Rz(2π) ├─────■─────────┤ √X ├──────────■──────┤ Rz(-1.3496) ├─────┤ √X ├────┤ Rz(-0.58243) ├───┤ √X ├──┤ Rz(-π/2) ├────┼─────────────────────────────────┼───────────────────────┼────────────────────────────────────────■─────────┤ √X ├────┤ Rz(2π) ├───────■───────────┤ √X ├──────────■──────┤ Rz(-1.3496) ├─────┤ √X ├────┤ Rz(-0.58243) ├───┤ √X ├──┤ Rz(-π/2) ├────┼─────────────────────────────────┼───────────────────────┼────────────────────────────────────────■─────────┤ √X ├────┤ Rz(2π) ├───────■───────────┤ √X ├──────────■──────┤ Rz(-1.3496) ├─────┤ √X ├────┤ Rz(-0.58243) ├───┤ √X ├──┤ Rz(-π/2) ├────┼─────────────────────────────────┼───────────────────────┼────────────────────────────────────────■─────────┤ √X ├────┤ Rz(2π) ├───────■───────────┤ √X ├──────────■──────┤ Rz(-1.3496) ├─────┤ √X ├────┤ Rz(-0.58243) ├───┤ √X ├──┤ Rz(-π/2) ├────┼─────────────────────────────────┼───────────────────────┼────────────────────────────────────────■────────┤ √X ├────┤ Rz(2π) ├─────■─────────┤ √X ├──────────■──────┤ Rz(-1.3496) ├─────┤ √X ├────┤ Rz(-0.58243) ├───┤ √X ├──┤ Rz(-π/2) ├──┼──────────────────────────┼──────────────────┼─────────────────────────────────■────────┤ √X ├───┤ Rz(2π) ├─────■────────┤ √X ├────────■──────┤ Rz(-1.3496) ├─────┤ √X ├──────┤ Rz(-π/2) ├────┤ X ├───┤ Rz(2.6805) ├──┼──────────────────────────┼────────────────┼──────────────────────■─────┤ √X ├──┤ Rz(0) ├┤ √X ├──■──┤ Rz(-2.8173) ├──────────────────\n",
              "         └┬──────────┬┘┌────┐┌────────────┐┌─┴─┐┌──┴────┴─┐└───────┘└────┘┌─┴─┐├─────────────┤├────┤└─┬─────────┬──┘└────┘  │  └──┬────┬──┘┌────────┐  │     ┌────┐     │  ┌───┐┌─────────────┐┌────┐  ┌─┴─┐   ┌──┴────┴─┐ └────────┘   ┌─┴─┐   ┌──┴────┴─┐    ┌─┴─┐    └────┬───┬────┘┌────┴────┴───┐└────┬────┬────┘┌──┴────┴─┐└──────────┘  │     ┌────┐   ┌────────┐  │      ┌────┐      │  ┌───┐┌─────────────┐┌────┐   ┌─┴─┐   ┌──┴────┴─┐  └────────┘   ┌─┴─┐    ┌──┴────┴─┐      ┌─┴─┐    └────┬───┬────┘┌────┴────┴───┐└────┬────┬────┘┌──┴────┴─┐└──────────┘    │        ┌────┐     ┌────────┐    │      ┌────┐           │        ┌───┐ ┌─────────────┐┌────┐   ┌─┴─┐    ┌──┴────┴─┐  └────────┘     ┌─┴─┐      ┌──┴────┴─┐      ┌─┴─┐    └────┬───┬────┘┌────┴────┴───┐└────┬────┬────┘┌──┴────┴─┐└──────────┘    │        ┌────┐     ┌────────┐    │      ┌────┐           │        ┌───┐ ┌─────────────┐┌────┐   ┌─┴─┐    ┌──┴────┴─┐  └────────┘     ┌─┴─┐      ┌──┴────┴─┐      ┌─┴─┐    └────┬───┬────┘┌────┴────┴───┐└────┬────┬────┘┌──┴────┴─┐└──────────┘    │        ┌────┐     ┌────────┐    │      ┌────┐           │        ┌───┐ ┌─────────────┐┌────┐   ┌─┴─┐    ┌──┴────┴─┐  └────────┘     ┌─┴─┐      ┌──┴────┴─┐      ┌─┴─┐    └────┬───┬────┘┌────┴────┴───┐└────┬────┬────┘┌──┴────┴─┐└──────────┘    │        ┌────┐     ┌────────┐    │      ┌────┐           │        ┌───┐ ┌─────────────┐┌────┐   ┌─┴─┐   ┌──┴────┴─┐  └────────┘   ┌─┴─┐    ┌──┴────┴─┐      ┌─┴─┐    └────┬───┬────┘┌────┴────┴───┐└────┬────┬────┘┌──┴────┴─┐└──────────┘  │     ┌────┐   ┌────────┐  │      ┌────┐      │  ┌───┐┌─────────────┐┌────┐   ┌─┴─┐   ┌──┴────┴─┐ └────────┘   ┌─┴─┐   ┌──┴────┴─┐    ┌─┴─┐    └────┬───┬────┘┌────┴────┴───┐  └──┬────┬──┘ ┌──┴───┴──┐└────────────┘  │     ┌────┐   ┌────────┐  │     ┌────┐     │  ┌───┐┌───────────┐┌─┴─┐┌──┴────┴─┐└───────┘└────┘┌─┴─┐└─┬──────────┬┘┌────┐┌──────────┐\n",
              "q_9 -> 9 ─┤ Rz(-π/2) ├─┤ √X ├┤ Rz(2.9101) ├┤ X ├┤ Rz(π/4) ├───────────────┤ X ├┤ Rz(-1.0169) ├┤ √X ├──┤ Rz(π/2) ├───────────■─────┤ √X ├───┤ Rz(2π) ├──■─────┤ √X ├─────■──┤ X ├┤ Rz(-1.7423) ├┤ √X ├──┤ X ├───┤ Rz(π/2) ├──────────────┤ X ├───┤ Rz(π/4) ├────┤ X ├─────────┤ X ├─────┤ Rz(-3.3446) ├─────┤ √X ├─────┤ Rz(π/2) ├──────────────■─────┤ √X ├───┤ Rz(2π) ├──■──────┤ √X ├──────■──┤ X ├┤ Rz(-1.7423) ├┤ √X ├───┤ X ├───┤ Rz(π/2) ├───────────────┤ X ├────┤ Rz(π/4) ├──────┤ X ├─────────┤ X ├─────┤ Rz(-3.3446) ├─────┤ √X ├─────┤ Rz(π/2) ├────────────────■────────┤ √X ├─────┤ Rz(2π) ├────■──────┤ √X ├───────────■────────┤ X ├─┤ Rz(-1.7423) ├┤ √X ├───┤ X ├────┤ Rz(π/2) ├─────────────────┤ X ├──────┤ Rz(π/4) ├──────┤ X ├─────────┤ X ├─────┤ Rz(-3.3446) ├─────┤ √X ├─────┤ Rz(π/2) ├────────────────■────────┤ √X ├─────┤ Rz(2π) ├────■──────┤ √X ├───────────■────────┤ X ├─┤ Rz(-1.7423) ├┤ √X ├───┤ X ├────┤ Rz(π/2) ├─────────────────┤ X ├──────┤ Rz(π/4) ├──────┤ X ├─────────┤ X ├─────┤ Rz(-3.3446) ├─────┤ √X ├─────┤ Rz(π/2) ├────────────────■────────┤ √X ├─────┤ Rz(2π) ├────■──────┤ √X ├───────────■────────┤ X ├─┤ Rz(-1.7423) ├┤ √X ├───┤ X ├────┤ Rz(π/2) ├─────────────────┤ X ├──────┤ Rz(π/4) ├──────┤ X ├─────────┤ X ├─────┤ Rz(-3.3446) ├─────┤ √X ├─────┤ Rz(π/2) ├────────────────■────────┤ √X ├─────┤ Rz(2π) ├────■──────┤ √X ├───────────■────────┤ X ├─┤ Rz(-1.7423) ├┤ √X ├───┤ X ├───┤ Rz(π/2) ├───────────────┤ X ├────┤ Rz(π/4) ├──────┤ X ├─────────┤ X ├─────┤ Rz(-3.3446) ├─────┤ √X ├─────┤ Rz(π/2) ├──────────────■─────┤ √X ├───┤ Rz(2π) ├──■──────┤ √X ├──────■──┤ X ├┤ Rz(-1.7423) ├┤ √X ├───┤ X ├───┤ Rz(π/2) ├──────────────┤ X ├───┤ Rz(π/4) ├────┤ X ├─────────┤ X ├─────┤ Rz(-3.3446) ├─────┤ √X ├────┤ Rz(π/2) ├────────────────■─────┤ √X ├───┤ Rz(2π) ├──■─────┤ √X ├─────■──┤ X ├┤ Rz(-7π/8) ├┤ X ├┤ Rz(π/4) ├───────────────┤ X ├──┤ Rz(-π/4) ├─┤ √X ├┤ Rz(-π/2) ├\n",
              "          └──────────┘ └────┘└────────────┘└───┘└─────────┘               └───┘└─────────────┘└────┘  └─────────┘                 └────┘   └────────┘        └────┘        └───┘└─────────────┘└────┘  └───┘   └─────────┘              └───┘   └─────────┘    └───┘         └───┘     └─────────────┘     └────┘     └─────────┘                    └────┘   └────────┘         └────┘         └───┘└─────────────┘└────┘   └───┘   └─────────┘               └───┘    └─────────┘      └───┘         └───┘     └─────────────┘     └────┘     └─────────┘                         └────┘     └────────┘           └────┘                    └───┘ └─────────────┘└────┘   └───┘    └─────────┘                 └───┘      └─────────┘      └───┘         └───┘     └─────────────┘     └────┘     └─────────┘                         └────┘     └────────┘           └────┘                    └───┘ └─────────────┘└────┘   └───┘    └─────────┘                 └───┘      └─────────┘      └───┘         └───┘     └─────────────┘     └────┘     └─────────┘                         └────┘     └────────┘           └────┘                    └───┘ └─────────────┘└────┘   └───┘    └─────────┘                 └───┘      └─────────┘      └───┘         └───┘     └─────────────┘     └────┘     └─────────┘                         └────┘     └────────┘           └────┘                    └───┘ └─────────────┘└────┘   └───┘   └─────────┘               └───┘    └─────────┘      └───┘         └───┘     └─────────────┘     └────┘     └─────────┘                    └────┘   └────────┘         └────┘         └───┘└─────────────┘└────┘   └───┘   └─────────┘              └───┘   └─────────┘    └───┘         └───┘     └─────────────┘     └────┘    └─────────┘                      └────┘   └────────┘        └────┘        └───┘└───────────┘└───┘└─────────┘               └───┘  └──────────┘ └────┘└──────────┘"
            ]
          },
          "execution_count": 45,
          "metadata": {},
          "output_type": "execute_result"
        }
      ],
      "source": [
        "print_qc_characteristics(qc_opt)\n",
        "reduction_ratio = round(100-100*(get_qc_characteristics(qc_opt)['num_multi_qubit_ops']/get_qc_characteristics(qk_qc)['num_multi_qubit_ops']), 3)\n",
        "print(\"Reduction in two-qubit gates compared to qiskit {}%!\".format(reduction_ratio))\n",
        "qc_opt.draw(fold=-1)"
      ]
    },
    {
      "cell_type": "code",
      "execution_count": null,
      "metadata": {
        "colab": {
          "base_uri": "https://localhost:8080/"
        },
        "id": "1_mIB2XbWXHJ",
        "outputId": "cd149080-500b-43b0-fb69-db62c2a4b2bf"
      },
      "outputs": [
        {
          "name": "stdout",
          "output_type": "stream",
          "text": [
            "Own transpiler fidelity 0.3048\n",
            "Qiskit transpiler fidelity 0.6649\n",
            "Own optimized transpiler fidelity 0.9063\n"
          ]
        }
      ],
      "source": [
        "opt_transpiler_sim = noisy_sim(qc_opt, backend)\n",
        "\n",
        "print(\"Own transpiler fidelity\", round(hellinger_fidelity(own_transpiler_sim, reference_sim), 4))\n",
        "print(\"Qiskit transpiler fidelity\", round(hellinger_fidelity(qiskit_transpiler_sim, reference_sim), 4))\n",
        "print(\"Own optimized transpiler fidelity\", round(hellinger_fidelity(opt_transpiler_sim, reference_sim), 4))"
      ]
    },
    {
      "cell_type": "code",
      "execution_count": null,
      "metadata": {
        "id": "X_zZnBM6YHDp"
      },
      "outputs": [],
      "source": []
    },
    {
      "cell_type": "code",
      "execution_count": null,
      "metadata": {
        "id": "krhGRiOnXZN2"
      },
      "outputs": [],
      "source": [
        "class GatesPerQubit(AnalysisPass):\n",
        "    #Your work here - make sure you implement every abstract method defined in AnalysisPass (see https://docs.quantum.ibm.com/api/qiskit/qiskit.transpiler.AnalysisPass)\n",
        "    def run(self, dag):\n",
        "        self.property_set = {\"one_q_op\":{}, \"two_q_op\":{}}\n",
        "        ops = dag.op_nodes()\n",
        "        for op in dag.op_nodes():\n",
        "            if len(op.qargs)==1:\n",
        "                self.property_set[\"one_q_op\"][op.qargs[0]]+=1\n",
        "            if len(op.qargs)==2:\n",
        "                self.property_set[\"one_q_op\"][op.qargs[0]]+=1\n",
        "                self.property_set[\"one_q_op\"][op.qargs[1]]+=1\n",
        "\n",
        "\n",
        "    pass"
      ]
    },
    {
      "cell_type": "code",
      "execution_count": null,
      "metadata": {
        "colab": {
          "base_uri": "https://localhost:8080/"
        },
        "id": "xqHXOi11XuRJ",
        "outputId": "6389b1a3-1cf6-4c88-b962-51d5e4887db7"
      },
      "outputs": [
        {
          "name": "stdout",
          "output_type": "stream",
          "text": [
            "{'one_q_op': {Qubit(QuantumRegister(5, 'q'), 0): 0, Qubit(QuantumRegister(5, 'q'), 1): 0, Qubit(QuantumRegister(5, 'q'), 2): 0, Qubit(QuantumRegister(5, 'q'), 3): 0, Qubit(QuantumRegister(5, 'q'), 4): 0}, 'two_q_op': {Qubit(QuantumRegister(5, 'q'), 0): 0, Qubit(QuantumRegister(5, 'q'), 1): 0, Qubit(QuantumRegister(5, 'q'), 2): 0, Qubit(QuantumRegister(5, 'q'), 3): 0, Qubit(QuantumRegister(5, 'q'), 4): 0}}\n"
          ]
        }
      ],
      "source": [
        "class GatesPerQubit(AnalysisPass):\n",
        "    def run(self, dag):\n",
        "        # Initialize property_set with dictionaries for one- and two-qubit operations\n",
        "        self.property_set[\"one_q_op\"] = {qubit: 0 for qubit in dag.qubits}\n",
        "        self.property_set[\"two_q_op\"] = {qubit: 0 for qubit in dag.qubits}\n",
        "\n",
        "        # Loop over all operation nodes in the DAG\n",
        "        for op in dag.op_nodes():\n",
        "            if len(op.qargs) == 1:\n",
        "                self.property_set[\"one_q_op\"][op.qargs[0]] += 1\n",
        "            elif len(op.qargs) == 2:\n",
        "                self.property_set[\"two_q_op\"][op.qargs[0]] += 1\n",
        "                self.property_set[\"two_q_op\"][op.qargs[1]] += 1\n",
        "\n",
        "\n",
        "\n",
        "# Create a sample quantum circuit (e.g., a QFT circuit)\n",
        "qc = QFT(5)\n",
        "\n",
        "# Convert the quantum circuit to a DAG\n",
        "dag = circuit_to_dag(qc)\n",
        "\n",
        "# Create an instance of the GatesPerQubit pass\n",
        "gates_per_qubit_pass = GatesPerQubit()\n",
        "\n",
        "# Run the pass on the DAG\n",
        "gates_per_qubit_pass.run(dag)\n",
        "\n",
        "# Print the property_set containing the gate counts per qubit\n",
        "print(gates_per_qubit_pass.property_set)\n"
      ]
    },
    {
      "cell_type": "code",
      "execution_count": null,
      "metadata": {
        "colab": {
          "base_uri": "https://localhost:8080/"
        },
        "id": "awEzHGpMYRcd",
        "outputId": "aa85f9c8-8171-43b1-933c-3d1cca411077"
      },
      "outputs": [
        {
          "name": "stdout",
          "output_type": "stream",
          "text": [
            "Submitting your answer. Please wait...\n",
            "Congratulations 🎉! Your answer is correct and has been submitted.\n"
          ]
        }
      ],
      "source": [
        "# grade your work!\n",
        "grade_lab1_ex6(GatesPerQubit)"
      ]
    },
    {
      "cell_type": "code",
      "execution_count": null,
      "metadata": {
        "id": "mBMETVpGjeFa"
      },
      "outputs": [],
      "source": [
        "pg = Gate('Peres', 3, params=[], label='PG')"
      ]
    },
    {
      "cell_type": "code",
      "execution_count": null,
      "metadata": {
        "colab": {
          "base_uri": "https://localhost:8080/",
          "height": 125
        },
        "id": "qI0t1uG3kc1Z",
        "outputId": "aa05ceb5-5c41-4f03-8960-a685eca3c34e"
      },
      "outputs": [
        {
          "data": {
            "text/html": [
              "<pre style=\"word-wrap: normal;white-space: pre;background: #fff0;line-height: 1.1;font-family: &quot;Courier New&quot;,Courier,monospace\">     ┌─────┐\n",
              "q_0: ┤0    ├\n",
              "     │     │\n",
              "q_1: ┤1 PG ├\n",
              "     │     │\n",
              "q_2: ┤2    ├\n",
              "     └─────┘</pre>"
            ],
            "text/plain": [
              "     ┌─────┐\n",
              "q_0: ┤0    ├\n",
              "     │     │\n",
              "q_1: ┤1 PG ├\n",
              "     │     │\n",
              "q_2: ┤2    ├\n",
              "     └─────┘"
            ]
          },
          "execution_count": 53,
          "metadata": {},
          "output_type": "execute_result"
        }
      ],
      "source": [
        "qc_pg = QuantumCircuit(3)\n",
        "qc_pg.append(pg, [0, 1, 2])\n",
        "qc_pg.draw()"
      ]
    },
    {
      "cell_type": "code",
      "execution_count": null,
      "metadata": {
        "colab": {
          "base_uri": "https://localhost:8080/",
          "height": 206
        },
        "id": "T5N0QxegkfE0",
        "outputId": "6814abba-cf49-4fc9-fa67-ea19a18ebb29"
      },
      "outputs": [
        {
          "data": {
            "text/html": [
              "<pre style=\"word-wrap: normal;white-space: pre;background: #fff0;line-height: 1.1;font-family: &quot;Courier New&quot;,Courier,monospace\">     ┌──────┐          ┌───┐                                 ┌─────┐          ┌───┐               ┌───────┐\n",
              "q_0: ┤0     ├──■───────┤ X ├───────■─────────────────────────┤0    ├──■───────┤ X ├───────■───────┤0      ├\n",
              "     │      │  │       └─┬─┘┌───┐  │                  ┌─────┐│     │  │       └─┬─┘┌───┐  │       │       │\n",
              "q_1: ┤1     ├──┼────■────┼──┤ X ├──┼──────■───────────┤0    ├┤1    ├──┼────■────┼──┤ X ├──┼────■──┤1      ├\n",
              "     │      │  │    │    │  └─┬─┘  │      │    ┌─────┐│     ││     │  │    │    │  └─┬─┘  │    │  │       │\n",
              "q_2: ┤2 QFT ├──┼────┼────┼────┼────┼──────┼────┤0    ├┤1    ├┤  PG ├──┼────┼────┼────┼────┼────┼──┤2 IQFT ├\n",
              "     │      │  │  ┌─┴─┐  │    │    │    ┌─┴─┐  │     ││  PG ││     │  │  ┌─┴─┐  │    │    │  ┌─┴─┐│       │\n",
              "q_3: ┤3     ├──┼──┤ X ├──┼────■────┼────┤ X ├──┤1 PG ├┤     ├┤     ├──┼──┤ X ├──┼────■────┼──┤ X ├┤3      ├\n",
              "     │      │┌─┴─┐└───┘  │       ┌─┴─┐┌─┴───┴─┐│     ││     ││     │┌─┴─┐└───┘  │       ┌─┴─┐└───┘│       │\n",
              "q_4: ┤4     ├┤ X ├───────■───────┤ X ├┤ Rz(π) ├┤2    ├┤2    ├┤2    ├┤ X ├───────■───────┤ X ├─────┤4      ├\n",
              "     └──────┘└───┘               └───┘└───────┘└─────┘└─────┘└─────┘└───┘               └───┘     └───────┘</pre>"
            ],
            "text/plain": [
              "     ┌──────┐          ┌───┐                                 ┌─────┐          ┌───┐               ┌───────┐\n",
              "q_0: ┤0     ├──■───────┤ X ├───────■─────────────────────────┤0    ├──■───────┤ X ├───────■───────┤0      ├\n",
              "     │      │  │       └─┬─┘┌───┐  │                  ┌─────┐│     │  │       └─┬─┘┌───┐  │       │       │\n",
              "q_1: ┤1     ├──┼────■────┼──┤ X ├──┼──────■───────────┤0    ├┤1    ├──┼────■────┼──┤ X ├──┼────■──┤1      ├\n",
              "     │      │  │    │    │  └─┬─┘  │      │    ┌─────┐│     ││     │  │    │    │  └─┬─┘  │    │  │       │\n",
              "q_2: ┤2 QFT ├──┼────┼────┼────┼────┼──────┼────┤0    ├┤1    ├┤  PG ├──┼────┼────┼────┼────┼────┼──┤2 IQFT ├\n",
              "     │      │  │  ┌─┴─┐  │    │    │    ┌─┴─┐  │     ││  PG ││     │  │  ┌─┴─┐  │    │    │  ┌─┴─┐│       │\n",
              "q_3: ┤3     ├──┼──┤ X ├──┼────■────┼────┤ X ├──┤1 PG ├┤     ├┤     ├──┼──┤ X ├──┼────■────┼──┤ X ├┤3      ├\n",
              "     │      │┌─┴─┐└───┘  │       ┌─┴─┐┌─┴───┴─┐│     ││     ││     │┌─┴─┐└───┘  │       ┌─┴─┐└───┘│       │\n",
              "q_4: ┤4     ├┤ X ├───────■───────┤ X ├┤ Rz(π) ├┤2    ├┤2    ├┤2    ├┤ X ├───────■───────┤ X ├─────┤4      ├\n",
              "     └──────┘└───┘               └───┘└───────┘└─────┘└─────┘└─────┘└───┘               └───┘     └───────┘"
            ]
          },
          "execution_count": 54,
          "metadata": {},
          "output_type": "execute_result"
        }
      ],
      "source": [
        "def get_qc_in(nq):\n",
        "    # QFT circuit, feel free to use a previously defined pass manager for the QFT circuit\n",
        "    qc_qft = QFT(nq, do_swaps=False)\n",
        "    # part of the circuit including the Peres gate\n",
        "    qc_inner = QuantumCircuit(nq)\n",
        "    for i in range(1, nq-1):\n",
        "        qc_inner.append(pg, [nq-i-2, nq-i-1, nq-1])\n",
        "\n",
        "    qc_in = QuantumCircuit(nq)\n",
        "    # add QFT circuit to qc_in\n",
        "    qc_in.compose(qc_qft, range(nq), inplace=True)\n",
        "\n",
        "    # perform swap gates\n",
        "    for i in range(nq // 2):\n",
        "        qc_in.cx(i, nq - i - 1)\n",
        "        qc_in.cx( nq - i - 1, i)\n",
        "        qc_in.cx(i, nq - i - 1)\n",
        "\n",
        "    qc_in.rz(pi, nq-1)\n",
        "    # add circuit with peres gates\n",
        "    qc_in.compose(qc_inner, range(nq), inplace=True)\n",
        "\n",
        "    # perform swap gates\n",
        "    for i in range(nq // 2):\n",
        "        qc_in.cx(i, nq - i - 1)\n",
        "        qc_in.cx( nq - i - 1, i)\n",
        "        qc_in.cx(i, nq - i - 1)\n",
        "    # add inverse QFT circuit\n",
        "    qc_in.compose(qc_qft.inverse(), range(nq), inplace=True)\n",
        "    return qc_in\n",
        "\n",
        "nq = 5\n",
        "qc_in = get_qc_in(nq)\n",
        "qc_in.draw(fold=-1)"
      ]
    },
    {
      "cell_type": "code",
      "execution_count": null,
      "metadata": {
        "id": "shPgmJ5Vkhb3"
      },
      "outputs": [],
      "source": [
        "class PeresGateTranslation(TransformationPass):\n",
        "    def get_peres_decomposition(self):\n",
        "        qcsx = QuantumCircuit(2)\n",
        "        qcsx.rz(pi / 4, 0)\n",
        "        qcsx.rz(pi / 2, 1)\n",
        "        qcsx.sx(1)\n",
        "        qcsx.rz(pi / 2, 1)\n",
        "        qcsx.cx(0, 1)\n",
        "        qcsx.rz(-pi / 4, 1)\n",
        "        qcsx.cx(0, 1)\n",
        "        qcsx.rz(3 * pi / 4, 1)\n",
        "        qcsx.sx(1)\n",
        "        qcsx.rz(pi / 2, 1)\n",
        "\n",
        "        qcsx_inv = QuantumCircuit(2)\n",
        "        qcsx_inv.rz(pi / 4, 1)\n",
        "        qcsx_inv.cx(0, 1)\n",
        "        qcsx_inv.rz(-pi / 4, 1)\n",
        "        qcsx_inv.cx(0, 1)\n",
        "        qcsx_inv.rz(pi / 2, 0)\n",
        "        qcsx_inv.rz(pi / 2, 1)\n",
        "        qcsx_inv.cx(0, 1)\n",
        "        qcsx_inv.rz(pi / 2, 1)\n",
        "        qcsx_inv.sx(1)\n",
        "        qcsx_inv.rz(-3 * pi / 4, 1)\n",
        "        qcsx_inv.sx(1)\n",
        "        qcsx_inv.cx(0, 1)\n",
        "        qcsx_inv.sx(1)\n",
        "        qcsx_inv.rz(-3 * pi / 4, 1)\n",
        "        qcsx_inv.sx(1)\n",
        "        qcsx_inv.rz(-3 * pi / 4, 1)\n",
        "        qcsx_inv.cx(0, 1)\n",
        "        qcsx_inv.rz(-pi / 4, 1)\n",
        "        qcsx_inv.cx(0, 1)\n",
        "        qcsx_inv.rz(pi / 4, 0)\n",
        "\n",
        "        qc_dec = QuantumCircuit(3)\n",
        "        qc_dec.cx(0, 1)\n",
        "        qc_dec.cx(1, 0)\n",
        "        qc_dec.cx(0, 1)\n",
        "        qc_dec.compose(qcsx, [1, 2], inplace=True)\n",
        "        qc_dec.cx(0, 1)\n",
        "        qc_dec.cx(1, 0)\n",
        "        qc_dec.cx(0, 1)\n",
        "        qc_dec.compose(qcsx, [1, 2], inplace=True)\n",
        "        qc_dec.cx(0, 1)\n",
        "        qc_dec.compose(qcsx_inv, [1, 2], inplace=True)\n",
        "        qc_dec.cx(0, 1)\n",
        "        qc_dec.cx(0, 1)\n",
        "        return qc_dec\n",
        "    def run(self, dag):\n",
        "        peres_decomposition = self.get_peres_decomposition()\n",
        "        for node in dag.named_nodes('Peres'):\n",
        "\n",
        "            decomposition_dag = circuit_to_dag(QuantumCircuit(3).compose(peres_decomposition))\n",
        "            dag.substitute_node_with_dag(node, decomposition_dag)\n",
        "        return dag\n"
      ]
    },
    {
      "cell_type": "code",
      "execution_count": null,
      "metadata": {
        "colab": {
          "base_uri": "https://localhost:8080/"
        },
        "id": "7ndyi9QXkqUi",
        "outputId": "12f751ac-ea80-49af-9999-7d2a3bb7a98e"
      },
      "outputs": [
        {
          "name": "stdout",
          "output_type": "stream",
          "text": [
            "Submitting your answer. Please wait...\n",
            "Congratulations 🎉! Your answer is correct and has been submitted.\n"
          ]
        }
      ],
      "source": [
        "# grade your work!\n",
        "grade_lab1_ex7(PeresGateTranslation, pg)"
      ]
    },
    {
      "cell_type": "code",
      "execution_count": null,
      "metadata": {
        "id": "v6q_c8mfqQOU"
      },
      "outputs": [],
      "source": []
    }
  ],
  "metadata": {
    "colab": {
      "provenance": []
    },
    "kernelspec": {
      "display_name": "Python 3",
      "name": "python3"
    },
    "language_info": {
      "name": "python"
    }
  },
  "nbformat": 4,
  "nbformat_minor": 0
}
